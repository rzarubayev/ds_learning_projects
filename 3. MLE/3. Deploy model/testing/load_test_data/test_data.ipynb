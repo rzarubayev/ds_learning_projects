{
 "cells": [
  {
   "cell_type": "code",
   "execution_count": null,
   "metadata": {},
   "outputs": [],
   "source": [
    "%pip install -r requirements.txt -q"
   ]
  },
  {
   "cell_type": "code",
   "execution_count": 3,
   "metadata": {},
   "outputs": [],
   "source": [
    "# Импорт библиотек, классов и функций\n",
    "import os\n",
    "import json\n",
    "\n",
    "import pandas as pd\n",
    "import uuid\n",
    "from dotenv import load_dotenv\n",
    "from sqlalchemy import create_engine\n",
    "from sklearn.model_selection import train_test_split"
   ]
  },
  {
   "cell_type": "code",
   "execution_count": 4,
   "metadata": {},
   "outputs": [],
   "source": [
    "# Загрузка и объвление констант\n",
    "load_dotenv(\".env\")\n",
    "\n",
    "# Таблица БД - хранилище признаков без очистки и преобразований\n",
    "TBL = 'flats_fstore' \n",
    "\n",
    "# Креды для подключения к БД\n",
    "PG_HOST = os.environ.get(\"PG_HOST\")\n",
    "PG_PORT = os.environ.get(\"PG_PORT\")\n",
    "PG_USER = os.environ.get(\"PG_USER\")\n",
    "PG_PASS = os.environ.get(\"PG_PASS\")\n",
    "PG_DB = os.environ.get(\"PG_DB\")\n",
    "CON_STR = f'postgresql://{PG_USER}:{PG_PASS}@{PG_HOST}:{PG_PORT}/{PG_DB}'\n",
    "\n",
    "RANDOM_STATE = 42 # Ответ на главный вопрос жизни, вселенной и всего\n",
    "\n",
    "# Размер тестовой выборки\n",
    "TEST_SIZE = .25 "
   ]
  },
  {
   "cell_type": "code",
   "execution_count": 5,
   "metadata": {},
   "outputs": [],
   "source": [
    "# Функция подключения к базе данных и получение датасета\n",
    "def get_data(con_str=CON_STR, tbl=TBL):\n",
    "    con = create_engine(con_str)\n",
    "    result = pd.read_sql(f\"select * from {tbl}\", con)\n",
    "    con.dispose()\n",
    "    return result "
   ]
  },
  {
   "cell_type": "code",
   "execution_count": null,
   "metadata": {},
   "outputs": [],
   "source": [
    "data = get_data()\n",
    "data.info()"
   ]
  },
  {
   "cell_type": "code",
   "execution_count": null,
   "metadata": {},
   "outputs": [],
   "source": [
    "# Оценка значений для корзин гистограммы prometheus\n",
    "data.query(\"price < 1.5e8\")[\"price\"].plot.hist(bins=100, figsize=(14, 5))\n"
   ]
  },
  {
   "cell_type": "code",
   "execution_count": null,
   "metadata": {},
   "outputs": [],
   "source": [
    "# Разделение датасета\n",
    "test = data.sample(500, random_state=RANDOM_STATE)\n",
    "test.info()"
   ]
  },
  {
   "cell_type": "code",
   "execution_count": 9,
   "metadata": {},
   "outputs": [],
   "source": [
    "# Сокращение датасета до n_count случайных записей с необходимыми признаками\n",
    "n_count = 500\n",
    "test.drop(columns=\"price\", inplace=True)\n",
    "# Добавление id для использования в качестве user_id\n",
    "test[\"UUID\"] = [uuid.uuid4() for _ in range(n_count)]\n",
    "test.set_index(\"UUID\", inplace=True)\n",
    "# Сохранение в json файл в удобном формате (транспонированно)\n",
    "test.T.to_json(\"../test_stress.json\")"
   ]
  },
  {
   "cell_type": "code",
   "execution_count": 10,
   "metadata": {},
   "outputs": [],
   "source": [
    "# Получение случайной записи для одиночного тестирования\n",
    "test.sample(1, random_state=RANDOM_STATE).iloc[0].to_json(\"../test.json\")"
   ]
  },
  {
   "cell_type": "code",
   "execution_count": null,
   "metadata": {},
   "outputs": [],
   "source": [
    "# Проверка выгруженного \n",
    "with open(\"../test.json\", \"r\") as fd:\n",
    "    example = json.load(fd)\n",
    "pd.DataFrame(example, index=[0])"
   ]
  },
  {
   "cell_type": "code",
   "execution_count": null,
   "metadata": {},
   "outputs": [],
   "source": [
    "import joblib\n",
    "\n",
    "with open(\"../../services/models/flats_price/outlier_processor.pkl\", \"rb\") as fd:\n",
    "    outl_proc = joblib.load(fd)\n",
    "\n",
    "clean_data = outl_proc.transform(data)\n",
    "clean_data"
   ]
  },
  {
   "cell_type": "code",
   "execution_count": null,
   "metadata": {},
   "outputs": [],
   "source": [
    "clean_data = data.drop(columns=[\"id\", \"studio\"])\n",
    "\n",
    "clean_data[\"building_type_int\"] = clean_data[\"building_type_int\"].astype(\"str\")\n",
    "clean_data.rename(columns={\"building_type_int\": \"building_type\"}, inplace=True)\n",
    "clean_data"
   ]
  },
  {
   "cell_type": "code",
   "execution_count": null,
   "metadata": {},
   "outputs": [],
   "source": [
    "with open(\"../../services/models/flats_price/feat_processor.pkl\", \"rb\") as fd:\n",
    "    feat_proc = joblib.load(fd)\n",
    "feat_proc.transform(clean_data.drop(columns=[\"price\"]).sample(1, random_state=RANDOM_STATE))"
   ]
  }
 ],
 "metadata": {
  "kernelspec": {
   "display_name": ".venv",
   "language": "python",
   "name": "python3"
  },
  "language_info": {
   "codemirror_mode": {
    "name": "ipython",
    "version": 3
   },
   "file_extension": ".py",
   "mimetype": "text/x-python",
   "name": "python",
   "nbconvert_exporter": "python",
   "pygments_lexer": "ipython3",
   "version": "3.10.12"
  }
 },
 "nbformat": 4,
 "nbformat_minor": 2
}
