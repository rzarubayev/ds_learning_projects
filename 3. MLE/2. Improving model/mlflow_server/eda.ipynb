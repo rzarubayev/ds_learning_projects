{
 "cells": [
  {
   "cell_type": "markdown",
   "metadata": {},
   "source": [
    "# Предсказание цен Яндекс Недвижимости"
   ]
  },
  {
   "cell_type": "markdown",
   "metadata": {},
   "source": [
    "**Цель**: Улучшение коммуникации между арендодателями/продавцами и потенциальными арендаторами/покупателями путем предоставления объективной внешней оценки стоимости квартиры.\n",
    "\n",
    "**Задача**: Разработка MVP алгоритма на основе машинного обучения для оценки рыночной стоимости квартиры по её характеристикам.\n",
    "\n",
    "**Заказчик**: Продакт-менеджмент Яндекс Недвижимость.\n",
    "\n",
    "**Исходные данные**: Данные о квартирах и домах из сервиса Яндекс Недвижимость., собранные посредством Airflow в таблице `flats_fstore` на сервере."
   ]
  },
  {
   "cell_type": "code",
   "execution_count": null,
   "metadata": {},
   "outputs": [],
   "source": [
    "# Импорт библиотек, классов и функций\n",
    "import os\n",
    "import numpy as np\n",
    "import pandas as pd\n",
    "import plotly.express as px\n",
    "import seaborn as sns\n",
    "import sweetviz as sv\n",
    "from IPython.display import display\n",
    "from sqlalchemy import create_engine\n",
    "from sklearn.base import BaseEstimator, TransformerMixin"
   ]
  },
  {
   "cell_type": "code",
   "execution_count": null,
   "metadata": {},
   "outputs": [],
   "source": [
    "# Определение констант и настройка\n",
    "RANDOM_STATE = 42 # Ответ на главный вопрос жизни, вселенной и всего\n",
    "TEST_SIZE = .25\n",
    "TBL = 'flats_fstore' # хранилище признаков без очистки и преобразований\n",
    "\n",
    "# Креды для подключения к БД\n",
    "PG_HOST = os.environ.get(\"PG_HOST\")\n",
    "PG_PORT = os.environ.get(\"PG_PORT\")\n",
    "PG_USER = os.environ.get(\"PG_USER\")\n",
    "PG_PASS = os.environ.get(\"PG_PASS\")\n",
    "PG_DB = os.environ.get(\"PG_DB\")\n",
    "CON_STR = f'postgresql://{PG_USER}:{PG_PASS}@{PG_HOST}:{PG_PORT}/{PG_DB}'"
   ]
  },
  {
   "cell_type": "markdown",
   "metadata": {},
   "source": [
    "## Загрузка данных"
   ]
  },
  {
   "cell_type": "code",
   "execution_count": null,
   "metadata": {},
   "outputs": [],
   "source": [
    "# Функция подключения к базе данных и получение датасета\n",
    "def get_data(con_str=CON_STR, tbl=TBL):\n",
    "    con = create_engine(con_str)\n",
    "    result = pd.read_sql(f\"select * from {tbl}\", con)\n",
    "    con.dispose()\n",
    "    return result "
   ]
  },
  {
   "cell_type": "code",
   "execution_count": null,
   "metadata": {},
   "outputs": [],
   "source": [
    "# Загрузка данных\n",
    "data = get_data()\n",
    "data.info()"
   ]
  },
  {
   "cell_type": "markdown",
   "metadata": {},
   "source": [
    "Хранилище признаков содержит 141'362 записи, пропуски отсутствуют. Таблица состоит из следующих 17 полей:\n",
    "- `id` — ID квартиры,\n",
    "- `rooms` — количество комнат,\n",
    "- `total_area` — общая площадь квартиры,\n",
    "- `kitchen_area` — площадь кухни,\n",
    "- `living_area` — площадь гостиной,\n",
    "- `floor` — этаж, на котором находится квартира,\n",
    "- `studio` — является ли квартира студией,\n",
    "- `is_apartment` — является ли квартира апартаментами,\n",
    "- `building_type_int` — тип здания,\n",
    "- `build_year` — год постройки,\n",
    "- `latitude` — широта, на которой находится дом,\n",
    "- `longitude` — долгота, на которой находится дом,\n",
    "- `ceiling_height` — высота потолков в здании,\n",
    "- `flats_count` — общее количество квартир,\n",
    "- `floors_total` — общее количество этажей,\n",
    "- `has_elevator` — наличие лифта.\n",
    "- `price` — цена квартиры,\n",
    "\n",
    "Признак признак `price` является целевым, а признак `id` не будет использоваться для обучения модели и будет удален. Перейдем к обзору датасета."
   ]
  },
  {
   "cell_type": "markdown",
   "metadata": {},
   "source": [
    "## Общий обзор датасета"
   ]
  },
  {
   "cell_type": "code",
   "execution_count": null,
   "metadata": {},
   "outputs": [],
   "source": [
    "# Вывод отчета SweetVIZ\n",
    "report_floor = sv.analyze(data)\n",
    "report_floor.show_notebook()"
   ]
  },
  {
   "cell_type": "markdown",
   "metadata": {},
   "source": [
    "По признакам датасета можно отметить следующее:\n",
    "1. Из 17 признаков предположительно 4 являются категориальными (`is_apartment`, `studio`, `building_type_int` и `has_elevator`), а остальные числовыми.\n",
    "2. По признаку `studio` имеется только значение `False`. Возможно в датасет не выгружаются квартиры-студии, соответственно данный признак будет лишним для обучения модели. По признаку `is_apartment` основная масса записей (более 99%) имеет значение `False`, также порядка 90% всех квартир имеют в доме лифт.\n",
    "3. Имеются большие выбросы в признаках площади (`kitchen_area`, `living_area`, `total_area`), а также в признаках `rooms`, `ceiling_height` и целевом признаке `price`.\n",
    "4. Достаточно большое количество нулевых значений в признаках `kitchen_area` (8%) и `living_area` (13%).\n",
    "\n",
    "По целевому признаку наибольшая корреляция наблюдается с числовыми признаками `total_area` (0.42), `rooms` (0.26), `ceiling_height` (0.22) и `living_area` (0.18), а также с категориальной `building_type_int`. Оценим признаки датасета."
   ]
  },
  {
   "cell_type": "markdown",
   "metadata": {},
   "source": [
    "### Дубликаты в данных\n",
    "\n",
    "Оценим количество явных дубликатов в датасете."
   ]
  },
  {
   "cell_type": "code",
   "execution_count": null,
   "metadata": {},
   "outputs": [],
   "source": [
    "feature_cols = data.drop(columns=[\"id\"]).columns.to_list()\n",
    "print(\"Количество неявных дубликатов:\",\n",
    "      data.duplicated(subset=feature_cols).sum())"
   ]
  },
  {
   "cell_type": "markdown",
   "metadata": {},
   "source": [
    "Вероятнее всего это одни и те же квартиры, так как объявления на продажу могут подаваться как ее хозяином, так и посредником (и возможно не одним). Также могут продаваться однотипные квартиры по одному адресу, например в новостройках. Так как дубликаты не несут дополнительной информации для моделей машинного обучения, избавимся от дублирующихся записей."
   ]
  },
  {
   "cell_type": "code",
   "execution_count": null,
   "metadata": {},
   "outputs": [],
   "source": [
    "data = data.drop_duplicates(subset=feature_cols).reset_index(drop=True)\n",
    "print(\"Размер датасета после удаления дубликатов:\", data.shape[0])\n",
    "del feature_cols"
   ]
  },
  {
   "cell_type": "markdown",
   "metadata": {},
   "source": [
    "## Анализ признаков для модели"
   ]
  },
  {
   "cell_type": "markdown",
   "metadata": {},
   "source": [
    "### Количество комнат\n",
    "\n",
    "По количеству комнат значения начинаются с 1, а максимальное значение доходит до 20-ти. Основная масса квартир до 4-х комнат, это порядка 95% от датасета, а на квартиры более 6-ти комнат приходится менее 0,2%. Оценим распределение комнат по цене в разрезе типов зданий. Так как имеются большие выбросы по целевому признаку, график построим с логарифмической шкалой."
   ]
  },
  {
   "cell_type": "code",
   "execution_count": null,
   "metadata": {},
   "outputs": [],
   "source": [
    "fig = px.strip(\n",
    "    data, x=\"rooms\", y=\"price\", color=\"building_type_int\", log_y=True,\n",
    "    title=\"Диаграмма рассеяния количества комнат к цене по типам зданий\",\n",
    "    labels={\"price\": \"Цена\", \"rooms\": \"Количество комнат\", \"building_type_int\": \"Тип здания\"},\n",
    "    category_orders={\"building_type_int\": range(7)}\n",
    ")\n",
    "fig.show(renderer=\"png\", width=1400)"
   ]
  },
  {
   "cell_type": "markdown",
   "metadata": {},
   "source": [
    "Заметен рост стоимости квартир по мере увеличения количества комнат, однако рост нелинейный. Так как данная шкала логарифмическая, вероятнее всего имеется степенная зависимость между количеством комнат и стоимостью квартиры. Также по типу здания заметно, что более высокие значения типа здания представлены преимущественно для квартир с меньшим количеством комнат и по мере их роста увеличивается преобладание меньших значений типа здания. Можно сделать предположение, что численные типы зданий могут означать различные классы зданий - от элитного до эконом, однако могут иметь и соврешнно иную основу.\n",
    "\n",
    "Дополнительно заметна группа квартир, стоимость которых существенно ниже основной массы, количество комнат в основном от 1 до 3, но таких объявлений немного.\n",
    "\n",
    "Чтобы избавиться от выбросов - возможных некорректных и/или редких значений количества комнат, ограничим значения данного признака в пределах от 1 до значений не превышающих 1.5-кратный межквартильный размах свыше 3-го квартиля. Все значения, выходящие за пределы этого промежутка подлежат удалению. Подготовим фукнцию, которая будет определять, является или нет значение выбросом."
   ]
  },
  {
   "cell_type": "code",
   "execution_count": null,
   "metadata": {},
   "outputs": [],
   "source": [
    "# Функция для поиска выбросов\n",
    "def is_outlier(\n",
    "    df: pd.DataFrame, target: str, min_val: int | None = None, \n",
    "    max_val: int | None = None, threshold=1.5\n",
    ") -> pd.Series:\n",
    "    Q1 = df[target].quantile(0.25)\n",
    "    Q3 = df[target].quantile(0.75)\n",
    "    min_val = max(Q1 - threshold * (Q3 - Q1), min_val) if min_val else Q1 - threshold * (Q3 - Q1)\n",
    "    print(\"Минимальное значение ниже которого выбросы:\", min_val)\n",
    "    max_val = min(threshold * (Q3 - Q1) + Q3, max_val) if max_val else Q3 + threshold * (Q3 - Q1)\n",
    "    print(\"Максимальное значение выше которого выбросы:\", max_val)\n",
    "    return (df[target] < min_val) | (df[target] > max_val)"
   ]
  },
  {
   "cell_type": "code",
   "execution_count": null,
   "metadata": {},
   "outputs": [],
   "source": [
    "print(\"Количество выбросов признака rooms:\", is_outlier(data, \"rooms\", 1).sum())"
   ]
  },
  {
   "cell_type": "markdown",
   "metadata": {},
   "source": [
    "Исключим выбросы по признаку rooms:"
   ]
  },
  {
   "cell_type": "code",
   "execution_count": null,
   "metadata": {},
   "outputs": [],
   "source": [
    "data = data[~is_outlier(data, \"rooms\", min_val=1)]\n",
    "print(\"Количество записей после удаления выбросов:\", data.shape[0])"
   ]
  },
  {
   "cell_type": "markdown",
   "metadata": {},
   "source": [
    "### Площадь"
   ]
  },
  {
   "cell_type": "markdown",
   "metadata": {},
   "source": [
    "В датасете представлены 3 вида площади:\n",
    "- Общая площадь `total_area`;\n",
    "- Площадь кухни `kitchen_area`;\n",
    "- Жилая площадь `living_area`."
   ]
  },
  {
   "cell_type": "markdown",
   "metadata": {},
   "source": [
    "**Общая площадь** имеет большой разброс значений в пределах от 11 до более 960 квадратных метров. Наибольшая корреляция с признаком количества комнат. Также имеется корреляция с другими площадями (жилая / кузня) и высотой потолков, а в части категориальных - с типом здания. Оценим распределение количества комнат к общей площади в разрезе типов здания."
   ]
  },
  {
   "cell_type": "code",
   "execution_count": null,
   "metadata": {},
   "outputs": [],
   "source": [
    "fig = px.strip(\n",
    "    data, x=\"rooms\", y=\"total_area\", color=\"building_type_int\", \n",
    "    title=\"Диаграмма рассеяния количества комнат к цене по типам зданий\",\n",
    "    labels={\"total_area\": \"Общая площадь\", \"rooms\": \"Количество комнат\", \"building_type_int\": \"Тип здания\"},\n",
    "    category_orders={\"building_type_int\": range(7)}\n",
    ")\n",
    "fig.show(renderer=\"png\", width=1400)"
   ]
  },
  {
   "cell_type": "markdown",
   "metadata": {},
   "source": [
    "По графику заметно, что по мере увеличения количества комнат увеличивается и общая площадь. Также для более распространенных типов зданий заметно ранжирование внутри каждой группы по количеству комнат, а также изменение соотношения одних типов зданий с другими по мере увеличения количества комнат. Наиболее приемлемым вариантом в таком случае будет отсеивать выбросы в разрезе количества комнат и типов зданий.\n",
    "\n",
    "Оценим распределение крайних значений для выбросов на основе межквартильного интервала."
   ]
  },
  {
   "cell_type": "code",
   "execution_count": null,
   "metadata": {},
   "outputs": [],
   "source": [
    "data.groupby(\n",
    "    [\"rooms\", \"building_type_int\"]\n",
    ")[\"total_area\"].quantile(\n",
    "    [0, .01, .05, .25, .5, .75, .95, .99, 1]\n",
    ").to_frame().unstack().droplevel(0, axis=1).apply(\n",
    "    lambda x: pd.Series({\n",
    "        \"min\": x[0.00], \"min_out\": x[0.25] - 1.5 * (x[0.75] - x[0.25]), \"1%\": x[0.01], \n",
    "        \"5%\": x[0.05], \"Q1\": x[0.25], \"Q2\": x[0.50], \"Q3\":x[0.75], \"95%\": x[0.95], \n",
    "        \"99%\": x[0.99], \"max_out\": x[0.75] + 1.5 * (x[0.75] - x[0.25]), \"max\": x[1.00]\n",
    "}), axis=1).style.background_gradient(\n",
    "    cmap=sns.diverging_palette(250, 25, as_cmap=True), axis=1\n",
    ").format(\"{:,.2f}\")"
   ]
  },
  {
   "cell_type": "markdown",
   "metadata": {},
   "source": [
    "Предоставленные данные имеют достаточно сложное распределение, для некоторых значений площади межквартильный размах явно занижает максимальные значения для определения выброса, либо сильно превосходит имеющиеся значения. Чаще всего пользователи достаточно ответственно подходят к указанию общей площади, однако лучше отсекать сильно отличающиеся значения, на случай ошибок в заполнении. \n",
    "\n",
    "Доработаем функцию для возможности указания групп, по которым нужно проводить оценку выбросов на основе межквартильного размаха. И справним какое количество значений признается выбросом с учетом и без учета групп. Для минимального значения площади установим 6 квадратных метров, т.к. это минимальнае допустимае законодательством площадь для одного человека по санитарным нормам. Максимальное значение также будет ограничено 1.5 кратным межквартильным размахом от 3-го квартиля."
   ]
  },
  {
   "cell_type": "code",
   "execution_count": null,
   "metadata": {},
   "outputs": [],
   "source": [
    "# Добавление в функцию возможности группировки\n",
    "def is_outlier(\n",
    "    df: pd.DataFrame, target: str, by: list | None = None,\n",
    "    min_val: int | None = None, max_val: int | None = None, \n",
    "    threshold=1.5, verbose=False\n",
    ") -> pd.Series:\n",
    "    df = df.copy()\n",
    "    if by is None:\n",
    "        if verbose: print(\"Выбросы без группировки\")\n",
    "        Q1 = df[target].quantile(0.25)\n",
    "        Q3 = df[target].quantile(0.75)\n",
    "        min_val = max(Q1 - threshold * (Q3 - Q1), min_val) if min_val else Q1 - threshold * (Q3 - Q1)\n",
    "        if verbose: print(\"Минимальное значения для признания выбросом:\", min_val)\n",
    "        max_val = min(threshold * (Q3 - Q1) + Q3, max_val) if max_val else Q3 + threshold * (Q3 - Q1)\n",
    "        if verbose: print(\"Максимальное значения для признания выбросом:\", max_val)\n",
    "    else:\n",
    "        if verbose: print(f\"Выбросы с группировкой по {by}\")\n",
    "        # Получение межквартильного отклонения для каждой группы\n",
    "        vals = df.groupby(\n",
    "            by=by)[target].quantile([.25, .75]).to_frame().unstack().droplevel(0, axis=1).apply(\n",
    "            lambda x:\n",
    "            pd.Series({\n",
    "                \"min_val\": x[0.25] - threshold * (x[0.75] - x[0.25]),\n",
    "                \"max_val\": x[0.75] + threshold * (x[0.75] - x[0.25])\n",
    "            }), axis=1\n",
    "        )\n",
    "        # Добавление ограничений минимального и максимального значения\n",
    "        if min_val: vals.loc[vals[\"min_val\"] < min_val, \"min_val\"] = min_val\n",
    "        if max_val: vals.loc[vals[\"max_val\"] > max_val, \"max_val\"] = max_val\n",
    "        if verbose:\n",
    "            print(\"Значения для признания выбросом:\")\n",
    "            print(vals.T)\n",
    "        # Добавление ограничений к каждой записи датасета by\n",
    "        vals = df.join(vals, on=by)[[\"min_val\", \"max_val\"]]\n",
    "        min_val = vals[\"min_val\"]\n",
    "        max_val = vals[\"max_val\"]\n",
    "    return (df[target] < min_val) | (df[target] > max_val)"
   ]
  },
  {
   "cell_type": "code",
   "execution_count": null,
   "metadata": {},
   "outputs": [],
   "source": [
    "print(\"Количество выбросов признака rooms (с группировкой):\", \n",
    "      is_outlier(\n",
    "          data, \"total_area\", by=[\"rooms\", \"building_type_int\"], \n",
    "          min_val=6, verbose=True).sum())\n",
    "print()\n",
    "print(\"Количество выбросов признака rooms (без группировки):\", \n",
    "      is_outlier(data, \"total_area\", min_val=6, verbose=True).sum())"
   ]
  },
  {
   "cell_type": "markdown",
   "metadata": {},
   "source": [
    "В случае применения группировки по признакам, выбросами признаются 3819 записей, а без применения группировки признается практически в 2 раза больше записей. Произведем очистку от выбросов по признаку `total_area` с группировкой по `rooms` и `building_type_int`. Возможно более оптимальным решением будет увеличить коэффициент межквартильного размаха, однако такой вопрос лучше урегулировать с Заказчиком."
   ]
  },
  {
   "cell_type": "code",
   "execution_count": null,
   "metadata": {},
   "outputs": [],
   "source": [
    "data = data[~is_outlier(\n",
    "    data, \"total_area\", by=[\"rooms\", \"building_type_int\"], min_val=6)].copy()\n",
    "print(\"Количество записей после удаления выбросов:\", data.shape[0])"
   ]
  },
  {
   "cell_type": "markdown",
   "metadata": {},
   "source": [
    "**Площадь кухни** имеет довольно большое количество нулевых значений в исходном датасете - порядка 8.3%, значения больше 0 начинаются с 1.5 квадратных метра и доходит до 203. Площадь кухни обычно заполняется более ответственно, однако ее необходимо рассматривать совместно с общей и жилой площадью.\n",
    "\n",
    "**Жилая площадь** имеет еще больше нулевых значений в исходном датасете - 13.1%, значения более 0 начинаются с 2 квадратов и доходят до 700. Вероятнее всего нулевые значения просто не были заполнены пользователями. Проверим не выходят ли суммарные значения площади кухни и жилой площади за значения общей площади."
   ]
  },
  {
   "cell_type": "code",
   "execution_count": null,
   "metadata": {},
   "outputs": [],
   "source": [
    "display(data[(data[\"kitchen_area\"] + data[\"living_area\"]) > data[\"total_area\"]])\n",
    "print(f\"Среднее отношение площади кухни к общей: {(data['kitchen_area'] / data['total_area']).mean():.2%}\")\n",
    "print(f\"Среднее отношение жилой площади к общей: {(data['living_area'] / data['total_area']).mean():.2%}\")"
   ]
  },
  {
   "cell_type": "markdown",
   "metadata": {},
   "source": [
    "В измененном датасете имеется 139 записей, в которых суммарная площадь кухни и жилой превышает общую площадь. По таким данным можно отметить, что встречаются некорректные значения как площади кухни, так и жилой площади. Также некоторые значения очень близки и могут быть вызваны погрешностью типа float в Python. Однако жилая площадь рассчитывается не только за исключением кухни, но и прихожих, санузлов и прочих нежилых помещений. \n",
    "\n",
    "Лучше исправить некорректные значения на медиану по каждой группе в разрезе количества комнат и типа здания. Однако имея только площадь кухни или жилую невозможно определить насколько корректно она заполнена, необходимо оценить соотношение к общей площади. Дополним функцию поиска выбросов для обеспечения возможности определить их по соотношению к другому признаку."
   ]
  },
  {
   "cell_type": "code",
   "execution_count": null,
   "metadata": {},
   "outputs": [],
   "source": [
    "# Добавление возможности осуществлять оценку соотношения (разделить на другое поле)\n",
    "# и исключение нулевых значений для рассчета выбросов\n",
    "def is_outlier(\n",
    "    df: pd.DataFrame, target: str, divider: str | None = None, out_val: int | None = None,\n",
    "    by: list | None = None, min_val: int | None = None, max_val: int | None = None, \n",
    "    threshold = 1.5, verbose = False,\n",
    ") -> pd.Series:\n",
    "    df = df.copy()\n",
    "    if divider is not None:\n",
    "        df[target] = df[target] / df[divider]\n",
    "    if by is None:\n",
    "        if verbose: print(\"Выбросы без группировки\")\n",
    "        Q1 = df[target].quantile(.25) if out_val is None else df.query(f\"{target} != {out_val}\").quantile(.25)\n",
    "        Q3 = df[target].quantile(.75) if out_val is None else df.query(f\"{target} != {out_val}\").quantile(.75)\n",
    "        min_val = max(Q1 - threshold * (Q3 - Q1), min_val) if min_val else Q1 - threshold * (Q3 - Q1)\n",
    "        if verbose: print(\"Минимальное значения для признания выбросом:\", min_val)\n",
    "        max_val = min(threshold * (Q3 - Q1) + Q3, max_val) if max_val else Q3 + threshold * (Q3 - Q1)\n",
    "        if verbose: print(\"Максимальное значения для признания выбросом:\", max_val)\n",
    "    else:\n",
    "        if verbose: print(f\"Выбросы с группировкой по {by}\")\n",
    "        # Получение межквартильного отклонения для каждой группы\n",
    "        vals = df.groupby(\n",
    "            by=by)[target].quantile([.25, .75]).to_frame().unstack().droplevel(0, axis=1).apply(\n",
    "                lambda x:\n",
    "                pd.Series({\n",
    "                    \"min_val\": x[0.25] - threshold * (x[0.75] - x[0.25]),\n",
    "                    \"max_val\": x[0.75] + threshold * (x[0.75] - x[0.25])\n",
    "                }), axis=1\n",
    "        ) if out_val is None else df.query(f\"{target} != {out_val}\").groupby(\n",
    "            by=by)[target].quantile([.25, .75]).to_frame().unstack().droplevel(0, axis=1).apply(\n",
    "                lambda x:\n",
    "                pd.Series({\n",
    "                    \"min_val\": x[0.25] - threshold * (x[0.75] - x[0.25]),\n",
    "                    \"max_val\": x[0.75] + threshold * (x[0.75] - x[0.25])\n",
    "                }), axis=1\n",
    "        )\n",
    "        # Добавление ограничений минимального и максимального значения\n",
    "        if min_val is not None: vals.loc[vals[\"min_val\"] < min_val, \"min_val\"] = min_val\n",
    "        if max_val is not None: vals.loc[vals[\"max_val\"] > max_val, \"max_val\"] = max_val\n",
    "        if verbose:\n",
    "            print(\"Значения для признания выбросом:\")\n",
    "            print(vals.T)\n",
    "        # Определение ограничений каждой записи датасета\n",
    "        vals = df.join(vals, on=by)[[\"min_val\", \"max_val\"]]\n",
    "        min_val = vals[\"min_val\"]\n",
    "        max_val = vals[\"max_val\"]\n",
    "    return (df[target] < min_val) | (df[target] > max_val) | (df[target] == out_val)"
   ]
  },
  {
   "cell_type": "markdown",
   "metadata": {},
   "source": [
    " Оценим количество выбросов в оставшемся датасете."
   ]
  },
  {
   "cell_type": "code",
   "execution_count": null,
   "metadata": {},
   "outputs": [],
   "source": [
    "kitchen_outs = is_outlier(\n",
    "    data, \"kitchen_area\", divider=\"total_area\", \n",
    "    out_val=0, by=[\"rooms\", \"building_type_int\"],\n",
    ")\n",
    "\n",
    "living_outs = is_outlier(\n",
    "    data, \"living_area\", divider=\"total_area\",\n",
    "    out_val=0, by=[\"rooms\", \"building_type_int\"]\n",
    ")\n",
    "\n",
    "print(f\"Некорректные значения площади кухни: {kitchen_outs.mean():.2%}\")\n",
    "print(f\"Некорректные значения жилой площади: {living_outs.mean():.2%}\")\n",
    "print(f\"Всего уникальных некорректных записей: {(kitchen_outs | living_outs).mean():.2%}\")"
   ]
  },
  {
   "cell_type": "markdown",
   "metadata": {},
   "source": [
    "Практически 19.5% записей вероятно заполнены некорректно. Заполним такие данные медианой по группам."
   ]
  },
  {
   "cell_type": "code",
   "execution_count": null,
   "metadata": {},
   "outputs": [],
   "source": [
    "# Функция для рассчета медианы\n",
    "def get_agg_values(\n",
    "    data: pd.DataFrame, target: str, divider: str | None = None,\n",
    "    by: list | None = None, round_n = 2, func=\"median\"\n",
    ") -> pd.Series:\n",
    "    result = data[target].copy()\n",
    "    if by is None:\n",
    "        result = result.transform(func=func)\n",
    "    else:\n",
    "        if divider is not None:\n",
    "            result = result / data[divider]\n",
    "        result = data[by].join(result.rename(\"result\"))\n",
    "        result = result.groupby(by).transform(func=func)[\"result\"]\n",
    "        if divider is not None:\n",
    "            result = round(result * data[divider], round_n)\n",
    "    return result"
   ]
  },
  {
   "cell_type": "code",
   "execution_count": null,
   "metadata": {},
   "outputs": [],
   "source": [
    "# Исключение некорректных значений для рассчета медианы\n",
    "data.loc[kitchen_outs, \"kitchen_area\"] = np.nan\n",
    "data.loc[living_outs, \"living_area\"] = np.nan\n",
    "\n",
    "# Получение медианных значений по датасету \n",
    "kitchen_median = get_agg_values(\n",
    "    data, \"kitchen_area\", divider=\"total_area\", by=[\"rooms\", \"building_type_int\"]\n",
    ")\n",
    "living_median = get_agg_values(\n",
    "    data, \"living_area\", divider=\"total_area\", by=[\"rooms\", \"building_type_int\"]\n",
    ")\n",
    "\n",
    "# Запись медианных значений в датасет\n",
    "data.loc[kitchen_outs, \"kitchen_area\"] = kitchen_median[kitchen_outs]\n",
    "print(\"По признаку kitchen_area произведена замена записей:\",\n",
    "      (data[\"kitchen_area\"] == kitchen_median).sum())\n",
    "data.loc[living_outs, \"living_area\"] = living_median[living_outs]\n",
    "print(\"По признаку living_area произведена замена записей:\",\n",
    "      (data[\"living_area\"] == living_median).sum())"
   ]
  },
  {
   "cell_type": "markdown",
   "metadata": {},
   "source": [
    "Произведено исправление вероятно некорректно заполненных значений. Можно отметить, что фактические значения площади кухни и жилой площади не несут большой информации для модели, лучше было бы рассмотреть их отношение к общей площади."
   ]
  },
  {
   "cell_type": "markdown",
   "metadata": {},
   "source": [
    "### Этаж\n",
    "\n",
    "По признаку этажа наименьшее значение - 1. Необходимо проверить, не превышает ли этаж квартиры максимальное количество этажей в здании."
   ]
  },
  {
   "cell_type": "code",
   "execution_count": null,
   "metadata": {},
   "outputs": [],
   "source": [
    "print(\"Количество квартир, этаж которых выше этажности здания:\",\n",
    "      (data[\"floor\"] > data[\"floors_total\"]).sum())"
   ]
  },
  {
   "cell_type": "markdown",
   "metadata": {},
   "source": [
    "В датасете отсутствуют квартиры, этаж которых превышает этажность здания, возможно осуществляется такая проверка при создании объявлений.\n",
    "\n",
    "Вероятно полезным было бы выделить квартиры, находящиеся на первом и последнем этажах. Оценим среднюю стоимость квадратного метра для таких квартир по сравнению с остальными."
   ]
  },
  {
   "cell_type": "code",
   "execution_count": null,
   "metadata": {},
   "outputs": [],
   "source": [
    "fig = px.histogram(\n",
    "    x=data[\"price\"] / data[\"total_area\"],\n",
    "    y=data.apply(\n",
    "        lambda x: \"Последний\" if x[\"floor\"] == x[\"floors_total\"] else \n",
    "        \"Первый\" if x[\"floor\"] == 1 else \"Другой\",\n",
    "        axis=1\n",
    "    ), category_orders={\"y\": [\"Первый\", \"Последний\", \"Другой\"]},\n",
    "    title=\"Средняя цена квадратного метра по этажу\",\n",
    "    labels={\"y\": \"Этаж\"}, histfunc=\"avg\"\n",
    ")\n",
    "fig.update_layout(xaxis_title=\"Средняя цена за кв. метр\")\n",
    "fig.show(renderer=\"png\", width=1400)"
   ]
  },
  {
   "cell_type": "markdown",
   "metadata": {},
   "source": [
    "Средняя цена за квадратный метр первого этажа значительно ниже средней цены других этажей, при этом последний этаж влияет на цену не так существенно.\n",
    "\n",
    "Стоит отметить наличие в датасете не только этажности здания, но и количества квартир `floors_total` в здании. По таким данным можно приблизительно рассчитать плотность квартир на этаж, что может дополнительно подсказать оценочный размер здания - \"муравейник\" или \"башня\". Если бы датасет содержал также количество подъездов, можно было бы более точно определить плотность квартир. \n",
    "\n",
    "Дополнительно можно оценить влияние средней цены за квадратный метр этажа квартиры в домах без лифта."
   ]
  },
  {
   "cell_type": "code",
   "execution_count": null,
   "metadata": {},
   "outputs": [],
   "source": [
    "fig = px.histogram(\n",
    "    x=data[\"floor\"], y=data[\"price\"] / data[\"total_area\"],\n",
    "    color=data[\"has_elevator\"], barmode=\"group\",\n",
    "    title=\"Средняя цена квадратного метра по этажу и наличию лифта\",\n",
    "    labels={\"x\": \"Этаж\", \"color\": \"Лифт\"}, histfunc=\"avg\"\n",
    ")\n",
    "fig.update_layout(yaxis_title=\"Средняя цена за кв. метр\")\n",
    "fig.show(renderer=\"png\", width=1400)"
   ]
  },
  {
   "cell_type": "markdown",
   "metadata": {},
   "source": [
    "Вероятно в датасете имеются ошибки по признаку наличия лифта. Сложно представить дома с квартирами на 40-м этаже в здании без лифта. При этом сильно выделяется средняя стоимость квадратного метра выше 5 этажа. Квартиры до 5 этажа включительно вероятнее всего относятся к большой массе 5-этажных домов, где обычно лифт действительно отсутствует. Квартиры выше 5-го этажа без лифта существенно отличаются средней ценой от остальной массы квартир."
   ]
  },
  {
   "cell_type": "markdown",
   "metadata": {},
   "source": [
    "### Студии и Апартаменты\n",
    "\n",
    "Признак `studio` представлен только значением `False`, вероятно доступные нам данные отфильтрованы по этому признаку, однако сам признак остался. Исключим данный столбец. "
   ]
  },
  {
   "cell_type": "code",
   "execution_count": null,
   "metadata": {},
   "outputs": [],
   "source": [
    "data.drop(columns=\"studio\", inplace=True)\n",
    "print(\"Новый размер датасета:\", data.shape)"
   ]
  },
  {
   "cell_type": "markdown",
   "metadata": {},
   "source": [
    "По апартаментам можно отметить наличие слабой корреляции с признаком типа здания. Оценим к каким типам здания относятся апартаменты."
   ]
  },
  {
   "cell_type": "code",
   "execution_count": null,
   "metadata": {},
   "outputs": [],
   "source": [
    "fig = px.histogram(\n",
    "    data.query(\"is_apartment == True\"), x=\"building_type_int\",\n",
    "    title=\"Распределение апартаментов по типам зданий\",\n",
    "    labels={\"building_type_int\": \"Тип здания\", \"count\": \"количество\"}\n",
    ")\n",
    "fig.update_layout(bargap=0.2)\n",
    "fig.show(renderer=\"png\", width=1400)"
   ]
  },
  {
   "cell_type": "markdown",
   "metadata": {},
   "source": [
    "Основная масса апартаментов располагается в зданиях типа `2`, при этом имеется немалое количество в зданиях типа `4` и `1`, в зданиях других типов количество апартаментов минимально, а в зданиях типа `5` отсутствуют. Вероятно, в виду отсутствия апартаментов в зданиях типа `5` данные эти признаки показывают наличие корреляции."
   ]
  },
  {
   "cell_type": "markdown",
   "metadata": {},
   "source": [
    "### Тип здания"
   ]
  },
  {
   "cell_type": "code",
   "execution_count": null,
   "metadata": {},
   "outputs": [],
   "source": [
    "fig = px.histogram(\n",
    "    data, x=\"building_type_int\", histfunc=\"count\",\n",
    "    title=\"Распределение типов зданий в выборке\",\n",
    "    labels={\"building_type_int\": \"Тип здания\"}\n",
    ")\n",
    "fig.update_layout(yaxis_title=\"Количество\", bargap=0.2)\n",
    "fig.show(renderer=\"png\", width=1400)"
   ]
  },
  {
   "cell_type": "markdown",
   "metadata": {},
   "source": [
    "Основная масса зданий приходится на 4-й тип, достаточно большое количество зданий приходится на 2-й и 1-й типы зданий. Немного ниже количество зданий типа 6. Наименьшее количестов зданий приходится на типы 3 и 0, а меньше всего 5."
   ]
  },
  {
   "cell_type": "code",
   "execution_count": null,
   "metadata": {},
   "outputs": [],
   "source": [
    "fig = px.histogram(\n",
    "    data, x=\"building_type_int\", y=\"price\", histfunc=\"avg\", \n",
    "    title=\"Средние значения цены по типу здания\",\n",
    "    labels={\"count\": \"Средняя цена\", \"building_type_int\": \"Тип здания\"}\n",
    ")\n",
    "fig.update_layout(yaxis_title=\"Средняя цена\", bargap=0.2)\n",
    "fig.show(renderer=\"png\", width=1400)"
   ]
  },
  {
   "cell_type": "markdown",
   "metadata": {},
   "source": [
    "Наибольшая средняя цена приходится на 3 тип зданий, остальные в среднем существенно дешевле. Данный признак явно является категориальным, причем признак имеет нелинейное отношение к целевому. Для более точной оценки необходимо сравнить с ценой квадратного метра."
   ]
  },
  {
   "cell_type": "code",
   "execution_count": null,
   "metadata": {},
   "outputs": [],
   "source": [
    "fig = px.histogram(\n",
    "    x=data[\"building_type_int\"], y=data[\"price\"] / data[\"total_area\"],\n",
    "    title=\"Средняя цена за квадрат по типу здания\",\n",
    "    labels={\"x\": \"Тип здания\"}, histfunc=\"avg\"\n",
    ")\n",
    "fig.update_layout(yaxis_title=\"Средняя цена\", bargap=0.2)\n",
    "fig.show(renderer=\"png\", width=1400)"
   ]
  },
  {
   "cell_type": "markdown",
   "metadata": {},
   "source": [
    "Значения средней цены за квадратный метр существенно ближе. Однако также наблюдается отсутствие прямой или обратной зависимости значений с целевым признаком. Данный признак явно является категориальным и не имеет порядковой составляющей, по крайне мере по отношению к целевому признаку, соответственно лучше его преобразовать в текст, чтобы в дальнейшем его было легче определить как категориальный."
   ]
  },
  {
   "cell_type": "code",
   "execution_count": null,
   "metadata": {},
   "outputs": [],
   "source": [
    "data[\"building_type_int\"] = data[\"building_type_int\"].astype(\"str\")\n",
    "data.rename(columns={\"building_type_int\": \"building_type\"}, inplace=True)\n",
    "data[\"building_type\"].unique()"
   ]
  },
  {
   "cell_type": "markdown",
   "metadata": {},
   "source": [
    "### Картография\n",
    "\n",
    "Данные по широте и долготе распределены в пределах одного градуса и в целом не выглядят аномально. Оценим расположение случайных 5000 точек на карте."
   ]
  },
  {
   "cell_type": "code",
   "execution_count": null,
   "metadata": {},
   "outputs": [],
   "source": [
    "fig = px.scatter_mapbox(\n",
    "    data_frame=data.sample(5000, random_state=RANDOM_STATE), \n",
    "    lat=\"latitude\", lon=\"longitude\", hover_name=\"rooms\",\n",
    "    mapbox_style=\"open-street-map\", zoom=8)\n",
    "fig.update_layout(margin={\"r\":0,\"t\":0,\"l\":0,\"b\":0})\n",
    "fig.show()"
   ]
  },
  {
   "cell_type": "markdown",
   "metadata": {},
   "source": [
    "Судя по карте датасет состоит из квартир города Москва. Преобразование данных не требуется.\n",
    "\n",
    "Вероятно полезным было бы добавление в датасет информации о расстоянии до ближайших социально значимых объектов, таких как станции метро, школы, детские сады, парки и другие, а также расстояние до центра города."
   ]
  },
  {
   "cell_type": "markdown",
   "metadata": {},
   "source": [
    "### Высота потолков\n",
    "\n",
    "Высота потолков начинается с 2 метров и доходит до максимального значения в 27, второе максимальное значение - 8 метров. В целом в сервисе Яндекс Недвижимость можно встретить двухуровневые и более квартиры со вторым светом, высота потолков которых может доходить до 8 метров или даже выше, однако значение в 27 метров возможно является ошибкой. Для обучения модели лучше ограничим значение высоты потолков от 2-х до 10-ти метров."
   ]
  },
  {
   "cell_type": "code",
   "execution_count": null,
   "metadata": {},
   "outputs": [],
   "source": [
    "data = data.query(\"2 <= ceiling_height <= 10\")\n",
    "print(\"Новый размер датасета:\", data.shape)"
   ]
  },
  {
   "cell_type": "markdown",
   "metadata": {},
   "source": [
    "### Другие признаки дома\n",
    "\n",
    "По остальным признакам, относящимся к характеристикам дома аномалии не наблюдаются. Признаки останутся без преобразования."
   ]
  },
  {
   "cell_type": "markdown",
   "metadata": {},
   "source": [
    "## Анализ целевой переменной\n",
    "\n",
    "По целевому признаку в исходном датасете были большие выбросы. Возможно от части выбросов удалось избавиться в предыдущих этапах. Оценим распределение целевого признака после произведенных преобразований."
   ]
  },
  {
   "cell_type": "code",
   "execution_count": null,
   "metadata": {},
   "outputs": [],
   "source": [
    "fig = px.box(data, x=\"price\", title=\"Boxplot для целевого признака\", labels={\"price\": \"Цена\"})\n",
    "fig.show(renderer=\"png\", width=1400)"
   ]
  },
  {
   "cell_type": "markdown",
   "metadata": {},
   "source": [
    "Очень большой разброс по цене, основные значения существенно ниже чем максимальные. Взглянем на данные с ограничением по максимальному значению."
   ]
  },
  {
   "cell_type": "code",
   "execution_count": null,
   "metadata": {},
   "outputs": [],
   "source": [
    "fig = px.box(data, x=\"price\", title=\"Boxplot для целевого признака (до 100'000'000)\", labels={\"price\": \"Цена\"})\n",
    "fig.update_xaxes(range=[0, 1e8])\n",
    "fig.show(renderer=\"png\", width=1400)"
   ]
  },
  {
   "cell_type": "markdown",
   "metadata": {},
   "source": [
    "Разброс целевого признака очень большой, основная масса сотредоточена в нижней части значений в пределах до 30 000 000, однако рассматривать целевой признак как есть не имеет смысла, нужно оценить разброс значений не по общей стоимости квартиры, а по стоимости квадратного метра."
   ]
  },
  {
   "cell_type": "code",
   "execution_count": null,
   "metadata": {},
   "outputs": [],
   "source": [
    "fig = px.box(\n",
    "    x=data[\"price\"] / data[\"total_area\"], \n",
    "    title=\"Boxplot для цены за квадратный метр\",\n",
    "    labels={\"x\": \"Цена за кв. метр\"}\n",
    ")\n",
    "fig.show(renderer=\"png\", width=1400)"
   ]
  },
  {
   "cell_type": "markdown",
   "metadata": {},
   "source": [
    "По цене за квадратный метр наблюдается близкая картина - имеются сильные выбросы. Оценим основную массу значений."
   ]
  },
  {
   "cell_type": "code",
   "execution_count": null,
   "metadata": {},
   "outputs": [],
   "source": [
    "fig = px.box(\n",
    "    x=data[\"price\"] / data[\"total_area\"], \n",
    "    title=\"Boxplot для цены за квадратный метр (до 500'000)\",\n",
    "    labels={\"x\": \"Цена за кв. метр\"}\n",
    ")\n",
    "fig.update_xaxes(range=[0, 500000])\n",
    "fig.show(renderer=\"png\", width=1400)"
   ]
  },
  {
   "cell_type": "markdown",
   "metadata": {},
   "source": [
    "### Анализ целевой переменной в зависимости от различных признаков"
   ]
  },
  {
   "cell_type": "markdown",
   "metadata": {},
   "source": [
    "По целевому признаку наибольшая корреляция наблюдается с признаками площади `total_area` (0.76), `living_area` (0.73) и `kitchen_area` (0.55), другими числовыми признаками `rooms` (0.62) и `ceiling_height` (0.44) , а также с категориальной `building_type_int` (0.48). Оценим признаки датасета."
   ]
  },
  {
   "cell_type": "markdown",
   "metadata": {},
   "source": [
    "Взглянем на взаимосвязь целевого признака с наиболее коррелирующим признаком общей площади, а также в разрезе наиболее коррелирующего категориального признака типа дома. "
   ]
  },
  {
   "cell_type": "code",
   "execution_count": null,
   "metadata": {},
   "outputs": [],
   "source": [
    "fig = px.scatter(\n",
    "    data, x=\"price\", y=\"total_area\", color=\"building_type\",\n",
    "    height=600, title=\"Диаграмма рассеяния цен квартир по площади в разрезе типов зданий\",\n",
    "    labels={\"price\": \"Цена\", \"total_area\": \"Общая площадь\", \"building_type\": \"Тип здания\"},\n",
    "    category_orders={\"building_type\":[str(x) for x in range(7)]}\n",
    ")\n",
    "fig.show(renderer=\"png\", width=1400)"
   ]
  },
  {
   "cell_type": "markdown",
   "metadata": {},
   "source": [
    "В связи с очень большими выбросами ограничим вывод цены до 100 000 000."
   ]
  },
  {
   "cell_type": "code",
   "execution_count": null,
   "metadata": {},
   "outputs": [],
   "source": [
    "fig = px.scatter(\n",
    "    data, x=\"price\", y=\"total_area\", color=\"building_type\",\n",
    "    height=600, title=\"Диаграмма рассеяния цен квартир по площади в разрезе типов зданий (до 100'000'000)\",\n",
    "    labels={\"price\": \"Цена\", \"total_area\": \"Общая площадь\", \"building_type\": \"Тип здания\"},\n",
    "    category_orders={\"building_type\":[str(x) for x in range(7)]}\n",
    ")\n",
    "fig.update_xaxes(range=[0, 1e8])\n",
    "fig.show()"
   ]
  },
  {
   "cell_type": "markdown",
   "metadata": {},
   "source": [
    "Можно отметить, что некоторые цены являются довольно популярными (вертикальные полосы из точек), куда попадают квартиры с различной общей площадью. Зависимость цены квартиры от площади нелинейна, причем имеются довольно большой разброс значений по цене. Судя по всему существенное влияние на такой большой разброс цен может также оказывать расположение квартир в различных районах города."
   ]
  },
  {
   "cell_type": "code",
   "execution_count": null,
   "metadata": {},
   "outputs": [],
   "source": [
    "# Определение глубины округления широты/долготы\n",
    "round_scale = 2\n",
    "geo_step = 10 ** -round_scale / 2\n",
    "\n",
    "# Получение аггрегирующих данных\n",
    "map_data = pd.DataFrame({\n",
    "    \"lat\": data[\"latitude\"].round(round_scale), \n",
    "    \"lon\": data[\"longitude\"].round(round_scale), \n",
    "    \"price\": data[\"price\"] / data[\"total_area\"]\n",
    "}).groupby(by=[\"lat\", \"lon\"])[\"price\"].agg([\"min\", \"median\", \"max\"]).reset_index().reset_index()\n",
    "\n",
    "# Получение сетки для вывода на карте\n",
    "geojson = {\n",
    "    \"type\": \"FeatureCollection\",\n",
    "    \"features\": map_data.apply(\n",
    "        lambda x:\n",
    "        {   \n",
    "            \"type\": \"Feature\",\n",
    "            \"geometry\": {\n",
    "                \"type\": \"Polygon\",\n",
    "                \"coordinates\": [[\n",
    "                    [x[\"lon\"]-geo_step, x[\"lat\"]-geo_step],\n",
    "                    [x[\"lon\"]+geo_step, x[\"lat\"]-geo_step],\n",
    "                    [x[\"lon\"]+geo_step, x[\"lat\"]+geo_step],\n",
    "                    [x[\"lon\"]-geo_step, x[\"lat\"]+geo_step],\n",
    "                    [x[\"lon\"]-geo_step, x[\"lat\"]-geo_step]\n",
    "                ]]\n",
    "            },\n",
    "            \"properties\": {\n",
    "                \"id\": x[\"index\"],\n",
    "                \"min\": x[\"min\"],\n",
    "                \"med\": x[\"median\"],\n",
    "                \"max\": x[\"max\"]\n",
    "            }\n",
    "        }, axis=1\n",
    "    ).to_list()\n",
    "}\n",
    "\n",
    "# Вывод тепловой карты по регионам\n",
    "fig = px.choropleth_mapbox(\n",
    "    map_data, geojson=geojson, color=\"median\",\n",
    "    locations=\"index\", featureidkey=\"properties.id\",\n",
    "    color_continuous_scale=\"Bluered\",\n",
    "    mapbox_style=\"open-street-map\", zoom=8, opacity=0.8,\n",
    "    center={\"lat\": map_data[\"lat\"].mean(), \"lon\": map_data[\"lon\"].mean()}\n",
    ")\n",
    "fig.update_layout(margin={\"r\":0,\"t\":0,\"l\":0,\"b\":0})\n",
    "fig.show()"
   ]
  },
  {
   "cell_type": "markdown",
   "metadata": {},
   "source": [
    "По средней цене за квадратный метр можно отметить довольно высокие цены вблизи центра Москвы, а также местами в западной части города. Обработку выбросов для целевого признака некорректно проводить без привязки к местоположению квартиры, так как разные местоположения достаточно сильно влияют на целевой признак. \n",
    "\n",
    "Добавим группировку по широте и долготе, однако для этого необходимо округлить значения до 2-го разряда дробной части, так как дробные разряды более 2 дают слишком маленький размер региона. Доработаем функцию определения выбросов, в том числе с учетом обработки без использования межквартильного размаха (для высоты потолка).\n"
   ]
  },
  {
   "cell_type": "code",
   "execution_count": null,
   "metadata": {},
   "outputs": [],
   "source": [
    "# Добавление округления значений столбцов для группировки и статичных ограничений (без межквартильного размаха)\n",
    "def is_outlier(\n",
    "    df: pd.DataFrame, target: str, divider: str | None = None,  out_val: int | None = None,\n",
    "    by: list | None = None, by_round: dict | None = None, min_val: int | None = None, \n",
    "    max_val: int | None = None, threshold: float | None = 1.5, verbose = False,\n",
    ") -> pd.Series:\n",
    "    df = df.copy()\n",
    "    if divider is not None:\n",
    "        df[target] = df[target] / df[divider]\n",
    "    if by is None:\n",
    "        if verbose: print(\"Выбросы без группировки\")\n",
    "        if threshold is not None:\n",
    "            Q1 = df[target].quantile(.25) if out_val is None else df.query(f\"{target} != {out_val}\").quantile(.25)\n",
    "            Q3 = df[target].quantile(.75) if out_val is None else df.query(f\"{target} != {out_val}\").quantile(.75)\n",
    "            min_val = max(Q1 - threshold * (Q3 - Q1), min_val) if min_val else Q1 - threshold * (Q3 - Q1)\n",
    "            max_val = min(threshold * (Q3 - Q1) + Q3, max_val) if max_val else Q3 + threshold * (Q3 - Q1)\n",
    "        else:\n",
    "            if (min_val is None) or (max_val is None):\n",
    "                raise ValueError(\"Если не используется аргумент 'threshold' необходимо обязательно указать 'min_value' и 'max_value'\")\n",
    "        if verbose: print(\"Минимальное значения для признания выбросом:\", min_val)\n",
    "        if verbose: print(\"Максимальное значения для признания выбросом:\", max_val)\n",
    "    else:\n",
    "        if verbose: print(f\"Выбросы с группировкой по {by}\")\n",
    "        # Округляем значения столбцов\n",
    "        if by_round is not None:\n",
    "            for col, val in by_round.items():\n",
    "                df[col] = df[col].round(val)\n",
    "        # Получение межквартильного отклонения для каждой группы\n",
    "        vals = df.groupby(\n",
    "            by=by)[target].quantile([.25, .75]).to_frame().unstack().droplevel(0, axis=1).apply(\n",
    "                lambda x:\n",
    "                pd.Series({\n",
    "                    \"min_val\": x[0.25] - threshold * (x[0.75] - x[0.25]),\n",
    "                    \"max_val\": x[0.75] + threshold * (x[0.75] - x[0.25])\n",
    "                }), axis=1\n",
    "        ) if out_val is None else df.query(f\"{target} != {out_val}\").groupby(\n",
    "            by=by)[target].quantile([.25, .75]).to_frame().unstack().droplevel(0, axis=1).apply(\n",
    "                lambda x:\n",
    "                pd.Series({\n",
    "                    \"min_val\": x[0.25] - threshold * (x[0.75] - x[0.25]),\n",
    "                    \"max_val\": x[0.75] + threshold * (x[0.75] - x[0.25])\n",
    "                }), axis=1\n",
    "        )\n",
    "        # Добавление ограничений минимального и максимального значения\n",
    "        if min_val is not None: vals.loc[vals[\"min_val\"] < min_val, \"min_val\"] = min_val\n",
    "        if max_val is not None: vals.loc[vals[\"max_val\"] > max_val, \"max_val\"] = max_val\n",
    "        if verbose:\n",
    "            print(\"Значения для признания выбросом:\")\n",
    "            print(vals.T)\n",
    "        # Определение ограничений каждой записи датасета\n",
    "        vals = df.join(vals, on=by)[[\"min_val\", \"max_val\"]]\n",
    "        min_val = vals[\"min_val\"]\n",
    "        max_val = vals[\"max_val\"]\n",
    "    return (df[target] < min_val) | (df[target] > max_val) | (df[target] == out_val)"
   ]
  },
  {
   "cell_type": "markdown",
   "metadata": {},
   "source": [
    "\n",
    "Оценим количество вероятных выбросов по целевому признаку. Для этих целей будем также использовать аггрегацию по признакам - количество комнат, у которого высокая корреляция с общей площадью и его можно использовать как категориальный, а также признак типа здания. Чтобы учесть географическую составляющую также добавим в группировку округленные значения широты и долготы до 2-го разряда дробной части."
   ]
  },
  {
   "cell_type": "code",
   "execution_count": null,
   "metadata": {},
   "outputs": [],
   "source": [
    "print(\n",
    "    \"Количество вероятных выбросов по целевому признаку:\",\n",
    "    is_outlier(\n",
    "        data, target=\"price\", by=[\"rooms\", \"building_type\", \"latitude\", \"longitude\"], \n",
    "        by_round={\"latitude\": 2, \"longitude\": 2}, divider=\"total_area\", min_val=0\n",
    "    ).sum()\n",
    ")"
   ]
  },
  {
   "cell_type": "markdown",
   "metadata": {},
   "source": [
    "Количество таких выбросов не большое по сравнению с размером датасета, считаю целесообразным очистить данные от выбросов по целевому признаку."
   ]
  },
  {
   "cell_type": "code",
   "execution_count": null,
   "metadata": {},
   "outputs": [],
   "source": [
    "data = data[~is_outlier(\n",
    "    data, target=\"price\", by=[\"rooms\", \"building_type\", \"latitude\", \"longitude\"], \n",
    "    by_round={\"latitude\": 2, \"longitude\": 2}, divider=\"total_area\", verbose=False\n",
    ")].copy()\n",
    "print(\"Новый размер датасета:\", data.shape)"
   ]
  },
  {
   "cell_type": "markdown",
   "metadata": {},
   "source": [
    "## Обзор датасета после обработки выбросов"
   ]
  },
  {
   "cell_type": "markdown",
   "metadata": {},
   "source": [
    "Для проведения предобработки выбросов подготовим sklearn трансформер, который выполнит полную предобработку \"сырых\" данных."
   ]
  },
  {
   "cell_type": "code",
   "execution_count": null,
   "metadata": {},
   "outputs": [],
   "source": [
    "# Трансформер для проведения предобработки выбросов\n",
    "class OutlierProcessor(BaseEstimator, TransformerMixin):\n",
    "    def __init__(self, outlier_params=None, dropna=True, drop_duplicates=True, verbose=False):\n",
    "        self.outlier_params = outlier_params\n",
    "        self.dropna = dropna\n",
    "        self.drop_duplicates=drop_duplicates\n",
    "        self.verbose = verbose\n",
    "    \n",
    "    # Добавление ранее объявленных методов как статические\n",
    "    is_outlier = staticmethod(is_outlier)\n",
    "    get_agg_values = staticmethod(get_agg_values)\n",
    "\n",
    "    # Метод fit не производит никаких вычислений\n",
    "    def fit(self, X, y=None):\n",
    "        # Хорошей практикой было бы добавить в этот метод поиск и сохранение всех границ значений,\n",
    "        # а в методе transform проводить сравнение и обработку значений для определения выбросов,\n",
    "        # но это бы сильно поменяло логику ранее подготовленной мной функции для DAG.\n",
    "        # Поэтому не стал сильно переделывать, как обычно отстаю.\n",
    "        return self\n",
    "    \n",
    "    # Метод transform производит обработку выбросов\n",
    "    def transform(self, X, y=None):\n",
    "        # Работа с копией полученных данных\n",
    "        result = X.copy()\n",
    "        if self.verbose: print(\"Размер датасета:\", result.shape)\n",
    "        # Обработка признаков\n",
    "        if self.outlier_params is not None:\n",
    "            # Удаление неиспользуемых признаков\n",
    "            if \"drop_cols\" in self.outlier_params:\n",
    "                result.drop(columns=self.outlier_params[\"drop_cols\"], inplace=True)\n",
    "                if self.verbose: \n",
    "                    print(\"Удалены признаки\", self.outlier_params[\"drop_cols\"])\n",
    "            # Удаление дубликатов перед обработкой выбросов\n",
    "            if self.drop_duplicates: \n",
    "                if self.verbose: print(\"Количество дубликатов:\", result.duplicated().sum())\n",
    "                result.drop_duplicates(keep=\"first\", inplace=True)\n",
    "                if self.verbose: print(\"Размер датасета после удаления дубликатов:\", result.shape)\n",
    "            # Обработка выбросов\n",
    "            if \"out_cols\" in self.outlier_params:\n",
    "                for col in self.outlier_params[\"out_cols\"]:\n",
    "                    if self.verbose: print(\"Обработка признака\", col[\"name\"])\n",
    "                    result.loc[self.is_outlier(\n",
    "                        result, target=col[\"name\"], \n",
    "                        divider=col[\"divider\"] if \"divider\" in col else None,\n",
    "                        out_val=col[\"out_val\"] if \"out_val\" in col else None,\n",
    "                        by=col[\"by\"] if \"by\" in col else None, \n",
    "                        by_round=col[\"by_round\"] if \"by_round\" in col else None,\n",
    "                        min_val=col[\"min_val\"] if \"min_val\" in col else None,\n",
    "                        max_val=col[\"max_val\"] if \"max_val\" in col else None,\n",
    "                        threshold=col[\"threshold\"] if \"threshold\" in col else None,\n",
    "                        verbose=self.verbose\n",
    "                    ), col[\"name\"]] = np.nan\n",
    "                    if self.verbose: \n",
    "                        print(f\"Исключены выбросы в признаке {col['name']}: {result[col['name']].isna().sum()}\")\n",
    "            # Заполнение пропусков медианой\n",
    "            if \"fill_cols\" in self.outlier_params:\n",
    "                for col in self.outlier_params[\"fill_cols\"]:\n",
    "                    if self.verbose: print(\"Заполнение пропусков признака\", col[\"name\"])\n",
    "                    outs = result[col[\"name\"]].isna()\n",
    "                    if self.verbose: print(\"Количество пропусков:\", outs.sum())\n",
    "                    result.loc[outs, col[\"name\"]] = self.get_agg_values(\n",
    "                        result, target=col[\"name\"],\n",
    "                        divider=col[\"divider\"] if \"divider\" in col else None,\n",
    "                        by=col[\"by\"] if \"by\" in col else None,\n",
    "                        round_n=col[\"round\"] if \"round\" in col else None,\n",
    "                        func=col[\"func\"] if \"func\" in col else \"median\",\n",
    "                    )[outs]\n",
    "                    if self.verbose: print(\"Пропусков осталось:\", result[col[\"name\"]].isna().sum())\n",
    "            if \"change_col\" in self.outlier_params:\n",
    "                for col in self.outlier_params[\"change_col\"]:\n",
    "                    if \"astype\" in col:\n",
    "                        result[col[\"name\"]] = result[col[\"name\"]].astype(col[\"astype\"])\n",
    "                    if \"rename\" in col:\n",
    "                        result.rename(columns={col[\"name\"]: col[\"rename\"]}, inplace=True)\n",
    "        # Удаление пропусков, в том числе выбросов, которым присвоено np.nan\n",
    "        if self.dropna:\n",
    "            if self.verbose: \n",
    "                print(\"Количесво пропусков:\")\n",
    "                print(result.isna().sum())\n",
    "            result.dropna(inplace=True)\n",
    "            if self.verbose: print(\"Размер датасета после удаления пропусков:\", result.shape)\n",
    "\n",
    "        # Удаление дубликатов после обработки выбросов\n",
    "        if self.drop_duplicates: \n",
    "            if self.verbose: print(\"Количество дубликатов:\", result.duplicated().sum())\n",
    "            result.drop_duplicates(keep=\"first\", inplace=True)\n",
    "            if self.verbose: print(\"Размер датасета после удаления дубликатов:\", result.shape)\n",
    "        # Возврат результатов\n",
    "        return result"
   ]
  },
  {
   "cell_type": "markdown",
   "metadata": {},
   "source": [
    "Настройки для трансформера для обработки выбросов располагаются в файле `outlier_params.yaml`:"
   ]
  },
  {
   "cell_type": "code",
   "execution_count": null,
   "metadata": {},
   "outputs": [],
   "source": [
    "# Параметры для обработки выброса для ноутбука с EDA\n",
    "outlier_params = {\n",
    "    'drop_cols': ['id', 'studio'], \n",
    "    'out_cols': [\n",
    "        {\n",
    "            'name': 'rooms', \n",
    "            'min_val': 1, \n",
    "            'threshold': 1.5\n",
    "        }, \n",
    "        {\n",
    "            'name': 'total_area', \n",
    "            'by': ['rooms', 'building_type_int'], \n",
    "            'min_val': 6, \n",
    "            'threshold': 1.5\n",
    "        }, \n",
    "        {\n",
    "            'name': 'kitchen_area', \n",
    "            'divider': 'total_area', \n",
    "            'out_val': 0, \n",
    "            'by': ['rooms', 'building_type_int'], \n",
    "            'threshold': 1.5}, \n",
    "        {\n",
    "            'name': 'living_area', \n",
    "            'divider': 'total_area', \n",
    "            'out_val': 0, \n",
    "            'by': ['rooms', 'building_type_int'], \n",
    "            'threshold': 1.5\n",
    "        }, \n",
    "        {\n",
    "            'name': 'ceiling_height', \n",
    "            'min_val': 2, \n",
    "            'max_val': 10\n",
    "        }, \n",
    "        {\n",
    "            'name': 'price', \n",
    "            'divider': 'total_area', \n",
    "            'by': ['rooms', 'building_type_int', 'latitude', 'longitude'], \n",
    "            'by_round': {'latitude': 2, 'longitude': 2}, \n",
    "            'min_val': 0, 'threshold': 1.5\n",
    "        }\n",
    "    ], \n",
    "    'fill_cols': [\n",
    "        {\n",
    "            'name': 'kitchen_area', \n",
    "            'divider': 'total_area', \n",
    "            'by': ['rooms', 'building_type_int'], \n",
    "            'round': 2, \n",
    "            'func': 'median'\n",
    "        }, \n",
    "        {\n",
    "            'name': 'living_area', \n",
    "            'divider': 'total_area', \n",
    "            'by': ['rooms', 'building_type_int'], \n",
    "            'round': 2, \n",
    "            'func': 'median'\n",
    "        }\n",
    "    ], \n",
    "    'change_col': [\n",
    "        {\n",
    "            'name': 'building_type_int', \n",
    "            'astype': 'str', \n",
    "            'rename': 'building_type'\n",
    "        }\n",
    "    ]\n",
    "}"
   ]
  },
  {
   "cell_type": "markdown",
   "metadata": {},
   "source": [
    "Проведем предобработку исходных данных и справним два датасета - подготовленный вручную в рамках EDA и полученный в результате предобработки трансформером."
   ]
  },
  {
   "cell_type": "code",
   "execution_count": null,
   "metadata": {},
   "outputs": [],
   "source": [
    "report_floor = sv.compare(\n",
    "    (data.drop(columns=\"id\").drop_duplicates(keep=\"first\"), \"Вручную\"),\n",
    "    (\n",
    "        OutlierProcessor(\n",
    "            outlier_params=outlier_params,\n",
    "            #verbose=True\n",
    "        ).fit_transform(get_data()), \n",
    "        \"Трансформер\"\n",
    "    )\n",
    ")\n",
    "report_floor.show_notebook()"
   ]
  },
  {
   "cell_type": "markdown",
   "metadata": {},
   "source": [
    "На первый взгляд распределение в датасетах выглядит идентично, однако можно обнаружить небольшие расхождения по значениям площади кухни и жилой, которые были заполнены медианой. Это связано с тем, что расчет медианы для площадей при обработке вручную производился до исключения выбросов по оставшимся признакам, а в трансформере производится после, чтоя является более корректным."
   ]
  },
  {
   "cell_type": "code",
   "execution_count": null,
   "metadata": {},
   "outputs": [],
   "source": [
    "fig = px.scatter_matrix(\n",
    "    data, dimensions=[\n",
    "        \"total_area\", \"kitchen_area\", \"living_area\", \"floor\", \"ceiling_height\", \"price\"\n",
    "    ], color=\"building_type\", width=1000, height=900,\n",
    "    title=\"Матрица рассеяния признаков квартиры\",\n",
    "    labels={\"building_type\": \"Тип дома\"},\n",
    "    category_orders={\"building_type\":[str(x) for x in range(7)]}\n",
    ")\n",
    "fig.show(renderer=\"png\")"
   ]
  },
  {
   "cell_type": "markdown",
   "metadata": {},
   "source": [
    "По графику заметно, что наиболее высокие цены приходятся на квартиры большей площади, которые располагаются в домах типа 3 и 2. Другие типы домов существенно дешевле. Имеется довольно сильная линейная зависимость жилой площади от общей. По площади кухни имеется больший разброс относительно общей площади. \n",
    "\n",
    "Оценим признаки домов, в котором располагаются квартиры."
   ]
  },
  {
   "cell_type": "code",
   "execution_count": null,
   "metadata": {},
   "outputs": [],
   "source": [
    "fig = px.scatter_matrix(\n",
    "    data, dimensions=[\n",
    "        \"build_year\", \"latitude\", \"longitude\", \"flats_count\", \"floors_total\", \"price\"\n",
    "    ], color=\"building_type\", width=1000, height=900,\n",
    "    title=\"Матрица рассеяния признаков дома\",\n",
    "    labels={\"building_type\": \"Тип дома\"},\n",
    "    category_orders={\"building_type\":[str(x) for x in range(7)]}\n",
    ")\n",
    "fig.show(renderer=\"png\")"
   ]
  },
  {
   "cell_type": "markdown",
   "metadata": {},
   "source": [
    "По признакам дома можно отметить, что очень сильное влияние на цену квартиры оказывает местоположение дома - наибольшие цены располагаются вблизи центра города. Хорошо было бы добавить в датасет признак близости к центру города."
   ]
  },
  {
   "cell_type": "markdown",
   "metadata": {},
   "source": [
    "## Выводы после EDA"
   ]
  },
  {
   "cell_type": "markdown",
   "metadata": {},
   "source": [
    "По результатам проведенного исследовательского анализа данных произведено следующее:\n",
    "1. Исключены дубликаты в данных;\n",
    "2. Выявлены и исключены выбросы и редкие значения по следующим признакам:\n",
    "    - количество комнат `rooms` за пределами межквартильного размаха в 1.5 IQR от Q1 и Q3; \n",
    "    - общая площадь `total_area` аналогичным статистическим методом в разрезе количества комнат и типов зданий;\n",
    "    - целевой признак цены квартиры `price` исходя из цены за квадратный метр в разрезе количества комнат, типов зданий и местоположения объекта методом межквартильного размаха;\n",
    "    - высота потолков `ceiling_height` путем исключения значений за пределами промежутка от 2-х до 10 метров;\n",
    "    - в случае наличия пропусков в данных они исключаются из датасета.\n",
    "3. Проведена обработка вероятно некорректных значений признаков площади кухни `kitchen_area` и жилой площади `living_area`, которая производилась также методом межквартильного размаха, признанные выбросом значения установлены медианой по соотношению к общей площади в разрезе количества комнат и типов зданий.\n",
    "4. Признак `building_type_int` не является  переименован в `building_type` и преобразован в категориальный.\n",
    "\n",
    "Для автоматической обработки выбросов подготовлен трансформер и файл для параметров его работы. По результатам обработки признаков можно отметить следующее:\n",
    "1. В части корреляции целевого признака с остальными:\n",
    "    - наибольшая корреляция с признаком общей площади `total_area` (0.75), однако зависимость нелинейная и имеет довольно большой разброс;\n",
    "    - также достаточно высокая корреляция по другим признакам площади `living_area` (0.73) и `kitchen_area` (0.56), однако данные признаким имеют достаточно большую зависимость друг от друга и признака `total_area`;\n",
    "    - заметная корреляция с количеством комнат `rooms` (0.59), зависимость также нелинейная с большим разбросом;\n",
    "    - умеренная корреляция с типом здания `building_type` (0.45);\n",
    "    - также умеренная корреляция с высотой потолков `ceiling_height` (0.45); \n",
    "    - слабая корреляция с годом постройки `build_year` (0.11), по остальным признакам корреляция практически отсутствует;\n",
    "    - средние цены квадратного метра в центральной части Москвы выше и снижаются по мере удаления.\n",
    "2. В части мультиколлинеарности датасета:\n",
    "    - очень высокая корреляция между признаками `total_area` и `living_area` - 0.97, что явно говорит о мультиколлинеарности;\n",
    "    - довольно высокая корреляция признака `rooms` с признаками `living_area` (0.88) и `total_area` (0.85);\n",
    "    - по признаку `building_type` имеется корреляция с большинством признаков датасета, в частности с `build_year` корреляция составляет 0.72, по остальным признакам ниже.\n",
    "\n",
    "На основании проведенного EDA в части подготовки дополнительных признаков можно отметить следующее:\n",
    "- признаки количества комнат и площади имеют нелинейное отношение к целевому, вероятно наличие степенной зависимости. Цена существенно повышается по мере увеличения значения этих признаков.\n",
    "- возможно более оптимальным вариантом было бы использование не фактического значения признаков площади кухни `kitchen_area` и жилой площади `living_area`, а относительное к общей площади `total_area`;\n",
    "- для некоторых моделей могут быть полезны признаки нахождения на первом и последнем этажах, однако для моделей, основанных на деревьях решений выделение такого признака не имеет большого значения;\n",
    "- признак количества этажей в зании можно преобразовать в классы по высоте - небольшой этажности, более высокие и высотки;\n",
    "- также вероятно полезным может быть плотность квартир на этаж - `flats_count` / `floors_total` или другое их соотношение. Возможно более оптимальным была бы плотность квартир на этаж в подъезде, однако в датасете отсутствуют сведения о количестве подъездов в доме;\n",
    "- полезными могут быть сведения о наличии лифта на высоких этажах, однако, вероятнее всего, в датасете имеются ошибки в таких сведениях. При этом можно отметить различие средней цены для квартир до 5-го этажа включительно и квартир выше 5-го этажа, в зданиях без лифта;\n",
    "- в части картографических данных было бы полезно иметь сведения о расстоянии до до центра города , а также до наиболее социально значимых объектов - станции метро, школы, парки и т.д. Однако такие сведения отсутствуют в датасете;\n",
    "- вероятно имеются и другие сложные или скрытые зависимости между признаками, которые могут быть сгенерированы автоматически.\n",
    "\n",
    "При проведении исследовательского анализа были определены следующие категориальные признаки - тип здания `building_type`, апартаменты `is_apartment`, наличие лифта `has_elevator`. Признак  студии `studio` был исключен, так как подобные значения отсутствуют в выборке и обучать модель по такому признаку не имеет смысла. Из категориальных признаков только `building_type` не является бинарным. Остальные признаки являются числовыми.\n",
    "\n",
    "\n",
    "В результате подготовки данных были исключены выбросы значений признаков, поэтому наиболее предпочтительной метрикой является RMSE, результаты можно дополнительно оценивать метрикой MAPE, чтобы понимать расхождение в процентном соотношении. Несмотря на то, что в качестве модели можно выбрать простые модели машинного обучения, в данном проекте планируется применение на ансамблевых методов, наиболее точными из которых являются бустинговые модели. Из бустинговых моделей наибольшую популярность имеют XGBoost, LightGBM и CatBoost. Несмотря на то, что категориальных признаков немного и данные подготовлены для работы любых моделей, выбрана модель CatBoost так как она обладает высокой точностью и простотой настройки параметров. При этом данных не так много, чтобы делать выбор в пользу более быстрых моделей бустинга.\n",
    "\n",
    "- Метрики: **RMSE**, **MAPE**.\n",
    "- Модель: **CatBoostRegressor**\n",
    "\n",
    "Разделение датасета будет производиться на тренировочную и тестовую выборки, с проведением кросс-валидации на тренировочной выборке для определения наилучших параметров для модели. Определены бинарные, категориальные и числовые признаки, а также целевой признак. Бинарные признаки будут закодированы посредством OneHotEncoder. Так как единственный категориальный признак не является порядковым, а количество значений небольшое, его можно кодировать OneHotEncoder и это будет наилучшим выбором для большинства моделей, но в данном проекте решено закодировать его посредством CatBoostEncoder. Для некоторых простых моделей желательно закодировать числовые признаки, чтобы привести их к единому масштабу, однако в данном проекте предполагается использование более продвинутых ансамблевых методов, основанных на деревьях решений, поэтому кодирование числовых признаков не имеет смысла."
   ]
  }
 ],
 "metadata": {
  "kernelspec": {
   "display_name": ".venv",
   "language": "python",
   "name": "python3"
  },
  "language_info": {
   "codemirror_mode": {
    "name": "ipython",
    "version": 3
   },
   "file_extension": ".py",
   "mimetype": "text/x-python",
   "name": "python",
   "nbconvert_exporter": "python",
   "pygments_lexer": "ipython3",
   "version": "3.10.12"
  }
 },
 "nbformat": 4,
 "nbformat_minor": 2
}
