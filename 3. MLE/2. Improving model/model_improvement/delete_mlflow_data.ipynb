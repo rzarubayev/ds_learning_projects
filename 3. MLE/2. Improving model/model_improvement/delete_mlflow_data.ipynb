{
 "cells": [
  {
   "cell_type": "code",
   "execution_count": null,
   "metadata": {},
   "outputs": [],
   "source": [
    "# Импорт библиотек и функций\n",
    "import os\n",
    "from sqlalchemy import create_engine, MetaData, Table, inspect\n",
    "\n",
    "\n",
    "# Получение данных для доступа к БД\n",
    "PG_HOST = os.environ.get(\"PG_HOST\")\n",
    "PG_PORT = os.environ.get(\"PG_PORT\")\n",
    "PG_USER = os.environ.get(\"PG_USER\")\n",
    "PG_PASS = os.environ.get(\"PG_PASS\")\n",
    "PG_DB = os.environ.get(\"PG_DB\")\n",
    "\n",
    "# Получение данных для подключения к S3\n",
    "S3_ENDPOINT_URL = os.environ.get(\"MLFLOW_S3_ENDPOINT_URL\")\n",
    "S3_BUCKET = os.environ.get(\"S3_BUCKET\")\n",
    "S3_ACCESS_KEY = os.environ.get(\"AWS_ACCESS_KEY_ID\")\n",
    "S3_SECRET_KEY = os.environ.get(\"AWS_SECRET_ACCESS_KEY\")\n",
    "\n",
    "# Получение таблиц для удаления\n",
    "TBLS = [\n",
    "    \"alembic_version\", \"metrics\", \"params\", \"tags\", \n",
    "    \"input_tags\", \"inputs\", \"latest_metrics\", \"runs\", \n",
    "    \"registered_model_aliases\", \"registered_model_tags\",\n",
    "    \"model_version_tags\", \"model_versions\", \"registered_models\",\n",
    "    \"datasets\", \"experiment_tags\", \"experiments\"]\n",
    "\n",
    "# Создание соединения\n",
    "conn = create_engine(f'postgresql://{PG_USER}:{PG_PASS}@{PG_HOST}:{PG_PORT}/{PG_DB}')\n",
    "\n",
    "# Функция удаления таблицы с помощью sqlalchemy\n",
    "def delete_table(table_name, conn):\n",
    "    metadata = MetaData()\n",
    "    metadata.reflect(bind=conn)\n",
    "    table = metadata.tables.get(table_name)\n",
    "    table.drop(conn)"
   ]
  },
  {
   "cell_type": "code",
   "execution_count": null,
   "metadata": {},
   "outputs": [],
   "source": [
    "# Удаление таблиц\n",
    "for tbl in TBLS:\n",
    "    if inspect(conn).has_table(tbl):\n",
    "        delete_table(tbl, conn)\n",
    "        print(f\"Таблица '{tbl}' удалена\")\n",
    "    else:\n",
    "        print(f\"Таблица '{tbl}' отсутствует в базе данных\")"
   ]
  }
 ],
 "metadata": {
  "kernelspec": {
   "display_name": ".venv",
   "language": "python",
   "name": "python3"
  },
  "language_info": {
   "codemirror_mode": {
    "name": "ipython",
    "version": 3
   },
   "file_extension": ".py",
   "mimetype": "text/x-python",
   "name": "python",
   "nbconvert_exporter": "python",
   "pygments_lexer": "ipython3",
   "version": "3.10.12"
  }
 },
 "nbformat": 4,
 "nbformat_minor": 2
}
