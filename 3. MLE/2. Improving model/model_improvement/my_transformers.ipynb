{
 "cells": [
  {
   "cell_type": "markdown",
   "metadata": {},
   "source": [
    "<div class=\"alert alert-info\">\n",
    "<font size=\"3\"><b>Комментарий</b></font>\n",
    "    \n",
    "Поначалу неправильно понял задачу и подготовил собственные функции для трансформации. Позже поправил, но этот код сохранил для себя.\n",
    "</div>"
   ]
  },
  {
   "cell_type": "markdown",
   "metadata": {},
   "source": [
    "## Этап 3: Генерация Признаков и обучение новой версии модели"
   ]
  },
  {
   "cell_type": "markdown",
   "metadata": {},
   "source": [
    "### 3.1 Ручная генерация признаков\n",
    "\n",
    "На основании проведенного EDA в части подготовки дополнительных признаков можно отметить следующее:\n",
    "- более оптимальным вариантом было бы использование не фактического значения признаков площади кухни `kitchen_area` и жилой площади `living_area`, а относительное к общей площади `total_area`;\n",
    "- для некоторых моделей могут быть полезны признаки нахождения на первом и последнем этажах;\n",
    "- также вероятно полезным может быть плотность квартир на этаж - `flats_count` / `floors_total`. Возможно более оптимальным была бы плотность квартир на этаж в подъезде, однако в датасете отсутствуют сведения о количестве подъездов в доме;\n",
    "- полезными могут быть сведения о наличии лифта на высоких этажах, однако, вероятнее всего, в датасете имеются ошибки в таких сведениях. При этом можно отметить различие средней цены для квартир до 5-го этажа включительно и квартир выше 5-го этажа, в зданиях без лифта;\n",
    "- в части картографических данных было бы полезно иметь сведения о расстоянии до наиболее социально значимых объектов - станции метро, школы, парки и т.д., а также до центра города. Однако такие сведения отсутствуют в датасете;\n",
    "- возможно имеются и другие сложные или скрытые зависимости между признаками, однако в виду ограниченности времени на проект такие признаки попробуем сгенерировать автоматически.\n",
    "\n",
    "Из приведенного списка можно выделить две операции, которые можно произвести с признаками - это деление признаков друг на друга, а также сравнение с другим признаком или числом. Подготовим две функции для проведения таких операций."
   ]
  },
  {
   "cell_type": "code",
   "execution_count": null,
   "metadata": {
    "vscode": {
     "languageId": "plaintext"
    }
   },
   "outputs": [],
   "source": [
    "# Функция добавления отношения двух признаков (деление)\n",
    "def ratio_feature(\n",
    "    df: pd.DataFrame, \n",
    "    ratio: dict\n",
    ") -> pd.DataFrame:\n",
    "    \"\"\"\n",
    "    Необходимо передать датасет, а также словарь в качестве ключа \n",
    "    в котором указано имя нового столбца датасета, а значение - \n",
    "    кортеж из двух наименований столбцов (делимого и делителя)\n",
    "    ``{'new_column_name': ('base_column', 'divider_column), ...}``.\n",
    "    \"\"\"\n",
    "    result = df.copy()\n",
    "    for new_col, cols in ratio.items():\n",
    "        result[new_col] = df[cols[0]] / df[cols[1]]\n",
    "    return result\n",
    "\n",
    "# Функция добавления сравнений признака со значениями\n",
    "def compare_feature(\n",
    "    df: pd.DataFrame, \n",
    "    compare: dict,\n",
    "    astype = \"int\"\n",
    ") -> pd.DataFrame:\n",
    "    \"\"\"\n",
    "    Необходимо передать датасет, а также словарь с параметрами, в качестве \n",
    "    ключа в котором имя нового столбца датасета, а значения - словарь c \n",
    "    именем столбца, типом сравнения и значением (или другим столбцом):\n",
    "    ```\n",
    "        {\n",
    "            'new_column_name': { \n",
    "                'column': 'column_name', \n",
    "                'compare': 'less' | 'equal' | 'great', \n",
    "                'value': numeric | 'column_name', \n",
    "                # Optional \n",
    "                'filter': {\n",
    "                    'column': 'column_name',\n",
    "                    'invert': True | False\n",
    "                }\n",
    "            },\n",
    "            ...\n",
    "        }\n",
    "    ```\n",
    "    Опциональный ключ ``filter`` позволяет отфильтровать полученные результаты сравнения \n",
    "    по значениям другого столбца, ключ ``invert`` инвертирует значения этого столбца.\n",
    "    \"\"\"\n",
    "    result = df.copy()\n",
    "    for new_col, settings in compare.items():\n",
    "        if isinstance(settings[\"value\"], str):\n",
    "            value = result[settings[\"value\"]]\n",
    "        else:\n",
    "            value = settings[\"value\"]\n",
    "        if settings[\"compare\"] == \"equal\":\n",
    "            result[new_col] = df[settings[\"column\"]] == value\n",
    "        elif settings[\"compare\"] == \"less\":\n",
    "            result[new_col] = df[settings[\"column\"]] < value\n",
    "        elif settings[\"compare\"] == \"great\":\n",
    "            result[new_col] = df[settings[\"column\"]] > value\n",
    "        else:\n",
    "            raise ValueError(\"Получено неизвестное значение, должно быть одно из 'equal', 'less', 'great'.\")\n",
    "        if \"filter\" in settings:\n",
    "            fltr = settings[\"filter\"]\n",
    "            if (\"invert\" in fltr) and fltr[\"invert\"]:\n",
    "                result[new_col] = result[new_col] & ~result[fltr[\"column\"]]\n",
    "            else:\n",
    "                result[new_col] = result[new_col] & result[fltr[\"column\"]]\n",
    "        result[new_col] = result[new_col].astype(astype)\n",
    "    return result"
   ]
  },
  {
   "cell_type": "markdown",
   "metadata": {},
   "source": [
    "Оценим работу функции добавления признаков, путем деления значений одного признака на значения другого."
   ]
  },
  {
   "cell_type": "code",
   "execution_count": null,
   "metadata": {
    "vscode": {
     "languageId": "plaintext"
    }
   },
   "outputs": [],
   "source": [
    "ratio_feature_params = {\n",
    "    \"kitchen_ratio\": (\"kitchen_area\", \"total_area\"),\n",
    "    \"living_ratio\": (\"living_area\", \"total_area\"),\n",
    "    \"flats_by_floor\": (\"flats_count\", \"floors_total\")\n",
    "}\n",
    "ratio_feature(\n",
    "    train[[\"kitchen_area\", \"living_area\", \"total_area\", \"flats_count\", \"floors_total\"]],\n",
    "    ratio_feature_params\n",
    ").sample(10, random_state=RANDOM_STATE)"
   ]
  },
  {
   "cell_type": "markdown",
   "metadata": {},
   "source": [
    "Функция отработала корректно, получены 3 дополнительных признака. \n",
    "\n",
    "Оценим функцию сравнения признака со значением."
   ]
  },
  {
   "cell_type": "code",
   "execution_count": null,
   "metadata": {
    "vscode": {
     "languageId": "plaintext"
    }
   },
   "outputs": [],
   "source": [
    "compare_feature_params = {\n",
    "    \"first_floor\": {\n",
    "        \"column\": \"floor\",\n",
    "        \"compare\": \"equal\",\n",
    "        # Первый этаж\n",
    "        \"value\": 1 \n",
    "    },\n",
    "    \"last_floor\": {\n",
    "        \"column\": \"floor\",\n",
    "        \"compare\": \"equal\",\n",
    "        # Последний этаж\n",
    "        \"value\": \"floors_total\"\n",
    "    },\n",
    "    \"no_elevator_high_floor\": {\n",
    "        \"column\": \"floor\",\n",
    "            \"compare\": \"great\",\n",
    "            # выше 5 этажа\n",
    "            \"value\": 5,\n",
    "            # без лифта\n",
    "            \"filter\": {\n",
    "                \"column\": \"has_elevator\",\n",
    "                \"invert\": True\n",
    "            }\n",
    "    }\n",
    "}\n",
    "compare_feature(\n",
    "    train[[\"floor\", \"floors_total\", \"has_elevator\"]],\n",
    "    compare=compare_feature_params, astype=\"bool\"\n",
    ").query(\"has_elevator == False\").sample(20, random_state=RANDOM_STATE)"
   ]
  },
  {
   "cell_type": "markdown",
   "metadata": {},
   "source": [
    "Функция также обрабатывает корректно, получены еще 3 дополнительных столбца."
   ]
  },
  {
   "cell_type": "markdown",
   "metadata": {},
   "source": [
    "### 3.2 Оборачивание всех преобразований в объекты sklearn\n",
    "\n",
    "Для того, чтобы использовать в пайплайне собственный трансформер, можно подготовить отдельный класс, как это было реализовано при обработке выбросов, но в данном случае воспользуемся классом `FunctionTrasformer` библиотеки `scikit-learn` для преобразования функции в трансформер."
   ]
  },
  {
   "cell_type": "code",
   "execution_count": null,
   "metadata": {
    "vscode": {
     "languageId": "plaintext"
    }
   },
   "outputs": [],
   "source": [
    "ratio_feat = FunctionTransformer(ratio_feature, kw_args={\"ratio\": ratio_feature_params})\n",
    "compare_feat = FunctionTransformer(compare_feature, kw_args={\"compare\": compare_feature_params})"
   ]
  },
  {
   "cell_type": "markdown",
   "metadata": {},
   "source": [
    "Проверим работу трансформеров."
   ]
  },
  {
   "cell_type": "code",
   "execution_count": null,
   "metadata": {
    "vscode": {
     "languageId": "plaintext"
    }
   },
   "outputs": [],
   "source": [
    "pd.concat([\n",
    "    ratio_feat.transform(train[[\"kitchen_area\", \"living_area\", \"total_area\", \"flats_count\", \"floors_total\"]]),\n",
    "    compare_feat.transform(train[[\"floor\", \"floors_total\", \"has_elevator\"]])\n",
    "], axis=1).query(\"has_elevator == False\").sample(20, random_state=RANDOM_STATE)"
   ]
  }
 ],
 "metadata": {
  "language_info": {
   "name": "python"
  }
 },
 "nbformat": 4,
 "nbformat_minor": 2
}
