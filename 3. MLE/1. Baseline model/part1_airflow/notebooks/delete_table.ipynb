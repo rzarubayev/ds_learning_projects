{
 "cells": [
  {
   "cell_type": "markdown",
   "metadata": {},
   "source": [
    "# Ноутбук для удаления созданных баз данных"
   ]
  },
  {
   "cell_type": "code",
   "execution_count": 1,
   "metadata": {},
   "outputs": [],
   "source": [
    "# Импорт библиотек и функций\n",
    "import os\n",
    "from dotenv import load_dotenv\n",
    "from sqlalchemy import create_engine, MetaData, Table, inspect\n",
    "\n",
    "# Загрузка .env\n",
    "load_dotenv()\n",
    "\n",
    "# Получения данных для доступа к БД\n",
    "dst_host = os.environ.get('DB_DESTINATION_HOST')\n",
    "dst_port = os.environ.get('DB_DESTINATION_PORT')\n",
    "dst_username = os.environ.get('DB_DESTINATION_USER')\n",
    "dst_password = os.environ.get('DB_DESTINATION_PASSWORD')\n",
    "dst_db = os.environ.get('DB_DESTINATION_NAME')\n",
    "\n",
    "# Получение таблиц для удаления\n",
    "TBL_DST = 'flats_fstore' # новая таблица для хранения признаков\n",
    "TBL_DST_CLEAN = 'flats_fstore_clean' # новая таблица для данных после очистки\n",
    "\n",
    "# Создание соединения\n",
    "conn = create_engine(f'postgresql://{dst_username}:{dst_password}@{dst_host}:{dst_port}/{dst_db}')\n",
    "\n",
    "# Функция удаления таблицы с помощью sqlalchemy\n",
    "def delete_table(table_name, conn):\n",
    "    metadata = MetaData()\n",
    "    metadata.reflect(bind=conn)\n",
    "    table = metadata.tables.get(table_name)\n",
    "    table.drop(conn)"
   ]
  },
  {
   "cell_type": "markdown",
   "metadata": {},
   "source": [
    "## Проверка наличия таблиц"
   ]
  },
  {
   "cell_type": "code",
   "execution_count": 2,
   "metadata": {},
   "outputs": [
    {
     "name": "stdout",
     "output_type": "stream",
     "text": [
      "Таблица flats_fstore имеется в базе данных\n",
      "Таблица flats_fstore_clean имеется в базе данных\n"
     ]
    }
   ],
   "source": [
    "# Проверка наличия таблиц\n",
    "if inspect(conn).has_table(TBL_DST):\n",
    "    print(f\"Таблица {TBL_DST} имеется в базе данных\")\n",
    "else:\n",
    "    print(f\"Таблица {TBL_DST} отсутствует в базе данных\")\n",
    "\n",
    "if inspect(conn).has_table(TBL_DST_CLEAN):\n",
    "    print(f\"Таблица {TBL_DST_CLEAN} имеется в базе данных\")\n",
    "else:\n",
    "    print(f\"Таблица {TBL_DST_CLEAN} отсутствует в базе данных\")"
   ]
  },
  {
   "cell_type": "markdown",
   "metadata": {},
   "source": [
    "## Удаление таблицы для хранения всего датасета"
   ]
  },
  {
   "cell_type": "code",
   "execution_count": 3,
   "metadata": {},
   "outputs": [],
   "source": [
    "# Удаление таблицы со всем датасетом\n",
    "if inspect(conn).has_table(TBL_DST):\n",
    "    delete_table(TBL_DST, conn)\n",
    "else:\n",
    "    print(f\"Таблица {TBL_DST} отсутствует в базе данных\")"
   ]
  },
  {
   "cell_type": "markdown",
   "metadata": {},
   "source": [
    "## Удаление таблицы для хранения датасета после очистки"
   ]
  },
  {
   "cell_type": "code",
   "execution_count": 4,
   "metadata": {},
   "outputs": [],
   "source": [
    "# Удаление таблицы со всем датасетом\n",
    "if inspect(conn).has_table(TBL_DST_CLEAN):\n",
    "    delete_table(TBL_DST_CLEAN, conn)\n",
    "else:\n",
    "    print(f\"Таблица {TBL_DST_CLEAN} отсутствует в базе данных\")"
   ]
  },
  {
   "cell_type": "markdown",
   "metadata": {},
   "source": [
    "## Закрытие соединения в конце работы"
   ]
  },
  {
   "cell_type": "code",
   "execution_count": 5,
   "metadata": {},
   "outputs": [],
   "source": [
    "# Закрыть соединение\n",
    "conn.dispose()"
   ]
  }
 ],
 "metadata": {
  "kernelspec": {
   "display_name": ".venv",
   "language": "python",
   "name": "python3"
  },
  "language_info": {
   "codemirror_mode": {
    "name": "ipython",
    "version": 3
   },
   "file_extension": ".py",
   "mimetype": "text/x-python",
   "name": "python",
   "nbconvert_exporter": "python",
   "pygments_lexer": "ipython3",
   "version": "3.10.12"
  }
 },
 "nbformat": 4,
 "nbformat_minor": 2
}
