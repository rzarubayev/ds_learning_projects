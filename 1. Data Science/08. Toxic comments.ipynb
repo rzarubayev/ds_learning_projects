{
 "cells": [
  {
   "cell_type": "markdown",
   "metadata": {},
   "source": [
    "# Проект для «Викишоп» c BERT"
   ]
  },
  {
   "cell_type": "markdown",
   "metadata": {},
   "source": [
    "Интернет-магазин «Викишоп» запускает новый сервис. Теперь пользователи могут редактировать и дополнять описания товаров, как в вики-сообществах. То есть клиенты предлагают свои правки и комментируют изменения других. Магазину нужен инструмент, который будет искать токсичные комментарии и отправлять их на модерацию. \n",
    "\n",
    "Обучите модель классифицировать комментарии на позитивные и негативные. В вашем распоряжении набор данных с разметкой о токсичности правок.\n",
    "\n",
    "Постройте модель со значением метрики качества *F1* не меньше 0.75. \n",
    "\n",
    "**Инструкция по выполнению проекта**\n",
    "\n",
    "1. Загрузите и подготовьте данные.\n",
    "2. Обучите разные модели. \n",
    "3. Сделайте выводы.\n",
    "\n",
    "\n",
    "**Описание данных**\n",
    "\n",
    "Данные находятся в файле `toxic_comments.csv`. Столбец *text* в нём содержит текст комментария, а *toxic* — целевой признак."
   ]
  },
  {
   "cell_type": "code",
   "execution_count": 1,
   "metadata": {},
   "outputs": [],
   "source": [
    "# Install pytorch with CUDA enabled\n",
    "!pip install torch -q --index-url https://download.pytorch.org/whl/cu118\n",
    "!pip install transformers -q"
   ]
  },
  {
   "cell_type": "code",
   "execution_count": 2,
   "metadata": {},
   "outputs": [],
   "source": [
    "# Импорт библиотек, классов и функций\n",
    "import os\n",
    "import gc\n",
    "import warnings\n",
    "\n",
    "import pandas as pd\n",
    "import torch\n",
    "import numpy as np\n",
    "import joblib\n",
    "import seaborn as sns\n",
    "import matplotlib.pyplot as plt\n",
    "import lightgbm as lgb\n",
    "import catboost as cb\n",
    "from tqdm.notebook import tqdm\n",
    "from transformers import AutoTokenizer, AutoModel\n",
    "from sklearn.model_selection import train_test_split\n",
    "from sklearn.linear_model import LogisticRegression\n",
    "from sklearn.svm import SVC\n",
    "from sklearn.ensemble import RandomForestClassifier\n",
    "from sklearn.model_selection import RandomizedSearchCV\n",
    "from sklearn.model_selection import cross_val_score\n",
    "from sklearn.metrics import f1_score, confusion_matrix"
   ]
  },
  {
   "cell_type": "code",
   "execution_count": 3,
   "metadata": {},
   "outputs": [],
   "source": [
    "# Определение констант и настройка\n",
    "RANDOM_STATE = 42\n",
    "CV = 5\n",
    "SCORING = \"f1\"\n",
    "MODEL_DIR = \"models\"\n",
    "\n",
    "warnings.filterwarnings('ignore')"
   ]
  },
  {
   "cell_type": "markdown",
   "metadata": {},
   "source": [
    "## Подготовка"
   ]
  },
  {
   "cell_type": "code",
   "execution_count": 4,
   "metadata": {},
   "outputs": [
    {
     "name": "stdout",
     "output_type": "stream",
     "text": [
      "<class 'pandas.core.frame.DataFrame'>\n",
      "Int64Index: 159292 entries, 0 to 159450\n",
      "Data columns (total 2 columns):\n",
      " #   Column  Non-Null Count   Dtype \n",
      "---  ------  --------------   ----- \n",
      " 0   text    159292 non-null  object\n",
      " 1   toxic   159292 non-null  int64 \n",
      "dtypes: int64(1), object(1)\n",
      "memory usage: 3.6+ MB\n"
     ]
    },
    {
     "data": {
      "text/html": [
       "<div>\n",
       "<style scoped>\n",
       "    .dataframe tbody tr th:only-of-type {\n",
       "        vertical-align: middle;\n",
       "    }\n",
       "\n",
       "    .dataframe tbody tr th {\n",
       "        vertical-align: top;\n",
       "    }\n",
       "\n",
       "    .dataframe thead th {\n",
       "        text-align: right;\n",
       "    }\n",
       "</style>\n",
       "<table border=\"1\" class=\"dataframe\">\n",
       "  <thead>\n",
       "    <tr style=\"text-align: right;\">\n",
       "      <th></th>\n",
       "      <th>text</th>\n",
       "      <th>toxic</th>\n",
       "    </tr>\n",
       "  </thead>\n",
       "  <tbody>\n",
       "    <tr>\n",
       "      <th>0</th>\n",
       "      <td>Explanation\\nWhy the edits made under my usern...</td>\n",
       "      <td>0</td>\n",
       "    </tr>\n",
       "    <tr>\n",
       "      <th>1</th>\n",
       "      <td>D'aww! He matches this background colour I'm s...</td>\n",
       "      <td>0</td>\n",
       "    </tr>\n",
       "    <tr>\n",
       "      <th>2</th>\n",
       "      <td>Hey man, I'm really not trying to edit war. It...</td>\n",
       "      <td>0</td>\n",
       "    </tr>\n",
       "    <tr>\n",
       "      <th>3</th>\n",
       "      <td>\"\\nMore\\nI can't make any real suggestions on ...</td>\n",
       "      <td>0</td>\n",
       "    </tr>\n",
       "    <tr>\n",
       "      <th>4</th>\n",
       "      <td>You, sir, are my hero. Any chance you remember...</td>\n",
       "      <td>0</td>\n",
       "    </tr>\n",
       "    <tr>\n",
       "      <th>...</th>\n",
       "      <td>...</td>\n",
       "      <td>...</td>\n",
       "    </tr>\n",
       "    <tr>\n",
       "      <th>159446</th>\n",
       "      <td>\":::::And for the second time of asking, when ...</td>\n",
       "      <td>0</td>\n",
       "    </tr>\n",
       "    <tr>\n",
       "      <th>159447</th>\n",
       "      <td>You should be ashamed of yourself \\n\\nThat is ...</td>\n",
       "      <td>0</td>\n",
       "    </tr>\n",
       "    <tr>\n",
       "      <th>159448</th>\n",
       "      <td>Spitzer \\n\\nUmm, theres no actual article for ...</td>\n",
       "      <td>0</td>\n",
       "    </tr>\n",
       "    <tr>\n",
       "      <th>159449</th>\n",
       "      <td>And it looks like it was actually you who put ...</td>\n",
       "      <td>0</td>\n",
       "    </tr>\n",
       "    <tr>\n",
       "      <th>159450</th>\n",
       "      <td>\"\\nAnd ... I really don't think you understand...</td>\n",
       "      <td>0</td>\n",
       "    </tr>\n",
       "  </tbody>\n",
       "</table>\n",
       "<p>159292 rows × 2 columns</p>\n",
       "</div>"
      ],
      "text/plain": [
       "                                                     text  toxic\n",
       "0       Explanation\\nWhy the edits made under my usern...      0\n",
       "1       D'aww! He matches this background colour I'm s...      0\n",
       "2       Hey man, I'm really not trying to edit war. It...      0\n",
       "3       \"\\nMore\\nI can't make any real suggestions on ...      0\n",
       "4       You, sir, are my hero. Any chance you remember...      0\n",
       "...                                                   ...    ...\n",
       "159446  \":::::And for the second time of asking, when ...      0\n",
       "159447  You should be ashamed of yourself \\n\\nThat is ...      0\n",
       "159448  Spitzer \\n\\nUmm, theres no actual article for ...      0\n",
       "159449  And it looks like it was actually you who put ...      0\n",
       "159450  \"\\nAnd ... I really don't think you understand...      0\n",
       "\n",
       "[159292 rows x 2 columns]"
      ]
     },
     "execution_count": 4,
     "metadata": {},
     "output_type": "execute_result"
    }
   ],
   "source": [
    "# Загрузка данных\n",
    "try:\n",
    "    data = pd.read_csv(\"toxic_comments.csv\", index_col=0)\n",
    "except:\n",
    "    data = pd.read_csv(\"https://code.s3.yandex.net/datasets/toxic_comments.csv\", index_col=0)\n",
    "data.info()\n",
    "data"
   ]
  },
  {
   "cell_type": "markdown",
   "metadata": {},
   "source": [
    "Датасет содержит 159'292 записи, пропуски отсутствуют. Датасет на английском языке, соответственно нужно применять модель BERT для английского. Оценим распределение целевого признака."
   ]
  },
  {
   "cell_type": "code",
   "execution_count": 5,
   "metadata": {},
   "outputs": [
    {
     "data": {
      "text/plain": [
       "0    143106\n",
       "1     16186\n",
       "Name: toxic, dtype: int64"
      ]
     },
     "execution_count": 5,
     "metadata": {},
     "output_type": "execute_result"
    }
   ],
   "source": [
    "data[\"toxic\"].value_counts()"
   ]
  },
  {
   "cell_type": "markdown",
   "metadata": {},
   "source": [
    "По проекту стоит задача бинарной классификации, при этом целевой признак имеет сильный дисбаланс классов в пользу позитивных комментариев. При обучении модели необходимо учитывать дисбаланс классов. Подготовим признаки для обучения моделей на основе комментариев из предоставленного датасета посредтсвом предварительно обученной модели Toxic-BERT, которая представляет собой специально дообученную на токсичных текстах (оскорбления, угрозы, ненависть и т.д.) модель BERT и применяется для задач кластеризации таких текстов."
   ]
  },
  {
   "cell_type": "code",
   "execution_count": 6,
   "metadata": {},
   "outputs": [
    {
     "name": "stdout",
     "output_type": "stream",
     "text": [
      "Using device: cuda\n"
     ]
    }
   ],
   "source": [
    "# Проверяем наличие CUDA в GPU\n",
    "device = torch.device(\"cuda\" if torch.cuda.is_available() else \"cpu\")\n",
    "print(f\"Using device: {device}\")\n",
    "# Инициализация токенизатора и модели Toxic-BERT\n",
    "tokenizer = AutoTokenizer.from_pretrained('unitary/toxic-bert', clean_up_tokenization_spaces=False)\n",
    "bert_model = AutoModel.from_pretrained('unitary/toxic-bert').to(device)"
   ]
  },
  {
   "cell_type": "markdown",
   "metadata": {},
   "source": [
    "Так как получение эмбеддингов обученной моделью Toxic-BERT занимает достаточно много времени, лучше делать это посредством GPU, что при оптимальном подборе размера батча позволит значительно ускорить процесс. Чем производительней аппаратное обеспечение - больше графической памяти и процессоров CUDA, тем больший размер батчей можно использовать, что ускоряет преобразование текста в векорное представление."
   ]
  },
  {
   "cell_type": "code",
   "execution_count": 7,
   "metadata": {},
   "outputs": [],
   "source": [
    "# Функция для получения эмбеддингов с Toxic-BERT\n",
    "def get_bert_embeddings(texts, batch_size=100):\n",
    "    embeddings = []\n",
    "    for i in tqdm(range(0, len(texts), batch_size), desc=\"Processing batches\"):\n",
    "        batch_texts = texts[i:i + batch_size]\n",
    "        inputs = tokenizer(\n",
    "            batch_texts, return_tensors='pt', padding=True, truncation=True, max_length=512\n",
    "        ).to(device)\n",
    "        with torch.no_grad():  # Отключаем градиенты, так как модель не обучается\n",
    "            outputs = bert_model(**inputs)\n",
    "        batch_embeddings = outputs.last_hidden_state[:, 0, :].cpu().numpy()\n",
    "        embeddings.append(batch_embeddings)\n",
    "        # Очистка памяти после обработки батча\n",
    "        del inputs, outputs\n",
    "        if device == \"cuda\":\n",
    "            torch.cuda.empty_cache()\n",
    "    del batch_texts, batch_embeddings\n",
    "    return np.vstack(embeddings)"
   ]
  },
  {
   "cell_type": "code",
   "execution_count": 8,
   "metadata": {},
   "outputs": [
    {
     "data": {
      "application/vnd.jupyter.widget-view+json": {
       "model_id": "666144d9a292446cac5904496e763db5",
       "version_major": 2,
       "version_minor": 0
      },
      "text/plain": [
       "Processing batches:   0%|          | 0/1593 [00:00<?, ?it/s]"
      ]
     },
     "metadata": {},
     "output_type": "display_data"
    },
    {
     "name": "stdout",
     "output_type": "stream",
     "text": [
      "Размер данных для обучения: (159292, 768)\n",
      "CPU times: total: 3h 23s\n",
      "Wall time: 3h 9min 20s\n"
     ]
    }
   ],
   "source": [
    "%%time\n",
    "# Получение эмбеддингов\n",
    "filename = \"embedding.npy\"\n",
    "if os.path.isfile(filename): # Если уже получены\n",
    "    X = np.load(filename)\n",
    "else: # Если не получены\n",
    "    X = get_bert_embeddings(data[\"text\"].to_list())\n",
    "    np.save(\"embedding.npy\", X)\n",
    "print(\"Размер данных для обучения:\", X.shape)"
   ]
  },
  {
   "cell_type": "code",
   "execution_count": 9,
   "metadata": {},
   "outputs": [],
   "source": [
    "# Целевой признак\n",
    "y = data[\"toxic\"].to_numpy()"
   ]
  },
  {
   "cell_type": "code",
   "execution_count": 10,
   "metadata": {},
   "outputs": [
    {
     "name": "stdout",
     "output_type": "stream",
     "text": [
      "Размер тренировочной выборки: (119469, 768)\n",
      "Размер тестовой выборки: (39823, 768)\n"
     ]
    }
   ],
   "source": [
    "# Разделение на тренировочную и тестовую выборки со стратификацией\n",
    "X_train, X_test, y_train, y_test = train_test_split(X, y, stratify=y, random_state=RANDOM_STATE)\n",
    "\n",
    "# Очистка памяти перед обучением\n",
    "del tokenizer, bert_model, X, y, data\n",
    "torch.cuda.empty_cache()\n",
    "gc.collect()\n",
    "\n",
    "print(\"Размер тренировочной выборки:\", X_train.shape)\n",
    "print(\"Размер тестовой выборки:\", X_test.shape)"
   ]
  },
  {
   "cell_type": "markdown",
   "metadata": {},
   "source": [
    "## Обучение\n",
    "\n",
    "Для предсказания результатов проверим различные модели, решающие задачи классификации - из простых моделей выберем логистическую регрессию, а из ансамблевых методов - RandomForest, LightGBM и CatBoost. В качестве метрики будет использована F1-мера, которая представляет собой среднее гармоническое от точности (precision) и полноты (recall) и неплохо оценивает качество предсказаний.\n",
    "\n",
    "Модели для проверки:\n",
    "1. Логистическая регрессия (Logistic Regression);\n",
    "2. Random Forest;\n",
    "3. Light GBM.\n",
    "4. CatBoost.\n",
    "\n",
    "Метрики модели:\n",
    "- F1-мера (F1-score).\n",
    "\n",
    "Для оценки модели будет использоваться кросс-валидация на тренировочной выборке. Подбор гиперпараметров будет производиться для всех моделей посредством RandomizedSearchCV библиотеки scikit-learn, при этом для ускорения кросс-валидации модель CatBoost желательно запускать на GPU."
   ]
  },
  {
   "cell_type": "code",
   "execution_count": 11,
   "metadata": {},
   "outputs": [],
   "source": [
    "# Определение моделей и значений для подбора гиперпараметров\n",
    "models = {\n",
    "    \"Logistic_Regression\": {\n",
    "        \"model\": LogisticRegression(\n",
    "            random_state=RANDOM_STATE, class_weight=\"balanced\"\n",
    "        ),\n",
    "        \"params\": {\n",
    "            \"C\": [0.01, 0.1, 1, 10, 100],\n",
    "            \"solver\": [\"liblinear\", \"lbfgs\", \"saga\"],\n",
    "            \"max_iter\": [500, 1000]\n",
    "        },\n",
    "        \"file\": \"lr.pkl\",\n",
    "        \"rs_jobs\": -1,\n",
    "        \"rs_iter\": 16\n",
    "    },\n",
    "    \"Random_Forest\": {\n",
    "        \"model\": RandomForestClassifier(\n",
    "            random_state=RANDOM_STATE, n_jobs=-1, class_weight=\"balanced\"\n",
    "        ),\n",
    "        \"params\": {\n",
    "            'n_estimators': [500, 1000],\n",
    "            'max_depth': [5, 10, 20],\n",
    "            'min_samples_split': [2, 5, 10],\n",
    "            'min_samples_leaf': [1, 2, 4]\n",
    "        },\n",
    "        \"file\": \"rf.pkl\",\n",
    "        \"rs_jobs\": None,\n",
    "        \"rs_iter\": 8\n",
    "    },\n",
    "    \"LightGBM\": {\n",
    "        \"model\": lgb.LGBMClassifier(\n",
    "            random_state=RANDOM_STATE, n_jobs=-1, \n",
    "            class_weight=\"balanced\", verbosity=-1\n",
    "        ),\n",
    "        \"params\": {\n",
    "            'n_estimators': [500, 1000],\n",
    "            'learning_rate': [0.01, 0.05, 0.1],\n",
    "            'num_leaves': [31, 63, 127],\n",
    "            'max_depth': [3, 5, 10]\n",
    "        },\n",
    "        \"file\": \"lgb.pkl\",\n",
    "        \"rs_jobs\": None,\n",
    "        \"rs_iter\": 16\n",
    "    },\n",
    "    \"CatBoost\": {\n",
    "        \"model\": cb.CatBoostClassifier(\n",
    "            random_seed=RANDOM_STATE, thread_count=-1, \n",
    "            auto_class_weights=\"Balanced\", \n",
    "            logging_level=\"Silent\", \n",
    "            task_type=\"GPU\" if torch.cuda.is_available() else \"CPU\",\n",
    "            devices=\"0\" if torch.cuda.is_available() else None\n",
    "        ),\n",
    "        \"params\": {\n",
    "            'iterations': [500, 1000],\n",
    "            'depth': [4, 6, 8],\n",
    "            'learning_rate': [0.01, 0.05, 0.1],\n",
    "            'l2_leaf_reg': [1, 3, 5]\n",
    "        },\n",
    "        \"file\": \"cb.pkl\",\n",
    "        \"rs_jobs\": None,\n",
    "        \"rs_iter\": 16\n",
    "    }\n",
    "}"
   ]
  },
  {
   "cell_type": "code",
   "execution_count": 12,
   "metadata": {},
   "outputs": [],
   "source": [
    "# Подготовка переменной для результатов кросс-валидации\n",
    "results_file = MODEL_DIR + \"/\" + \"results.json\"\n",
    "if os.path.isfile(results_file): # Загрузка результатов, если они получены\n",
    "    results = pd.read_json(results_file)\n",
    "else: # Подготовка переменной для результатов, если они еще не получены\n",
    "    results = pd.DataFrame()\n",
    "    for model in models.keys():\n",
    "        results.loc[model, \"f1_score\"] = None\n",
    "        results.loc[model, \"fit_time\"] = None\n",
    "        results.loc[model, \"model_file\"] = None\n",
    "        results.loc[model, \"params\"] = None\n",
    "    del model"
   ]
  },
  {
   "cell_type": "code",
   "execution_count": 13,
   "metadata": {},
   "outputs": [
    {
     "data": {
      "application/vnd.jupyter.widget-view+json": {
       "model_id": "8c9aa07b77634faab14e95cf3ce74a12",
       "version_major": 2,
       "version_minor": 0
      },
      "text/plain": [
       "  0%|          | 0/4 [00:00<?, ?it/s]"
      ]
     },
     "metadata": {},
     "output_type": "display_data"
    },
    {
     "name": "stdout",
     "output_type": "stream",
     "text": [
      "Лучшие гиперпараметры модели Logistic_Regression: {'solver': 'saga', 'max_iter': 1000, 'C': 10}\n",
      "Лучшие гиперпараметры модели Random_Forest: {'n_estimators': 500, 'min_samples_split': 2, 'min_samples_leaf': 4, 'max_depth': 20}\n",
      "Лучшие гиперпараметры модели LightGBM: {'num_leaves': 63, 'n_estimators': 1000, 'max_depth': 10, 'learning_rate': 0.05}\n",
      "Лучшие гиперпараметры модели CatBoost: {'learning_rate': 0.05, 'l2_leaf_reg': 3, 'iterations': 1000, 'depth': 8}\n",
      "CPU times: total: 2d 3h 32min 8s\n",
      "Wall time: 4h 27min 55s\n"
     ]
    }
   ],
   "source": [
    "%%time\n",
    "# Проверка результатов и подбор гиперпараметров в случае их отсутствия\n",
    "pb = tqdm(total=results.shape[0])\n",
    "for name, model_result in results.iterrows():\n",
    "    pb.set_description(f\"Подбор гиперпараметров модели {name}\")\n",
    "    if (\n",
    "        pd.isnull(model_result[\"model_file\"]) or \n",
    "        (not os.path.isfile(model_result[\"model_file\"]))\n",
    "    ):\n",
    "        # Подбор гиперпараметров для модели с кросс-валидацией\n",
    "        rs = RandomizedSearchCV(\n",
    "            models[name][\"model\"], models[name][\"params\"], scoring=SCORING, \n",
    "            cv=CV, n_iter=16, n_jobs=models[name][\"rs_jobs\"], verbose=0,\n",
    "            random_state=RANDOM_STATE, refit=True)\n",
    "        \n",
    "        rs.fit(X_train, y_train)\n",
    "\n",
    "        # сохранение лучшей модели\n",
    "        os.makedirs(MODEL_DIR, exist_ok=True) # создание директории, если её ещё нет\n",
    "        filename = MODEL_DIR + \"/\" + models[name][\"file\"]\n",
    "        with open(filename, \"wb\") as fd:\n",
    "            joblib.dump(rs.best_estimator_, fd)\n",
    "\n",
    "        # сохранение результатов кросс-валидации в переменную\n",
    "        results.loc[name, \"f1_score\"] = rs.best_score_\n",
    "        results.loc[name, \"fit_time\"] = rs.cv_results_[\"mean_fit_time\"][rs.best_index_]\n",
    "        results.loc[name, \"model_file\"] = filename\n",
    "        results.loc[name, \"params\"] = str(rs.best_params_)\n",
    "    print(f\"Лучшие гиперпараметры модели {name}:\", results.loc[name, 'params'])\n",
    "    results.to_json(results_file)\n",
    "    pb.update(1)\n",
    "pb.close()"
   ]
  },
  {
   "cell_type": "code",
   "execution_count": 14,
   "metadata": {},
   "outputs": [
    {
     "data": {
      "text/html": [
       "<style type=\"text/css\">\n",
       "#T_450d8_row0_col0, #T_450d8_row3_col1 {\n",
       "  background-color: #b85e39;\n",
       "  color: #f1f1f1;\n",
       "}\n",
       "#T_450d8_row0_col1 {\n",
       "  background-color: #5484c0;\n",
       "  color: #f1f1f1;\n",
       "}\n",
       "#T_450d8_row1_col0 {\n",
       "  background-color: #c57e62;\n",
       "  color: #f1f1f1;\n",
       "}\n",
       "#T_450d8_row1_col1 {\n",
       "  background-color: #f1edec;\n",
       "  color: #000000;\n",
       "}\n",
       "#T_450d8_row2_col0 {\n",
       "  background-color: #d7ab9a;\n",
       "  color: #000000;\n",
       "}\n",
       "#T_450d8_row2_col1, #T_450d8_row3_col0 {\n",
       "  background-color: #4479bb;\n",
       "  color: #f1f1f1;\n",
       "}\n",
       "</style>\n",
       "<table id=\"T_450d8\">\n",
       "  <thead>\n",
       "    <tr>\n",
       "      <th class=\"blank level0\" >&nbsp;</th>\n",
       "      <th id=\"T_450d8_level0_col0\" class=\"col_heading level0 col0\" >f1_score</th>\n",
       "      <th id=\"T_450d8_level0_col1\" class=\"col_heading level0 col1\" >fit_time</th>\n",
       "      <th id=\"T_450d8_level0_col2\" class=\"col_heading level0 col2\" >model_file</th>\n",
       "      <th id=\"T_450d8_level0_col3\" class=\"col_heading level0 col3\" >params</th>\n",
       "    </tr>\n",
       "  </thead>\n",
       "  <tbody>\n",
       "    <tr>\n",
       "      <th id=\"T_450d8_level0_row0\" class=\"row_heading level0 row0\" >LightGBM</th>\n",
       "      <td id=\"T_450d8_row0_col0\" class=\"data row0 col0\" >0.947</td>\n",
       "      <td id=\"T_450d8_row0_col1\" class=\"data row0 col1\" >63.07</td>\n",
       "      <td id=\"T_450d8_row0_col2\" class=\"data row0 col2\" >models/lgb.pkl</td>\n",
       "      <td id=\"T_450d8_row0_col3\" class=\"data row0 col3\" >{'num_leaves': 63, 'n_estimators': 1000, 'max_depth': 10, 'learning_rate': 0.05}</td>\n",
       "    </tr>\n",
       "    <tr>\n",
       "      <th id=\"T_450d8_level0_row1\" class=\"row_heading level0 row1\" >Random_Forest</th>\n",
       "      <td id=\"T_450d8_row1_col0\" class=\"data row1 col0\" >0.945</td>\n",
       "      <td id=\"T_450d8_row1_col1\" class=\"data row1 col1\" >157.85</td>\n",
       "      <td id=\"T_450d8_row1_col2\" class=\"data row1 col2\" >models/rf.pkl</td>\n",
       "      <td id=\"T_450d8_row1_col3\" class=\"data row1 col3\" >{'n_estimators': 500, 'min_samples_split': 2, 'min_samples_leaf': 4, 'max_depth': 20}</td>\n",
       "    </tr>\n",
       "    <tr>\n",
       "      <th id=\"T_450d8_level0_row2\" class=\"row_heading level0 row2\" >CatBoost</th>\n",
       "      <td id=\"T_450d8_row2_col0\" class=\"data row2 col0\" >0.941</td>\n",
       "      <td id=\"T_450d8_row2_col1\" class=\"data row2 col1\" >53.13</td>\n",
       "      <td id=\"T_450d8_row2_col2\" class=\"data row2 col2\" >models/cb.pkl</td>\n",
       "      <td id=\"T_450d8_row2_col3\" class=\"data row2 col3\" >{'learning_rate': 0.05, 'l2_leaf_reg': 3, 'iterations': 1000, 'depth': 8}</td>\n",
       "    </tr>\n",
       "    <tr>\n",
       "      <th id=\"T_450d8_level0_row3\" class=\"row_heading level0 row3\" >Logistic_Regression</th>\n",
       "      <td id=\"T_450d8_row3_col0\" class=\"data row3 col0\" >0.926</td>\n",
       "      <td id=\"T_450d8_row3_col1\" class=\"data row3 col1\" >256.24</td>\n",
       "      <td id=\"T_450d8_row3_col2\" class=\"data row3 col2\" >models/lr.pkl</td>\n",
       "      <td id=\"T_450d8_row3_col3\" class=\"data row3 col3\" >{'solver': 'saga', 'max_iter': 1000, 'C': 10}</td>\n",
       "    </tr>\n",
       "  </tbody>\n",
       "</table>\n"
      ],
      "text/plain": [
       "<pandas.io.formats.style.Styler at 0x279d5a19280>"
      ]
     },
     "execution_count": 14,
     "metadata": {},
     "output_type": "execute_result"
    }
   ],
   "source": [
    "# Вывод результатов\n",
    "results.sort_values(\"f1_score\", ascending=False).style.background_gradient(\n",
    "    cmap=sns.diverging_palette(250, 25, as_cmap=True), \n",
    "    subset=list([\"f1_score\", \"fit_time\"])\n",
    ").format({\"f1_score\": \"{:.3f}\", \"fit_time\": \"{:.2f}\"})"
   ]
  },
  {
   "cell_type": "markdown",
   "metadata": {},
   "source": [
    "## Выводы\n",
    "\n",
    "По результатам кросс-валидации на тестовых данных лучшую метрику показывает модель LightGBM, довольно близкие результаты у модели Random Forest и с небольшим отставанием результаты модели CatBoost. Стоит отметить, что при обучении на GPU CatBoost показывает наилучшие результаты по скорости. Самое низкое значение метрики у модели Логистической регрессии. Оценим лучшую модель на тестовых данных."
   ]
  },
  {
   "cell_type": "code",
   "execution_count": 15,
   "metadata": {},
   "outputs": [
    {
     "data": {
      "image/png": "[encoded data removed]",
      "text/plain": [
       "<Figure size 640x480 with 1 Axes>"
      ]
     },
     "metadata": {},
     "output_type": "display_data"
    },
    {
     "name": "stdout",
     "output_type": "stream",
     "text": [
      "Метрика F1-score для тестовой выборки: 0.946\n"
     ]
    }
   ],
   "source": [
    "best_result = results.sort_values(\"f1_score\", ascending=False).iloc[0]\n",
    "with open(best_result[\"model_file\"], \"rb\") as fd:\n",
    "    model = joblib.load(fd)\n",
    "y_pred = model.predict(X_test)\n",
    "ax = sns.heatmap(\n",
    "    confusion_matrix(y_test, y_pred),\n",
    "    annot=True, fmt=\"d\", cmap=\"Blues\", cbar=False,\n",
    "    xticklabels=[\"позитивный\", \"негативный\"],\n",
    "    yticklabels=[\"позитивный\", \"негативный\"],\n",
    ")\n",
    "ax.set_yticklabels(ax.get_yticklabels(), va=\"center\")\n",
    "plt.suptitle(\"Матрица ошибок предсказания токсичности\", size=16, color=\"C0\")\n",
    "plt.xlabel(\"Актуальные данные по токсичности комментариев\")\n",
    "plt.ylabel(\"Предсказания токсичности\")\n",
    "plt.show()\n",
    "print(f\"Метрика F1-score для тестовой выборки: {f1_score(y_test, y_pred):.3f}\")"
   ]
  },
  {
   "cell_type": "markdown",
   "metadata": {},
   "source": [
    "По тестовой выборке можно отметить, что модель очень хорошо предсказывает позитивные комментарии - всего 181 комментарий был ошибочно предсказан как негативный, а 35'516 комментариев предсказаны верно. Отношение верно предсказанных комментариев составляет 99,5% от всех позитивных комментариев.  По негативным комментариям ситуация значительно хуже - 261 комментарий предсказан как позитивный, а 3'865 предсказаны верно, что составляет порядка 93.7% от всех негативных комментариев. Метрика F1 для тестовой выборки составляет 0.946, что довольно близко к значениям при кросс-валидации.\n",
    "\n",
    "Использование предварительно обученных моделей BERT качественно влияют на результаты предсказаний моделей в задачах машинного обучения для текстов. Модель BERT создает векторное представление слов с учетом их контекста, отношений между словами и их семантики, что существенно лучше более простых подходов. Даже базовые модели машинного обучения показывают высокие результаты предсказаний, а применение ансамблевых методов может улучшить результаты. \n",
    "\n",
    "Однако стоит отметить, что применение BERT значительно увеличивает требования к вычислительным ресурсам, желательно использовать производительные GPU для подготовки датасета перед обучением моделей. Также при использовании BERT размерность признаков для обучения вероятнее всего будет существенно выше, чем при применении подхода, такого как TF-IDF при котором используется только частота встречи слов. Таким образом, применение BERT требует значительных вычислительных ресурсов как для подготовки датасета, так и для работы моделей."
   ]
  }
 ],
 "metadata": {
  "kernelspec": {
   "display_name": "Python 3 (ipykernel)",
   "language": "python",
   "name": "python3"
  },
  "language_info": {
   "codemirror_mode": {
    "name": "ipython",
    "version": 3
   },
   "file_extension": ".py",
   "mimetype": "text/x-python",
   "name": "python",
   "nbconvert_exporter": "python",
   "pygments_lexer": "ipython3",
   "version": "3.9.5"
  },
  "toc": {
   "base_numbering": 1,
   "nav_menu": {},
   "number_sections": true,
   "sideBar": true,
   "skip_h1_title": true,
   "title_cell": "Содержание",
   "title_sidebar": "Contents",
   "toc_cell": true,
   "toc_position": {
    "height": "calc(100% - 180px)",
    "left": "10px",
    "top": "150px",
    "width": "302.391px"
   },
   "toc_section_display": true,
   "toc_window_display": false
  }
 },
 "nbformat": 4,
 "nbformat_minor": 2
}
