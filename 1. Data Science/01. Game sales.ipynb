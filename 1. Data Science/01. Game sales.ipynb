{
 "cells": [
  {
   "cell_type": "markdown",
   "metadata": {},
   "source": [
    "# Исследование данных о продажах игр\n",
    "\n",
    "Цель исследования - подготовка рекомендаций для разработки стратегии на 2017 год для интернет-магазина «Стримчик», осуществляющего продажи компьютерных игр по всему миру. \n",
    "\n",
    "Из открытых источников доступны исторические данные о продажах игр, оценки пользователей и экспертов, жанры и платформы (например, Xbox или PlayStation) до 2016 года. Необходимо выявить определяющие успешность игры закономерности. Это позволит сделать ставку на потенциально популярный продукт и спланировать рекламные кампании.\n",
    "\n",
    "Также необходимо проверить гипотезы:\n",
    "1. Средние пользовательские рейтинги платформ Xbox One и PC одинаковые;\n",
    "2. Средние пользовательские рейтинги жанров Action и Sports разные.\n",
    "\n",
    "**Определения и сокращения:**\n",
    "\n",
    "ESRB (Entertainment Software Rating Board) — это ассоциация, определяющая возрастной рейтинг компьютерных игр. ESRB оценивает игровой контент и присваивает ему подходящую возрастную категорию, например, «Для взрослых», «Для детей младшего возраста» или «Для подростков»."
   ]
  },
  {
   "cell_type": "code",
   "execution_count": 1,
   "metadata": {},
   "outputs": [],
   "source": [
    "import warnings\n",
    "\n",
    "import pandas as pd\n",
    "import matplotlib.pyplot as plt\n",
    "from scipy import stats as st\n",
    "\n",
    "\n",
    "warnings.filterwarnings('ignore')"
   ]
  },
  {
   "cell_type": "markdown",
   "metadata": {},
   "source": [
    "## Исходные данные "
   ]
  },
  {
   "cell_type": "code",
   "execution_count": 2,
   "metadata": {},
   "outputs": [
    {
     "name": "stdout",
     "output_type": "stream",
     "text": [
      "<class 'pandas.core.frame.DataFrame'>\n",
      "RangeIndex: 16715 entries, 0 to 16714\n",
      "Data columns (total 11 columns):\n",
      " #   Column           Non-Null Count  Dtype  \n",
      "---  ------           --------------  -----  \n",
      " 0   Name             16713 non-null  object \n",
      " 1   Platform         16715 non-null  object \n",
      " 2   Year_of_Release  16446 non-null  float64\n",
      " 3   Genre            16713 non-null  object \n",
      " 4   NA_sales         16715 non-null  float64\n",
      " 5   EU_sales         16715 non-null  float64\n",
      " 6   JP_sales         16715 non-null  float64\n",
      " 7   Other_sales      16715 non-null  float64\n",
      " 8   Critic_Score     8137 non-null   float64\n",
      " 9   User_Score       10014 non-null  object \n",
      " 10  Rating           9949 non-null   object \n",
      "dtypes: float64(6), object(5)\n",
      "memory usage: 1.4+ MB\n"
     ]
    }
   ],
   "source": [
    "data = pd.read_csv(\"https://code.s3.yandex.net/datasets/games.csv\")\n",
    "data.info()"
   ]
  },
  {
   "cell_type": "code",
   "execution_count": 3,
   "metadata": {},
   "outputs": [
    {
     "data": {
      "text/html": [
       "<div>\n",
       "<style scoped>\n",
       "    .dataframe tbody tr th:only-of-type {\n",
       "        vertical-align: middle;\n",
       "    }\n",
       "\n",
       "    .dataframe tbody tr th {\n",
       "        vertical-align: top;\n",
       "    }\n",
       "\n",
       "    .dataframe thead th {\n",
       "        text-align: right;\n",
       "    }\n",
       "</style>\n",
       "<table border=\"1\" class=\"dataframe\">\n",
       "  <thead>\n",
       "    <tr style=\"text-align: right;\">\n",
       "      <th></th>\n",
       "      <th>Name</th>\n",
       "      <th>Platform</th>\n",
       "      <th>Year_of_Release</th>\n",
       "      <th>Genre</th>\n",
       "      <th>NA_sales</th>\n",
       "      <th>EU_sales</th>\n",
       "      <th>JP_sales</th>\n",
       "      <th>Other_sales</th>\n",
       "      <th>Critic_Score</th>\n",
       "      <th>User_Score</th>\n",
       "      <th>Rating</th>\n",
       "    </tr>\n",
       "  </thead>\n",
       "  <tbody>\n",
       "    <tr>\n",
       "      <th>0</th>\n",
       "      <td>Wii Sports</td>\n",
       "      <td>Wii</td>\n",
       "      <td>2006.0</td>\n",
       "      <td>Sports</td>\n",
       "      <td>41.36</td>\n",
       "      <td>28.96</td>\n",
       "      <td>3.77</td>\n",
       "      <td>8.45</td>\n",
       "      <td>76.0</td>\n",
       "      <td>8</td>\n",
       "      <td>E</td>\n",
       "    </tr>\n",
       "    <tr>\n",
       "      <th>1</th>\n",
       "      <td>Super Mario Bros.</td>\n",
       "      <td>NES</td>\n",
       "      <td>1985.0</td>\n",
       "      <td>Platform</td>\n",
       "      <td>29.08</td>\n",
       "      <td>3.58</td>\n",
       "      <td>6.81</td>\n",
       "      <td>0.77</td>\n",
       "      <td>NaN</td>\n",
       "      <td>NaN</td>\n",
       "      <td>NaN</td>\n",
       "    </tr>\n",
       "    <tr>\n",
       "      <th>2</th>\n",
       "      <td>Mario Kart Wii</td>\n",
       "      <td>Wii</td>\n",
       "      <td>2008.0</td>\n",
       "      <td>Racing</td>\n",
       "      <td>15.68</td>\n",
       "      <td>12.76</td>\n",
       "      <td>3.79</td>\n",
       "      <td>3.29</td>\n",
       "      <td>82.0</td>\n",
       "      <td>8.3</td>\n",
       "      <td>E</td>\n",
       "    </tr>\n",
       "    <tr>\n",
       "      <th>3</th>\n",
       "      <td>Wii Sports Resort</td>\n",
       "      <td>Wii</td>\n",
       "      <td>2009.0</td>\n",
       "      <td>Sports</td>\n",
       "      <td>15.61</td>\n",
       "      <td>10.93</td>\n",
       "      <td>3.28</td>\n",
       "      <td>2.95</td>\n",
       "      <td>80.0</td>\n",
       "      <td>8</td>\n",
       "      <td>E</td>\n",
       "    </tr>\n",
       "    <tr>\n",
       "      <th>4</th>\n",
       "      <td>Pokemon Red/Pokemon Blue</td>\n",
       "      <td>GB</td>\n",
       "      <td>1996.0</td>\n",
       "      <td>Role-Playing</td>\n",
       "      <td>11.27</td>\n",
       "      <td>8.89</td>\n",
       "      <td>10.22</td>\n",
       "      <td>1.00</td>\n",
       "      <td>NaN</td>\n",
       "      <td>NaN</td>\n",
       "      <td>NaN</td>\n",
       "    </tr>\n",
       "    <tr>\n",
       "      <th>5</th>\n",
       "      <td>Tetris</td>\n",
       "      <td>GB</td>\n",
       "      <td>1989.0</td>\n",
       "      <td>Puzzle</td>\n",
       "      <td>23.20</td>\n",
       "      <td>2.26</td>\n",
       "      <td>4.22</td>\n",
       "      <td>0.58</td>\n",
       "      <td>NaN</td>\n",
       "      <td>NaN</td>\n",
       "      <td>NaN</td>\n",
       "    </tr>\n",
       "    <tr>\n",
       "      <th>6</th>\n",
       "      <td>New Super Mario Bros.</td>\n",
       "      <td>DS</td>\n",
       "      <td>2006.0</td>\n",
       "      <td>Platform</td>\n",
       "      <td>11.28</td>\n",
       "      <td>9.14</td>\n",
       "      <td>6.50</td>\n",
       "      <td>2.88</td>\n",
       "      <td>89.0</td>\n",
       "      <td>8.5</td>\n",
       "      <td>E</td>\n",
       "    </tr>\n",
       "    <tr>\n",
       "      <th>7</th>\n",
       "      <td>Wii Play</td>\n",
       "      <td>Wii</td>\n",
       "      <td>2006.0</td>\n",
       "      <td>Misc</td>\n",
       "      <td>13.96</td>\n",
       "      <td>9.18</td>\n",
       "      <td>2.93</td>\n",
       "      <td>2.84</td>\n",
       "      <td>58.0</td>\n",
       "      <td>6.6</td>\n",
       "      <td>E</td>\n",
       "    </tr>\n",
       "    <tr>\n",
       "      <th>8</th>\n",
       "      <td>New Super Mario Bros. Wii</td>\n",
       "      <td>Wii</td>\n",
       "      <td>2009.0</td>\n",
       "      <td>Platform</td>\n",
       "      <td>14.44</td>\n",
       "      <td>6.94</td>\n",
       "      <td>4.70</td>\n",
       "      <td>2.24</td>\n",
       "      <td>87.0</td>\n",
       "      <td>8.4</td>\n",
       "      <td>E</td>\n",
       "    </tr>\n",
       "    <tr>\n",
       "      <th>9</th>\n",
       "      <td>Duck Hunt</td>\n",
       "      <td>NES</td>\n",
       "      <td>1984.0</td>\n",
       "      <td>Shooter</td>\n",
       "      <td>26.93</td>\n",
       "      <td>0.63</td>\n",
       "      <td>0.28</td>\n",
       "      <td>0.47</td>\n",
       "      <td>NaN</td>\n",
       "      <td>NaN</td>\n",
       "      <td>NaN</td>\n",
       "    </tr>\n",
       "  </tbody>\n",
       "</table>\n",
       "</div>"
      ],
      "text/plain": [
       "                        Name Platform  Year_of_Release         Genre  \\\n",
       "0                 Wii Sports      Wii           2006.0        Sports   \n",
       "1          Super Mario Bros.      NES           1985.0      Platform   \n",
       "2             Mario Kart Wii      Wii           2008.0        Racing   \n",
       "3          Wii Sports Resort      Wii           2009.0        Sports   \n",
       "4   Pokemon Red/Pokemon Blue       GB           1996.0  Role-Playing   \n",
       "5                     Tetris       GB           1989.0        Puzzle   \n",
       "6      New Super Mario Bros.       DS           2006.0      Platform   \n",
       "7                   Wii Play      Wii           2006.0          Misc   \n",
       "8  New Super Mario Bros. Wii      Wii           2009.0      Platform   \n",
       "9                  Duck Hunt      NES           1984.0       Shooter   \n",
       "\n",
       "   NA_sales  EU_sales  JP_sales  Other_sales  Critic_Score User_Score Rating  \n",
       "0     41.36     28.96      3.77         8.45          76.0          8      E  \n",
       "1     29.08      3.58      6.81         0.77           NaN        NaN    NaN  \n",
       "2     15.68     12.76      3.79         3.29          82.0        8.3      E  \n",
       "3     15.61     10.93      3.28         2.95          80.0          8      E  \n",
       "4     11.27      8.89     10.22         1.00           NaN        NaN    NaN  \n",
       "5     23.20      2.26      4.22         0.58           NaN        NaN    NaN  \n",
       "6     11.28      9.14      6.50         2.88          89.0        8.5      E  \n",
       "7     13.96      9.18      2.93         2.84          58.0        6.6      E  \n",
       "8     14.44      6.94      4.70         2.24          87.0        8.4      E  \n",
       "9     26.93      0.63      0.28         0.47           NaN        NaN    NaN  "
      ]
     },
     "execution_count": 3,
     "metadata": {},
     "output_type": "execute_result"
    }
   ],
   "source": [
    "data.head(10)"
   ]
  },
  {
   "cell_type": "code",
   "execution_count": 4,
   "metadata": {},
   "outputs": [
    {
     "data": {
      "image/png": "[encoded data removed]",
      "text/plain": [
       "<Figure size 1224x216 with 1 Axes>"
      ]
     },
     "metadata": {
      "needs_background": "light"
     },
     "output_type": "display_data"
    },
    {
     "name": "stdout",
     "output_type": "stream",
     "text": [
      "                 пропуски\n",
      "Critic_Score         8578\n",
      "Rating               6766\n",
      "User_Score           6701\n",
      "Year_of_Release       269\n",
      "Name                    2\n",
      "Genre                   2\n"
     ]
    }
   ],
   "source": [
    "def show_nan(df: pd.DataFrame, title: str = \"Количество пропущенных значений\"):\n",
    "    (\n",
    "        (df.isna().mean().to_frame()\n",
    "        .rename(columns={0: \"пропуски\"}) * 100)\n",
    "        .query(\"пропуски > 0\").sort_values(\"пропуски\", ascending=True)\n",
    "    ).plot(kind=\"barh\", figsize=(17, 3), fontsize=16, xlim=(0, 100))\n",
    "    plt.title(title , size=18)\n",
    "    plt.legend(loc=\"lower right\")\n",
    "    plt.xlabel(\"Процент данных\", size=12)\n",
    "    plt.show()\n",
    "    print(\n",
    "        df.isna().sum().to_frame()\n",
    "        .rename(columns={0: \"пропуски\"}).query(\"пропуски > 0\")\n",
    "        .sort_values(\"пропуски\", ascending=False)\n",
    "    )\n",
    "\n",
    "show_nan(data)"
   ]
  },
  {
   "cell_type": "markdown",
   "metadata": {},
   "source": [
    "### Промежуточные выводы\n",
    "\n",
    "Получены исходные данные:\n",
    "1. общее количество строк вы выборке составляет - 16715;\n",
    "2. имеются пропуски в данных по 6 полям: \n",
    "    - Critic_Score - 8578\n",
    "    - Rating - 6766\n",
    "    - User_Score - 6701\n",
    "    - Year_of_Release - 269\n",
    "    - Genre - 2\n",
    "    - Name - 2"
   ]
  },
  {
   "cell_type": "markdown",
   "metadata": {},
   "source": [
    "## Подготовка данных"
   ]
  },
  {
   "cell_type": "markdown",
   "metadata": {},
   "source": [
    "### Обработка параметров"
   ]
  },
  {
   "cell_type": "code",
   "execution_count": 5,
   "metadata": {},
   "outputs": [
    {
     "data": {
      "text/plain": [
       "Index(['name', 'platform', 'year_of_release', 'genre', 'na_sales', 'eu_sales',\n",
       "       'jp_sales', 'other_sales', 'critic_score', 'user_score', 'rating'],\n",
       "      dtype='object')"
      ]
     },
     "execution_count": 5,
     "metadata": {},
     "output_type": "execute_result"
    }
   ],
   "source": [
    "data.columns = data.columns.str.lower()\n",
    "data.columns"
   ]
  },
  {
   "cell_type": "markdown",
   "metadata": {},
   "source": [
    "Приведены наименования колонок в нижний регистр для большего удобства работы.\n",
    "\n",
    "Приведем параметр year_of_release к целочисленному типу для удобства восприятия, а также user_score к числовому для возможности работы с этим параметром."
   ]
  },
  {
   "cell_type": "code",
   "execution_count": 6,
   "metadata": {},
   "outputs": [
    {
     "data": {
      "text/html": [
       "<div>\n",
       "<style scoped>\n",
       "    .dataframe tbody tr th:only-of-type {\n",
       "        vertical-align: middle;\n",
       "    }\n",
       "\n",
       "    .dataframe tbody tr th {\n",
       "        vertical-align: top;\n",
       "    }\n",
       "\n",
       "    .dataframe thead th {\n",
       "        text-align: right;\n",
       "    }\n",
       "</style>\n",
       "<table border=\"1\" class=\"dataframe\">\n",
       "  <thead>\n",
       "    <tr style=\"text-align: right;\">\n",
       "      <th></th>\n",
       "      <th>name</th>\n",
       "      <th>platform</th>\n",
       "      <th>year_of_release</th>\n",
       "      <th>genre</th>\n",
       "      <th>na_sales</th>\n",
       "      <th>eu_sales</th>\n",
       "      <th>jp_sales</th>\n",
       "      <th>other_sales</th>\n",
       "      <th>critic_score</th>\n",
       "      <th>user_score</th>\n",
       "      <th>rating</th>\n",
       "    </tr>\n",
       "  </thead>\n",
       "  <tbody>\n",
       "    <tr>\n",
       "      <th>119</th>\n",
       "      <td>Zumba Fitness</td>\n",
       "      <td>Wii</td>\n",
       "      <td>2010</td>\n",
       "      <td>Sports</td>\n",
       "      <td>3.45</td>\n",
       "      <td>2.59</td>\n",
       "      <td>0.0</td>\n",
       "      <td>0.66</td>\n",
       "      <td>NaN</td>\n",
       "      <td>tbd</td>\n",
       "      <td>E</td>\n",
       "    </tr>\n",
       "    <tr>\n",
       "      <th>301</th>\n",
       "      <td>Namco Museum: 50th Anniversary</td>\n",
       "      <td>PS2</td>\n",
       "      <td>2005</td>\n",
       "      <td>Misc</td>\n",
       "      <td>2.08</td>\n",
       "      <td>1.35</td>\n",
       "      <td>0.0</td>\n",
       "      <td>0.54</td>\n",
       "      <td>61.0</td>\n",
       "      <td>tbd</td>\n",
       "      <td>E10+</td>\n",
       "    </tr>\n",
       "    <tr>\n",
       "      <th>520</th>\n",
       "      <td>Zumba Fitness 2</td>\n",
       "      <td>Wii</td>\n",
       "      <td>2011</td>\n",
       "      <td>Sports</td>\n",
       "      <td>1.51</td>\n",
       "      <td>1.03</td>\n",
       "      <td>0.0</td>\n",
       "      <td>0.27</td>\n",
       "      <td>NaN</td>\n",
       "      <td>tbd</td>\n",
       "      <td>T</td>\n",
       "    </tr>\n",
       "    <tr>\n",
       "      <th>645</th>\n",
       "      <td>uDraw Studio</td>\n",
       "      <td>Wii</td>\n",
       "      <td>2010</td>\n",
       "      <td>Misc</td>\n",
       "      <td>1.65</td>\n",
       "      <td>0.57</td>\n",
       "      <td>0.0</td>\n",
       "      <td>0.20</td>\n",
       "      <td>71.0</td>\n",
       "      <td>tbd</td>\n",
       "      <td>E</td>\n",
       "    </tr>\n",
       "    <tr>\n",
       "      <th>657</th>\n",
       "      <td>Frogger's Adventures: Temple of the Frog</td>\n",
       "      <td>GBA</td>\n",
       "      <td>&lt;NA&gt;</td>\n",
       "      <td>Adventure</td>\n",
       "      <td>2.15</td>\n",
       "      <td>0.18</td>\n",
       "      <td>0.0</td>\n",
       "      <td>0.07</td>\n",
       "      <td>73.0</td>\n",
       "      <td>tbd</td>\n",
       "      <td>E</td>\n",
       "    </tr>\n",
       "    <tr>\n",
       "      <th>...</th>\n",
       "      <td>...</td>\n",
       "      <td>...</td>\n",
       "      <td>...</td>\n",
       "      <td>...</td>\n",
       "      <td>...</td>\n",
       "      <td>...</td>\n",
       "      <td>...</td>\n",
       "      <td>...</td>\n",
       "      <td>...</td>\n",
       "      <td>...</td>\n",
       "      <td>...</td>\n",
       "    </tr>\n",
       "    <tr>\n",
       "      <th>16695</th>\n",
       "      <td>Planet Monsters</td>\n",
       "      <td>GBA</td>\n",
       "      <td>2001</td>\n",
       "      <td>Action</td>\n",
       "      <td>0.01</td>\n",
       "      <td>0.00</td>\n",
       "      <td>0.0</td>\n",
       "      <td>0.00</td>\n",
       "      <td>67.0</td>\n",
       "      <td>tbd</td>\n",
       "      <td>E</td>\n",
       "    </tr>\n",
       "    <tr>\n",
       "      <th>16697</th>\n",
       "      <td>Bust-A-Move 3000</td>\n",
       "      <td>GC</td>\n",
       "      <td>2003</td>\n",
       "      <td>Puzzle</td>\n",
       "      <td>0.01</td>\n",
       "      <td>0.00</td>\n",
       "      <td>0.0</td>\n",
       "      <td>0.00</td>\n",
       "      <td>53.0</td>\n",
       "      <td>tbd</td>\n",
       "      <td>E</td>\n",
       "    </tr>\n",
       "    <tr>\n",
       "      <th>16698</th>\n",
       "      <td>Mega Brain Boost</td>\n",
       "      <td>DS</td>\n",
       "      <td>2008</td>\n",
       "      <td>Puzzle</td>\n",
       "      <td>0.01</td>\n",
       "      <td>0.00</td>\n",
       "      <td>0.0</td>\n",
       "      <td>0.00</td>\n",
       "      <td>48.0</td>\n",
       "      <td>tbd</td>\n",
       "      <td>E</td>\n",
       "    </tr>\n",
       "    <tr>\n",
       "      <th>16704</th>\n",
       "      <td>Plushees</td>\n",
       "      <td>DS</td>\n",
       "      <td>2008</td>\n",
       "      <td>Simulation</td>\n",
       "      <td>0.01</td>\n",
       "      <td>0.00</td>\n",
       "      <td>0.0</td>\n",
       "      <td>0.00</td>\n",
       "      <td>NaN</td>\n",
       "      <td>tbd</td>\n",
       "      <td>E</td>\n",
       "    </tr>\n",
       "    <tr>\n",
       "      <th>16706</th>\n",
       "      <td>Men in Black II: Alien Escape</td>\n",
       "      <td>GC</td>\n",
       "      <td>2003</td>\n",
       "      <td>Shooter</td>\n",
       "      <td>0.01</td>\n",
       "      <td>0.00</td>\n",
       "      <td>0.0</td>\n",
       "      <td>0.00</td>\n",
       "      <td>NaN</td>\n",
       "      <td>tbd</td>\n",
       "      <td>T</td>\n",
       "    </tr>\n",
       "  </tbody>\n",
       "</table>\n",
       "<p>2424 rows × 11 columns</p>\n",
       "</div>"
      ],
      "text/plain": [
       "                                           name platform  year_of_release  \\\n",
       "119                               Zumba Fitness      Wii             2010   \n",
       "301              Namco Museum: 50th Anniversary      PS2             2005   \n",
       "520                             Zumba Fitness 2      Wii             2011   \n",
       "645                                uDraw Studio      Wii             2010   \n",
       "657    Frogger's Adventures: Temple of the Frog      GBA             <NA>   \n",
       "...                                         ...      ...              ...   \n",
       "16695                           Planet Monsters      GBA             2001   \n",
       "16697                          Bust-A-Move 3000       GC             2003   \n",
       "16698                          Mega Brain Boost       DS             2008   \n",
       "16704                                  Plushees       DS             2008   \n",
       "16706             Men in Black II: Alien Escape       GC             2003   \n",
       "\n",
       "            genre  na_sales  eu_sales  jp_sales  other_sales  critic_score  \\\n",
       "119        Sports      3.45      2.59       0.0         0.66           NaN   \n",
       "301          Misc      2.08      1.35       0.0         0.54          61.0   \n",
       "520        Sports      1.51      1.03       0.0         0.27           NaN   \n",
       "645          Misc      1.65      0.57       0.0         0.20          71.0   \n",
       "657     Adventure      2.15      0.18       0.0         0.07          73.0   \n",
       "...           ...       ...       ...       ...          ...           ...   \n",
       "16695      Action      0.01      0.00       0.0         0.00          67.0   \n",
       "16697      Puzzle      0.01      0.00       0.0         0.00          53.0   \n",
       "16698      Puzzle      0.01      0.00       0.0         0.00          48.0   \n",
       "16704  Simulation      0.01      0.00       0.0         0.00           NaN   \n",
       "16706     Shooter      0.01      0.00       0.0         0.00           NaN   \n",
       "\n",
       "      user_score rating  \n",
       "119          tbd      E  \n",
       "301          tbd   E10+  \n",
       "520          tbd      T  \n",
       "645          tbd      E  \n",
       "657          tbd      E  \n",
       "...          ...    ...  \n",
       "16695        tbd      E  \n",
       "16697        tbd      E  \n",
       "16698        tbd      E  \n",
       "16704        tbd      E  \n",
       "16706        tbd      T  \n",
       "\n",
       "[2424 rows x 11 columns]"
      ]
     },
     "execution_count": 6,
     "metadata": {},
     "output_type": "execute_result"
    }
   ],
   "source": [
    "data[\"year_of_release\"] = data[\"year_of_release\"].astype(\"Int64\")\n",
    "data[\"user_score\"] = pd.to_numeric(data[\"user_score\"], errors=\"ignore\")\n",
    "data.query(\"user_score == 'tbd'\")"
   ]
  },
  {
   "cell_type": "markdown",
   "metadata": {},
   "source": [
    "При попытке преобразования типа по параметру user_score выявилось наличие строкового значения `tbd` в данных. Удалось выяснить, что TBD означает - to be determined (будет определено) или to be decided (будет решено). Это означает, что значение еще не установлено и его можно уверенно заменить на NaN указав параметр errors=`coerce` для функции pandas.to_numeric."
   ]
  },
  {
   "cell_type": "code",
   "execution_count": 7,
   "metadata": {},
   "outputs": [
    {
     "data": {
      "text/html": [
       "<div>\n",
       "<style scoped>\n",
       "    .dataframe tbody tr th:only-of-type {\n",
       "        vertical-align: middle;\n",
       "    }\n",
       "\n",
       "    .dataframe tbody tr th {\n",
       "        vertical-align: top;\n",
       "    }\n",
       "\n",
       "    .dataframe thead th {\n",
       "        text-align: right;\n",
       "    }\n",
       "</style>\n",
       "<table border=\"1\" class=\"dataframe\">\n",
       "  <thead>\n",
       "    <tr style=\"text-align: right;\">\n",
       "      <th></th>\n",
       "      <th>year_of_release</th>\n",
       "      <th>na_sales</th>\n",
       "      <th>eu_sales</th>\n",
       "      <th>jp_sales</th>\n",
       "      <th>other_sales</th>\n",
       "      <th>critic_score</th>\n",
       "      <th>user_score</th>\n",
       "    </tr>\n",
       "  </thead>\n",
       "  <tbody>\n",
       "    <tr>\n",
       "      <th>count</th>\n",
       "      <td>16446.000000</td>\n",
       "      <td>16715.000000</td>\n",
       "      <td>16715.000000</td>\n",
       "      <td>16715.000000</td>\n",
       "      <td>16715.000000</td>\n",
       "      <td>8137.000000</td>\n",
       "      <td>7590.000000</td>\n",
       "    </tr>\n",
       "    <tr>\n",
       "      <th>mean</th>\n",
       "      <td>2006.484616</td>\n",
       "      <td>0.263377</td>\n",
       "      <td>0.145060</td>\n",
       "      <td>0.077617</td>\n",
       "      <td>0.047342</td>\n",
       "      <td>68.967679</td>\n",
       "      <td>7.125046</td>\n",
       "    </tr>\n",
       "    <tr>\n",
       "      <th>std</th>\n",
       "      <td>5.877050</td>\n",
       "      <td>0.813604</td>\n",
       "      <td>0.503339</td>\n",
       "      <td>0.308853</td>\n",
       "      <td>0.186731</td>\n",
       "      <td>13.938165</td>\n",
       "      <td>1.500006</td>\n",
       "    </tr>\n",
       "    <tr>\n",
       "      <th>min</th>\n",
       "      <td>1980.000000</td>\n",
       "      <td>0.000000</td>\n",
       "      <td>0.000000</td>\n",
       "      <td>0.000000</td>\n",
       "      <td>0.000000</td>\n",
       "      <td>13.000000</td>\n",
       "      <td>0.000000</td>\n",
       "    </tr>\n",
       "    <tr>\n",
       "      <th>25%</th>\n",
       "      <td>2003.000000</td>\n",
       "      <td>0.000000</td>\n",
       "      <td>0.000000</td>\n",
       "      <td>0.000000</td>\n",
       "      <td>0.000000</td>\n",
       "      <td>60.000000</td>\n",
       "      <td>6.400000</td>\n",
       "    </tr>\n",
       "    <tr>\n",
       "      <th>50%</th>\n",
       "      <td>2007.000000</td>\n",
       "      <td>0.080000</td>\n",
       "      <td>0.020000</td>\n",
       "      <td>0.000000</td>\n",
       "      <td>0.010000</td>\n",
       "      <td>71.000000</td>\n",
       "      <td>7.500000</td>\n",
       "    </tr>\n",
       "    <tr>\n",
       "      <th>75%</th>\n",
       "      <td>2010.000000</td>\n",
       "      <td>0.240000</td>\n",
       "      <td>0.110000</td>\n",
       "      <td>0.040000</td>\n",
       "      <td>0.030000</td>\n",
       "      <td>79.000000</td>\n",
       "      <td>8.200000</td>\n",
       "    </tr>\n",
       "    <tr>\n",
       "      <th>max</th>\n",
       "      <td>2016.000000</td>\n",
       "      <td>41.360000</td>\n",
       "      <td>28.960000</td>\n",
       "      <td>10.220000</td>\n",
       "      <td>10.570000</td>\n",
       "      <td>98.000000</td>\n",
       "      <td>9.700000</td>\n",
       "    </tr>\n",
       "  </tbody>\n",
       "</table>\n",
       "</div>"
      ],
      "text/plain": [
       "       year_of_release      na_sales      eu_sales      jp_sales  \\\n",
       "count     16446.000000  16715.000000  16715.000000  16715.000000   \n",
       "mean       2006.484616      0.263377      0.145060      0.077617   \n",
       "std           5.877050      0.813604      0.503339      0.308853   \n",
       "min        1980.000000      0.000000      0.000000      0.000000   \n",
       "25%        2003.000000      0.000000      0.000000      0.000000   \n",
       "50%        2007.000000      0.080000      0.020000      0.000000   \n",
       "75%        2010.000000      0.240000      0.110000      0.040000   \n",
       "max        2016.000000     41.360000     28.960000     10.220000   \n",
       "\n",
       "        other_sales  critic_score   user_score  \n",
       "count  16715.000000   8137.000000  7590.000000  \n",
       "mean       0.047342     68.967679     7.125046  \n",
       "std        0.186731     13.938165     1.500006  \n",
       "min        0.000000     13.000000     0.000000  \n",
       "25%        0.000000     60.000000     6.400000  \n",
       "50%        0.010000     71.000000     7.500000  \n",
       "75%        0.030000     79.000000     8.200000  \n",
       "max       10.570000     98.000000     9.700000  "
      ]
     },
     "execution_count": 7,
     "metadata": {},
     "output_type": "execute_result"
    }
   ],
   "source": [
    "data[\"user_score\"] = pd.to_numeric(data[\"user_score\"], errors=\"coerce\")\n",
    "data.describe()"
   ]
  },
  {
   "cell_type": "markdown",
   "metadata": {},
   "source": [
    "Исходя из распределения данных можно сделать следующие выводы:\n",
    "- год релиза начинается с 1980-го, основная масса между 2003 и 2010 годами, самые поздние - 2016 года;\n",
    "- по продажам - до 1/4 всех игр имеют значения 0.0, более высокие средние продажи на рынках Северной америки (0.26), далее идет Европа (0.14), Япония (0.07) и другие страны (0.04);\n",
    "- оценки критиков располагаются между 13 и 98, основная масса между 60 и 79 баллов;\n",
    "- оценки пользователей располагаются от 0.0 до 9.7, основная масса между 6.4 и 8.2, в целом оценки пользователей немного выше оценки критиков."
   ]
  },
  {
   "cell_type": "markdown",
   "metadata": {},
   "source": [
    "### Пропуски и дубликаты игр\n",
    "\n",
    "Проверим пропущенные значения по параметрам name и genre:"
   ]
  },
  {
   "cell_type": "code",
   "execution_count": 8,
   "metadata": {},
   "outputs": [
    {
     "data": {
      "text/html": [
       "<div>\n",
       "<style scoped>\n",
       "    .dataframe tbody tr th:only-of-type {\n",
       "        vertical-align: middle;\n",
       "    }\n",
       "\n",
       "    .dataframe tbody tr th {\n",
       "        vertical-align: top;\n",
       "    }\n",
       "\n",
       "    .dataframe thead th {\n",
       "        text-align: right;\n",
       "    }\n",
       "</style>\n",
       "<table border=\"1\" class=\"dataframe\">\n",
       "  <thead>\n",
       "    <tr style=\"text-align: right;\">\n",
       "      <th></th>\n",
       "      <th>name</th>\n",
       "      <th>platform</th>\n",
       "      <th>year_of_release</th>\n",
       "      <th>genre</th>\n",
       "      <th>na_sales</th>\n",
       "      <th>eu_sales</th>\n",
       "      <th>jp_sales</th>\n",
       "      <th>other_sales</th>\n",
       "      <th>critic_score</th>\n",
       "      <th>user_score</th>\n",
       "      <th>rating</th>\n",
       "    </tr>\n",
       "  </thead>\n",
       "  <tbody>\n",
       "    <tr>\n",
       "      <th>659</th>\n",
       "      <td>NaN</td>\n",
       "      <td>GEN</td>\n",
       "      <td>1993</td>\n",
       "      <td>NaN</td>\n",
       "      <td>1.78</td>\n",
       "      <td>0.53</td>\n",
       "      <td>0.00</td>\n",
       "      <td>0.08</td>\n",
       "      <td>NaN</td>\n",
       "      <td>NaN</td>\n",
       "      <td>NaN</td>\n",
       "    </tr>\n",
       "    <tr>\n",
       "      <th>14244</th>\n",
       "      <td>NaN</td>\n",
       "      <td>GEN</td>\n",
       "      <td>1993</td>\n",
       "      <td>NaN</td>\n",
       "      <td>0.00</td>\n",
       "      <td>0.00</td>\n",
       "      <td>0.03</td>\n",
       "      <td>0.00</td>\n",
       "      <td>NaN</td>\n",
       "      <td>NaN</td>\n",
       "      <td>NaN</td>\n",
       "    </tr>\n",
       "  </tbody>\n",
       "</table>\n",
       "</div>"
      ],
      "text/plain": [
       "      name platform  year_of_release genre  na_sales  eu_sales  jp_sales  \\\n",
       "659    NaN      GEN             1993   NaN      1.78      0.53      0.00   \n",
       "14244  NaN      GEN             1993   NaN      0.00      0.00      0.03   \n",
       "\n",
       "       other_sales  critic_score  user_score rating  \n",
       "659           0.08           NaN         NaN    NaN  \n",
       "14244         0.00           NaN         NaN    NaN  "
      ]
     },
     "execution_count": 8,
     "metadata": {},
     "output_type": "execute_result"
    }
   ],
   "source": [
    "data.query(\"name.isna() or genre.isna()\")"
   ]
  },
  {
   "cell_type": "markdown",
   "metadata": {},
   "source": [
    "Пропуски приходятся на одни и те же данные. Обе игры 1993 года, по одной имеются данные по продажам по всем регионам, кроме Японии. По второй наоборот - только по Японии. Вполне возможно, что это одна и та же игра. По какой-то причине у нее отсутствует наименование и жанр точно ответить невозможно, может быть какой-то технический сбой или сбой при выгрузке данных. Проверим какие игры были на данной платформе в 1993 году."
   ]
  },
  {
   "cell_type": "code",
   "execution_count": 9,
   "metadata": {},
   "outputs": [
    {
     "data": {
      "text/html": [
       "<div>\n",
       "<style scoped>\n",
       "    .dataframe tbody tr th:only-of-type {\n",
       "        vertical-align: middle;\n",
       "    }\n",
       "\n",
       "    .dataframe tbody tr th {\n",
       "        vertical-align: top;\n",
       "    }\n",
       "\n",
       "    .dataframe thead th {\n",
       "        text-align: right;\n",
       "    }\n",
       "</style>\n",
       "<table border=\"1\" class=\"dataframe\">\n",
       "  <thead>\n",
       "    <tr style=\"text-align: right;\">\n",
       "      <th></th>\n",
       "      <th>name</th>\n",
       "      <th>platform</th>\n",
       "      <th>year_of_release</th>\n",
       "      <th>genre</th>\n",
       "      <th>na_sales</th>\n",
       "      <th>eu_sales</th>\n",
       "      <th>jp_sales</th>\n",
       "      <th>other_sales</th>\n",
       "      <th>critic_score</th>\n",
       "      <th>user_score</th>\n",
       "      <th>rating</th>\n",
       "    </tr>\n",
       "  </thead>\n",
       "  <tbody>\n",
       "    <tr>\n",
       "      <th>659</th>\n",
       "      <td>NaN</td>\n",
       "      <td>GEN</td>\n",
       "      <td>1993</td>\n",
       "      <td>NaN</td>\n",
       "      <td>1.78</td>\n",
       "      <td>0.53</td>\n",
       "      <td>0.00</td>\n",
       "      <td>0.08</td>\n",
       "      <td>NaN</td>\n",
       "      <td>NaN</td>\n",
       "      <td>NaN</td>\n",
       "    </tr>\n",
       "    <tr>\n",
       "      <th>7885</th>\n",
       "      <td>Shining Force II</td>\n",
       "      <td>GEN</td>\n",
       "      <td>1993</td>\n",
       "      <td>Strategy</td>\n",
       "      <td>0.00</td>\n",
       "      <td>0.00</td>\n",
       "      <td>0.19</td>\n",
       "      <td>0.00</td>\n",
       "      <td>NaN</td>\n",
       "      <td>NaN</td>\n",
       "      <td>NaN</td>\n",
       "    </tr>\n",
       "    <tr>\n",
       "      <th>8893</th>\n",
       "      <td>Super Street Fighter II</td>\n",
       "      <td>GEN</td>\n",
       "      <td>1993</td>\n",
       "      <td>Fighting</td>\n",
       "      <td>0.00</td>\n",
       "      <td>0.00</td>\n",
       "      <td>0.15</td>\n",
       "      <td>0.00</td>\n",
       "      <td>NaN</td>\n",
       "      <td>NaN</td>\n",
       "      <td>NaN</td>\n",
       "    </tr>\n",
       "    <tr>\n",
       "      <th>11986</th>\n",
       "      <td>Ecco: The Tides of Time</td>\n",
       "      <td>GEN</td>\n",
       "      <td>1993</td>\n",
       "      <td>Adventure</td>\n",
       "      <td>0.00</td>\n",
       "      <td>0.00</td>\n",
       "      <td>0.07</td>\n",
       "      <td>0.00</td>\n",
       "      <td>NaN</td>\n",
       "      <td>NaN</td>\n",
       "      <td>NaN</td>\n",
       "    </tr>\n",
       "    <tr>\n",
       "      <th>12098</th>\n",
       "      <td>Street Fighter II': Special Champion Edition (...</td>\n",
       "      <td>GEN</td>\n",
       "      <td>1993</td>\n",
       "      <td>Action</td>\n",
       "      <td>0.00</td>\n",
       "      <td>0.00</td>\n",
       "      <td>0.07</td>\n",
       "      <td>0.00</td>\n",
       "      <td>NaN</td>\n",
       "      <td>NaN</td>\n",
       "      <td>NaN</td>\n",
       "    </tr>\n",
       "    <tr>\n",
       "      <th>12264</th>\n",
       "      <td>Streets of Rage 3</td>\n",
       "      <td>GEN</td>\n",
       "      <td>1993</td>\n",
       "      <td>Action</td>\n",
       "      <td>0.00</td>\n",
       "      <td>0.00</td>\n",
       "      <td>0.07</td>\n",
       "      <td>0.00</td>\n",
       "      <td>NaN</td>\n",
       "      <td>NaN</td>\n",
       "      <td>NaN</td>\n",
       "    </tr>\n",
       "    <tr>\n",
       "      <th>12984</th>\n",
       "      <td>Dynamite Headdy</td>\n",
       "      <td>GEN</td>\n",
       "      <td>1993</td>\n",
       "      <td>Platform</td>\n",
       "      <td>0.00</td>\n",
       "      <td>0.00</td>\n",
       "      <td>0.05</td>\n",
       "      <td>0.00</td>\n",
       "      <td>NaN</td>\n",
       "      <td>NaN</td>\n",
       "      <td>NaN</td>\n",
       "    </tr>\n",
       "    <tr>\n",
       "      <th>13343</th>\n",
       "      <td>Beyond Oasis</td>\n",
       "      <td>GEN</td>\n",
       "      <td>1993</td>\n",
       "      <td>Role-Playing</td>\n",
       "      <td>0.00</td>\n",
       "      <td>0.00</td>\n",
       "      <td>0.05</td>\n",
       "      <td>0.00</td>\n",
       "      <td>NaN</td>\n",
       "      <td>NaN</td>\n",
       "      <td>NaN</td>\n",
       "    </tr>\n",
       "    <tr>\n",
       "      <th>14244</th>\n",
       "      <td>NaN</td>\n",
       "      <td>GEN</td>\n",
       "      <td>1993</td>\n",
       "      <td>NaN</td>\n",
       "      <td>0.00</td>\n",
       "      <td>0.00</td>\n",
       "      <td>0.03</td>\n",
       "      <td>0.00</td>\n",
       "      <td>NaN</td>\n",
       "      <td>NaN</td>\n",
       "      <td>NaN</td>\n",
       "    </tr>\n",
       "  </tbody>\n",
       "</table>\n",
       "</div>"
      ],
      "text/plain": [
       "                                                    name platform  \\\n",
       "659                                                  NaN      GEN   \n",
       "7885                                    Shining Force II      GEN   \n",
       "8893                             Super Street Fighter II      GEN   \n",
       "11986                            Ecco: The Tides of Time      GEN   \n",
       "12098  Street Fighter II': Special Champion Edition (...      GEN   \n",
       "12264                                  Streets of Rage 3      GEN   \n",
       "12984                                    Dynamite Headdy      GEN   \n",
       "13343                                       Beyond Oasis      GEN   \n",
       "14244                                                NaN      GEN   \n",
       "\n",
       "       year_of_release         genre  na_sales  eu_sales  jp_sales  \\\n",
       "659               1993           NaN      1.78      0.53      0.00   \n",
       "7885              1993      Strategy      0.00      0.00      0.19   \n",
       "8893              1993      Fighting      0.00      0.00      0.15   \n",
       "11986             1993     Adventure      0.00      0.00      0.07   \n",
       "12098             1993        Action      0.00      0.00      0.07   \n",
       "12264             1993        Action      0.00      0.00      0.07   \n",
       "12984             1993      Platform      0.00      0.00      0.05   \n",
       "13343             1993  Role-Playing      0.00      0.00      0.05   \n",
       "14244             1993           NaN      0.00      0.00      0.03   \n",
       "\n",
       "       other_sales  critic_score  user_score rating  \n",
       "659           0.08           NaN         NaN    NaN  \n",
       "7885          0.00           NaN         NaN    NaN  \n",
       "8893          0.00           NaN         NaN    NaN  \n",
       "11986         0.00           NaN         NaN    NaN  \n",
       "12098         0.00           NaN         NaN    NaN  \n",
       "12264         0.00           NaN         NaN    NaN  \n",
       "12984         0.00           NaN         NaN    NaN  \n",
       "13343         0.00           NaN         NaN    NaN  \n",
       "14244         0.00           NaN         NaN    NaN  "
      ]
     },
     "execution_count": 9,
     "metadata": {},
     "output_type": "execute_result"
    }
   ],
   "source": [
    "data.query(\"platform == 'GEN' and year_of_release == 1993\")"
   ]
  },
  {
   "cell_type": "markdown",
   "metadata": {},
   "source": [
    "[Поиск в Интернете показал](https://en.wikipedia.org/wiki/List_of_best-selling_Sega_Genesis_games), что платформа вероятнее всего Sega Genesis, а игра вероятнее всего [Mortal Kombat II](https://en.wikipedia.org/wiki/Mortal_Kombat_II), у которой сходные продажи - не менее 1.78 миллиона копий, однако она была портирована на данную платформу 13 сентября 1994 года, но выпущена в 1993-м году. Соответственно год релиза - это скорее всего год первого релиза игры, а не портирования на конкретную платформу. Здесь также не представлены игры для данной платформы, имеющие большие продажи, например Disney's Aladdin 1993 года для платформы Sega Genesis, имеющий порядка 4 миллиона копий.\n",
    "\n",
    "Правильнее было бы не отказываться от данных записей, так как имеются данные по продажам. \n",
    "\n",
    "Проверим на наличие явных дубликатов."
   ]
  },
  {
   "cell_type": "code",
   "execution_count": 10,
   "metadata": {},
   "outputs": [
    {
     "name": "stdout",
     "output_type": "stream",
     "text": [
      "Количество явных дубликатов: 0\n"
     ]
    }
   ],
   "source": [
    "print(f\"Количество явных дубликатов: {data.duplicated().sum()}\")"
   ]
  },
  {
   "cell_type": "markdown",
   "metadata": {},
   "source": [
    "Попробуем выявить неявные дубликаты"
   ]
  },
  {
   "cell_type": "code",
   "execution_count": 11,
   "metadata": {},
   "outputs": [
    {
     "data": {
      "text/plain": [
       "array(['Wii', 'NES', 'GB', 'DS', 'X360', 'PS3', 'PS2', 'SNES', 'GBA',\n",
       "       'PS4', '3DS', 'N64', 'PS', 'XB', 'PC', '2600', 'PSP', 'XOne',\n",
       "       'WiiU', 'GC', 'GEN', 'DC', 'PSV', 'SAT', 'SCD', 'WS', 'NG', 'TG16',\n",
       "       '3DO', 'GG', 'PCFX'], dtype=object)"
      ]
     },
     "execution_count": 11,
     "metadata": {},
     "output_type": "execute_result"
    }
   ],
   "source": [
    "data[\"platform\"].unique()"
   ]
  },
  {
   "cell_type": "markdown",
   "metadata": {},
   "source": [
    "Мои познания в игровых платформах не очень большие, из представленных знаю только несколько самых популярных, лучше этот вопрос задать компетентным специалистам интернет-магазина «Стримчик». \n",
    "\n",
    "Будем считать, что данные значения были проверены специалистами и здесь нет дубликатов. Оценим какие жанры имеются и нет ли в них неявных дубликатов."
   ]
  },
  {
   "cell_type": "code",
   "execution_count": 12,
   "metadata": {},
   "outputs": [
    {
     "data": {
      "text/plain": [
       "array(['Sports', 'Platform', 'Racing', 'Role-Playing', 'Puzzle', 'Misc',\n",
       "       'Shooter', 'Simulation', 'Action', 'Fighting', 'Adventure',\n",
       "       'Strategy', nan], dtype=object)"
      ]
     },
     "execution_count": 12,
     "metadata": {},
     "output_type": "execute_result"
    }
   ],
   "source": [
    "data.genre.unique()"
   ]
  },
  {
   "cell_type": "markdown",
   "metadata": {},
   "source": [
    "По жанрам дубликаты не наблюдаются, нет пересекающихся значений, кроме Misc (от англ. miscellaneous - разный, разнообразный), которое пересекается со всеми другими.\n",
    "\n",
    "Попробуем проверить дубликаты по наименованию и платформе, на всякий случай приведем все наименования к нижнему регистру."
   ]
  },
  {
   "cell_type": "code",
   "execution_count": 13,
   "metadata": {},
   "outputs": [
    {
     "data": {
      "text/html": [
       "<div>\n",
       "<style scoped>\n",
       "    .dataframe tbody tr th:only-of-type {\n",
       "        vertical-align: middle;\n",
       "    }\n",
       "\n",
       "    .dataframe tbody tr th {\n",
       "        vertical-align: top;\n",
       "    }\n",
       "\n",
       "    .dataframe thead th {\n",
       "        text-align: right;\n",
       "    }\n",
       "</style>\n",
       "<table border=\"1\" class=\"dataframe\">\n",
       "  <thead>\n",
       "    <tr style=\"text-align: right;\">\n",
       "      <th></th>\n",
       "      <th>name</th>\n",
       "      <th>platform</th>\n",
       "      <th>year_of_release</th>\n",
       "      <th>genre</th>\n",
       "      <th>na_sales</th>\n",
       "      <th>eu_sales</th>\n",
       "      <th>jp_sales</th>\n",
       "      <th>other_sales</th>\n",
       "      <th>critic_score</th>\n",
       "      <th>user_score</th>\n",
       "      <th>rating</th>\n",
       "      <th>name_lower</th>\n",
       "    </tr>\n",
       "  </thead>\n",
       "  <tbody>\n",
       "    <tr>\n",
       "      <th>604</th>\n",
       "      <td>Madden NFL 13</td>\n",
       "      <td>PS3</td>\n",
       "      <td>2012</td>\n",
       "      <td>Sports</td>\n",
       "      <td>2.11</td>\n",
       "      <td>0.22</td>\n",
       "      <td>0.00</td>\n",
       "      <td>0.23</td>\n",
       "      <td>83.0</td>\n",
       "      <td>5.5</td>\n",
       "      <td>E</td>\n",
       "      <td>madden nfl 13</td>\n",
       "    </tr>\n",
       "    <tr>\n",
       "      <th>16230</th>\n",
       "      <td>Madden NFL 13</td>\n",
       "      <td>PS3</td>\n",
       "      <td>2012</td>\n",
       "      <td>Sports</td>\n",
       "      <td>0.00</td>\n",
       "      <td>0.01</td>\n",
       "      <td>0.00</td>\n",
       "      <td>0.00</td>\n",
       "      <td>83.0</td>\n",
       "      <td>5.5</td>\n",
       "      <td>E</td>\n",
       "      <td>madden nfl 13</td>\n",
       "    </tr>\n",
       "    <tr>\n",
       "      <th>5972</th>\n",
       "      <td>Need for Speed: Most Wanted</td>\n",
       "      <td>PC</td>\n",
       "      <td>2005</td>\n",
       "      <td>Racing</td>\n",
       "      <td>0.02</td>\n",
       "      <td>0.23</td>\n",
       "      <td>0.00</td>\n",
       "      <td>0.04</td>\n",
       "      <td>82.0</td>\n",
       "      <td>8.5</td>\n",
       "      <td>T</td>\n",
       "      <td>need for speed: most wanted</td>\n",
       "    </tr>\n",
       "    <tr>\n",
       "      <th>11715</th>\n",
       "      <td>Need for Speed: Most Wanted</td>\n",
       "      <td>PC</td>\n",
       "      <td>2012</td>\n",
       "      <td>Racing</td>\n",
       "      <td>0.00</td>\n",
       "      <td>0.06</td>\n",
       "      <td>0.00</td>\n",
       "      <td>0.02</td>\n",
       "      <td>82.0</td>\n",
       "      <td>8.5</td>\n",
       "      <td>T</td>\n",
       "      <td>need for speed: most wanted</td>\n",
       "    </tr>\n",
       "    <tr>\n",
       "      <th>1190</th>\n",
       "      <td>Need for Speed: Most Wanted</td>\n",
       "      <td>X360</td>\n",
       "      <td>2012</td>\n",
       "      <td>Racing</td>\n",
       "      <td>0.62</td>\n",
       "      <td>0.78</td>\n",
       "      <td>0.01</td>\n",
       "      <td>0.15</td>\n",
       "      <td>83.0</td>\n",
       "      <td>8.5</td>\n",
       "      <td>T</td>\n",
       "      <td>need for speed: most wanted</td>\n",
       "    </tr>\n",
       "    <tr>\n",
       "      <th>1591</th>\n",
       "      <td>Need for Speed: Most Wanted</td>\n",
       "      <td>X360</td>\n",
       "      <td>2005</td>\n",
       "      <td>Racing</td>\n",
       "      <td>1.00</td>\n",
       "      <td>0.13</td>\n",
       "      <td>0.02</td>\n",
       "      <td>0.10</td>\n",
       "      <td>83.0</td>\n",
       "      <td>8.5</td>\n",
       "      <td>T</td>\n",
       "      <td>need for speed: most wanted</td>\n",
       "    </tr>\n",
       "    <tr>\n",
       "      <th>1745</th>\n",
       "      <td>Sonic the Hedgehog</td>\n",
       "      <td>PS3</td>\n",
       "      <td>2006</td>\n",
       "      <td>Platform</td>\n",
       "      <td>0.41</td>\n",
       "      <td>0.06</td>\n",
       "      <td>0.04</td>\n",
       "      <td>0.66</td>\n",
       "      <td>43.0</td>\n",
       "      <td>4.1</td>\n",
       "      <td>E10+</td>\n",
       "      <td>sonic the hedgehog</td>\n",
       "    </tr>\n",
       "    <tr>\n",
       "      <th>4127</th>\n",
       "      <td>Sonic the Hedgehog</td>\n",
       "      <td>PS3</td>\n",
       "      <td>&lt;NA&gt;</td>\n",
       "      <td>Platform</td>\n",
       "      <td>0.00</td>\n",
       "      <td>0.48</td>\n",
       "      <td>0.00</td>\n",
       "      <td>0.00</td>\n",
       "      <td>43.0</td>\n",
       "      <td>4.1</td>\n",
       "      <td>E10+</td>\n",
       "      <td>sonic the hedgehog</td>\n",
       "    </tr>\n",
       "    <tr>\n",
       "      <th>659</th>\n",
       "      <td>NaN</td>\n",
       "      <td>GEN</td>\n",
       "      <td>1993</td>\n",
       "      <td>NaN</td>\n",
       "      <td>1.78</td>\n",
       "      <td>0.53</td>\n",
       "      <td>0.00</td>\n",
       "      <td>0.08</td>\n",
       "      <td>NaN</td>\n",
       "      <td>NaN</td>\n",
       "      <td>NaN</td>\n",
       "      <td>NaN</td>\n",
       "    </tr>\n",
       "    <tr>\n",
       "      <th>14244</th>\n",
       "      <td>NaN</td>\n",
       "      <td>GEN</td>\n",
       "      <td>1993</td>\n",
       "      <td>NaN</td>\n",
       "      <td>0.00</td>\n",
       "      <td>0.00</td>\n",
       "      <td>0.03</td>\n",
       "      <td>0.00</td>\n",
       "      <td>NaN</td>\n",
       "      <td>NaN</td>\n",
       "      <td>NaN</td>\n",
       "      <td>NaN</td>\n",
       "    </tr>\n",
       "  </tbody>\n",
       "</table>\n",
       "</div>"
      ],
      "text/plain": [
       "                              name platform  year_of_release     genre  \\\n",
       "604                  Madden NFL 13      PS3             2012    Sports   \n",
       "16230                Madden NFL 13      PS3             2012    Sports   \n",
       "5972   Need for Speed: Most Wanted       PC             2005    Racing   \n",
       "11715  Need for Speed: Most Wanted       PC             2012    Racing   \n",
       "1190   Need for Speed: Most Wanted     X360             2012    Racing   \n",
       "1591   Need for Speed: Most Wanted     X360             2005    Racing   \n",
       "1745            Sonic the Hedgehog      PS3             2006  Platform   \n",
       "4127            Sonic the Hedgehog      PS3             <NA>  Platform   \n",
       "659                            NaN      GEN             1993       NaN   \n",
       "14244                          NaN      GEN             1993       NaN   \n",
       "\n",
       "       na_sales  eu_sales  jp_sales  other_sales  critic_score  user_score  \\\n",
       "604        2.11      0.22      0.00         0.23          83.0         5.5   \n",
       "16230      0.00      0.01      0.00         0.00          83.0         5.5   \n",
       "5972       0.02      0.23      0.00         0.04          82.0         8.5   \n",
       "11715      0.00      0.06      0.00         0.02          82.0         8.5   \n",
       "1190       0.62      0.78      0.01         0.15          83.0         8.5   \n",
       "1591       1.00      0.13      0.02         0.10          83.0         8.5   \n",
       "1745       0.41      0.06      0.04         0.66          43.0         4.1   \n",
       "4127       0.00      0.48      0.00         0.00          43.0         4.1   \n",
       "659        1.78      0.53      0.00         0.08           NaN         NaN   \n",
       "14244      0.00      0.00      0.03         0.00           NaN         NaN   \n",
       "\n",
       "      rating                   name_lower  \n",
       "604        E                madden nfl 13  \n",
       "16230      E                madden nfl 13  \n",
       "5972       T  need for speed: most wanted  \n",
       "11715      T  need for speed: most wanted  \n",
       "1190       T  need for speed: most wanted  \n",
       "1591       T  need for speed: most wanted  \n",
       "1745    E10+           sonic the hedgehog  \n",
       "4127    E10+           sonic the hedgehog  \n",
       "659      NaN                          NaN  \n",
       "14244    NaN                          NaN  "
      ]
     },
     "execution_count": 13,
     "metadata": {},
     "output_type": "execute_result"
    }
   ],
   "source": [
    "data[\"name_lower\"] = data[\"name\"].str.lower()\n",
    "data[data[[\"name_lower\", \"platform\"]].duplicated(keep=False)].sort_values([\"name_lower\", \"platform\"])"
   ]
  },
  {
   "cell_type": "markdown",
   "metadata": {},
   "source": [
    "Имеются 3 неявных дубликата - игра `Madden NFL 13` и `Sonic the Hedgehog`, а также ранее рассмотренная игра без имени и жанра. Игра `Need for Speed: Most Wanted` разных годов релиза, соответственно не является дубликатом. Если по первой игре совпадает практически все значения, кроме продаж в Европе, то по второму расхождения такие же, но не указан год релиза. Лучше взглянуть на все платформы и релизы по игре `Sonic the Hedgehog` а также найти `Mortal Kombat II`."
   ]
  },
  {
   "cell_type": "code",
   "execution_count": 14,
   "metadata": {},
   "outputs": [
    {
     "data": {
      "text/html": [
       "<div>\n",
       "<style scoped>\n",
       "    .dataframe tbody tr th:only-of-type {\n",
       "        vertical-align: middle;\n",
       "    }\n",
       "\n",
       "    .dataframe tbody tr th {\n",
       "        vertical-align: top;\n",
       "    }\n",
       "\n",
       "    .dataframe thead th {\n",
       "        text-align: right;\n",
       "    }\n",
       "</style>\n",
       "<table border=\"1\" class=\"dataframe\">\n",
       "  <thead>\n",
       "    <tr style=\"text-align: right;\">\n",
       "      <th></th>\n",
       "      <th>name</th>\n",
       "      <th>platform</th>\n",
       "      <th>year_of_release</th>\n",
       "      <th>genre</th>\n",
       "      <th>na_sales</th>\n",
       "      <th>eu_sales</th>\n",
       "      <th>jp_sales</th>\n",
       "      <th>other_sales</th>\n",
       "      <th>critic_score</th>\n",
       "      <th>user_score</th>\n",
       "      <th>rating</th>\n",
       "      <th>name_lower</th>\n",
       "    </tr>\n",
       "  </thead>\n",
       "  <tbody>\n",
       "    <tr>\n",
       "      <th>257</th>\n",
       "      <td>Sonic the Hedgehog</td>\n",
       "      <td>GEN</td>\n",
       "      <td>1991</td>\n",
       "      <td>Platform</td>\n",
       "      <td>3.03</td>\n",
       "      <td>0.91</td>\n",
       "      <td>0.26</td>\n",
       "      <td>0.13</td>\n",
       "      <td>NaN</td>\n",
       "      <td>NaN</td>\n",
       "      <td>NaN</td>\n",
       "      <td>sonic the hedgehog</td>\n",
       "    </tr>\n",
       "    <tr>\n",
       "      <th>1745</th>\n",
       "      <td>Sonic the Hedgehog</td>\n",
       "      <td>PS3</td>\n",
       "      <td>2006</td>\n",
       "      <td>Platform</td>\n",
       "      <td>0.41</td>\n",
       "      <td>0.06</td>\n",
       "      <td>0.04</td>\n",
       "      <td>0.66</td>\n",
       "      <td>43.0</td>\n",
       "      <td>4.1</td>\n",
       "      <td>E10+</td>\n",
       "      <td>sonic the hedgehog</td>\n",
       "    </tr>\n",
       "    <tr>\n",
       "      <th>1996</th>\n",
       "      <td>Sonic the Hedgehog</td>\n",
       "      <td>X360</td>\n",
       "      <td>2006</td>\n",
       "      <td>Platform</td>\n",
       "      <td>0.44</td>\n",
       "      <td>0.48</td>\n",
       "      <td>0.00</td>\n",
       "      <td>0.11</td>\n",
       "      <td>46.0</td>\n",
       "      <td>4.4</td>\n",
       "      <td>E10+</td>\n",
       "      <td>sonic the hedgehog</td>\n",
       "    </tr>\n",
       "    <tr>\n",
       "      <th>4127</th>\n",
       "      <td>Sonic the Hedgehog</td>\n",
       "      <td>PS3</td>\n",
       "      <td>&lt;NA&gt;</td>\n",
       "      <td>Platform</td>\n",
       "      <td>0.00</td>\n",
       "      <td>0.48</td>\n",
       "      <td>0.00</td>\n",
       "      <td>0.00</td>\n",
       "      <td>43.0</td>\n",
       "      <td>4.1</td>\n",
       "      <td>E10+</td>\n",
       "      <td>sonic the hedgehog</td>\n",
       "    </tr>\n",
       "  </tbody>\n",
       "</table>\n",
       "</div>"
      ],
      "text/plain": [
       "                    name platform  year_of_release     genre  na_sales  \\\n",
       "257   Sonic the Hedgehog      GEN             1991  Platform      3.03   \n",
       "1745  Sonic the Hedgehog      PS3             2006  Platform      0.41   \n",
       "1996  Sonic the Hedgehog     X360             2006  Platform      0.44   \n",
       "4127  Sonic the Hedgehog      PS3             <NA>  Platform      0.00   \n",
       "\n",
       "      eu_sales  jp_sales  other_sales  critic_score  user_score rating  \\\n",
       "257       0.91      0.26         0.13           NaN         NaN    NaN   \n",
       "1745      0.06      0.04         0.66          43.0         4.1   E10+   \n",
       "1996      0.48      0.00         0.11          46.0         4.4   E10+   \n",
       "4127      0.48      0.00         0.00          43.0         4.1   E10+   \n",
       "\n",
       "              name_lower  \n",
       "257   sonic the hedgehog  \n",
       "1745  sonic the hedgehog  \n",
       "1996  sonic the hedgehog  \n",
       "4127  sonic the hedgehog  "
      ]
     },
     "execution_count": 14,
     "metadata": {},
     "output_type": "execute_result"
    }
   ],
   "source": [
    "data.query(\"name_lower == 'sonic the hedgehog'\")"
   ]
  },
  {
   "cell_type": "markdown",
   "metadata": {},
   "source": [
    "Представлены только 1991 и 2006 годы, причем для PS3 явно 1991 год не подходит. Не будем исключать такие значения полностью, возможно в Европе были разные каналы продаж для этих игр, поэтому часть данных разделились. Тем более очень большие расхождения по размеру продаж в дублирующихся значениях. \n",
    "\n",
    "Взглянем на `Mortal Kombat II`."
   ]
  },
  {
   "cell_type": "code",
   "execution_count": 15,
   "metadata": {},
   "outputs": [
    {
     "data": {
      "text/html": [
       "<div>\n",
       "<style scoped>\n",
       "    .dataframe tbody tr th:only-of-type {\n",
       "        vertical-align: middle;\n",
       "    }\n",
       "\n",
       "    .dataframe tbody tr th {\n",
       "        vertical-align: top;\n",
       "    }\n",
       "\n",
       "    .dataframe thead th {\n",
       "        text-align: right;\n",
       "    }\n",
       "</style>\n",
       "<table border=\"1\" class=\"dataframe\">\n",
       "  <thead>\n",
       "    <tr style=\"text-align: right;\">\n",
       "      <th></th>\n",
       "      <th>name</th>\n",
       "      <th>platform</th>\n",
       "      <th>year_of_release</th>\n",
       "      <th>genre</th>\n",
       "      <th>na_sales</th>\n",
       "      <th>eu_sales</th>\n",
       "      <th>jp_sales</th>\n",
       "      <th>other_sales</th>\n",
       "      <th>critic_score</th>\n",
       "      <th>user_score</th>\n",
       "      <th>rating</th>\n",
       "      <th>name_lower</th>\n",
       "    </tr>\n",
       "  </thead>\n",
       "  <tbody>\n",
       "    <tr>\n",
       "      <th>892</th>\n",
       "      <td>Mortal Kombat II</td>\n",
       "      <td>SNES</td>\n",
       "      <td>1993</td>\n",
       "      <td>Fighting</td>\n",
       "      <td>1.48</td>\n",
       "      <td>0.39</td>\n",
       "      <td>0.0</td>\n",
       "      <td>0.06</td>\n",
       "      <td>NaN</td>\n",
       "      <td>NaN</td>\n",
       "      <td>NaN</td>\n",
       "      <td>mortal kombat ii</td>\n",
       "    </tr>\n",
       "  </tbody>\n",
       "</table>\n",
       "</div>"
      ],
      "text/plain": [
       "                 name platform  year_of_release     genre  na_sales  eu_sales  \\\n",
       "892  Mortal Kombat II     SNES             1993  Fighting      1.48      0.39   \n",
       "\n",
       "     jp_sales  other_sales  critic_score  user_score rating        name_lower  \n",
       "892       0.0         0.06           NaN         NaN    NaN  mortal kombat ii  "
      ]
     },
     "execution_count": 15,
     "metadata": {},
     "output_type": "execute_result"
    }
   ],
   "source": [
    "# Я проверил полный список, содержащий mortal, там только одно значение за 1993 и нет близких наименований\n",
    "data.query(\"year_of_release == 1993\")[data.name_lower.str.contains(\"mortal\", na=False)]"
   ]
  },
  {
   "cell_type": "markdown",
   "metadata": {},
   "source": [
    "`Mortal Kombat II` представлен только платформой SNES, хотя игра очень популярная под Sega. Можно было бы заменить на название `noname`, вопрос только по продажам в Японии - не нашел такую информацию. Однако в виду пропущенного жанра и отсутствия 100% уверенности в этой гипотезе, мы можем внести некорректные изменения по жанру `Fighting`, если это другая игра. Если оставить, то нужно согласовать этот вопрос с заказчиком анализа. По пропущенному названию установим `Mortal Kombat II`, сложим продажи в японии, но не будем устанавливать жанр, так значение останется по годам, но не попадет ни в один жанр.\n",
    "\n",
    "По дублированным записям сложим значения по Европе, а дубликаты исключим из выборки."
   ]
  },
  {
   "cell_type": "code",
   "execution_count": 16,
   "metadata": {},
   "outputs": [
    {
     "name": "stdout",
     "output_type": "stream",
     "text": [
      "Новое значение eu_sales для 'Madden NFL 13': 0.23\n",
      "Новое значение eu_sales для 'Sonic the Hedgehog': 0.54\n",
      "Новое значение jp_sales для 'Mortal Kombat II': 0.03\n",
      "Осталось записей: 16712\n",
      "Неявных дубликатов: 0\n"
     ]
    }
   ],
   "source": [
    "# Сложим значения eu_sales по игре Madden NFL 13\n",
    "data.loc[604, \"eu_sales\"] += data.loc[16230, \"eu_sales\"] \n",
    "# Сложим значения eu_sales по игре Sonic the Hedgehog\n",
    "data.loc[1745, \"eu_sales\"] += data.loc[4127, \"eu_sales\"] \n",
    "# Сложим значения jp_sales по игре без наименования\n",
    "data.loc[659, \"jp_sales\"] += data.loc[14244, \"jp_sales\"] \n",
    "\n",
    "# Сперва хотел установить имя и жанр на  Mortal Kombat II и Fighting\n",
    "# Несколько раз возвращался к данному вопросу, решил оставить значения, но не указывать жанр\n",
    "data.loc[659, \"name\"] = data.loc[892, \"name\"] \n",
    "#data.loc[659, \"genre\"] = data.loc[892, \"genre\"] \n",
    "data.loc[659, \"name_lower\"] = data.loc[892, \"name_lower\"] \n",
    "\n",
    "print(f\"Новое значение eu_sales для '{data.loc[604, 'name']}': {data.loc[604, 'eu_sales']}\")\n",
    "print(f\"Новое значение eu_sales для '{data.loc[1745, 'name']}': {data.loc[1745, 'eu_sales']}\")\n",
    "print(f\"Новое значение jp_sales для '{data.loc[659, 'name']}': {data.loc[659, 'jp_sales']}\")\n",
    "\n",
    "# Удалим дублирующиеся записи\n",
    "data = data.drop([16230, 4127, 14244])\n",
    "\n",
    "print(f\"Осталось записей: {len(data)}\")\n",
    "print(\n",
    "    \"Неявных дубликатов:\",\n",
    "    len(\n",
    "        data[data[[\"name_lower\", \"platform\", \"year_of_release\"]]\n",
    "        .duplicated(keep=False)]\n",
    "        .sort_values([\"name_lower\", \"platform\", \"year_of_release\"]))\n",
    ")\n"
   ]
  },
  {
   "cell_type": "markdown",
   "metadata": {},
   "source": [
    "### Пропуски по году релиза\n",
    "\n",
    "От дубликатов избавились. Проверим пропущенные значения по году релиза игр."
   ]
  },
  {
   "cell_type": "code",
   "execution_count": 17,
   "metadata": {},
   "outputs": [
    {
     "name": "stdout",
     "output_type": "stream",
     "text": [
      "Количество пропущенных значений: 268 \n",
      "Из них не имеют других платформ с датой: 146\n",
      "Из них все платформы без даты: 25\n"
     ]
    }
   ],
   "source": [
    "print(\n",
    "    \"Количество пропущенных значений:\",\n",
    "    data.year_of_release.isna().sum(),\n",
    "    \"\\nИз них не имеют других платформ с датой:\",\n",
    "    data.query(\"year_of_release.isna()\").merge(\n",
    "        data.groupby(\"name_lower\")[\"year_of_release\"].count().rename(\"count\"),\n",
    "        on=\"name_lower\"\n",
    "    ).query(\"count == 0\")[\"count\"].count()\n",
    ")\n",
    "\n",
    "# Долго не мог разобраться почему у меня здесь показывает 146, а далее функция по заполнению - меньше\n",
    "# Потом разобрался, оказывается некоторые игры имеют несколько платформ и все без даты\n",
    "# По мере отработки фукнции заполнения такие игры получают даты и отрабатываются по другому по другим платформам\n",
    "# Добавил рассчет количества игр, которые не имеют даты на всех платформах\n",
    "\n",
    "print(\n",
    "    \"Из них все платформы без даты:\", \n",
    "    len(pd.DataFrame(\n",
    "        [\n",
    "            data.query(\"year_of_release.isna()\").groupby(\"name_lower\")[\"platform\"].count().rename(\"platform_count\"),\n",
    "            data.query(\"year_of_release.isna()\").groupby(\"name_lower\")[\"year_of_release\"].count().rename(\"year_count\")\n",
    "        ]\n",
    "    ).T.query(\"platform_count > 1 and year_count == 0\"))\n",
    ")\n"
   ]
  },
  {
   "cell_type": "markdown",
   "metadata": {},
   "source": [
    "Всего пропущенных значений по году релиза - 268, При этом имеется 146 игр, по которым нет других платформ с указанной датой, соответственно 122 игры имеют другие платформы. Причину отсутствия года релиза довольно сложно оценить, так как данные из открытых источников и какие имелись исходные данные мы оценить не можем. Возможно, что не по всем играм имелись такая информация, либо имели место ошибки выгрузки данных.\n",
    "\n",
    "Будем заполнять пропущенный год следующим образом:\n",
    "1. Если игра выпускалась для других платформ:\n",
    "    - Проверяем все годы выпуска, если год выпуска между минимальным и максимальным годом для платформы, заполняем этим значением;\n",
    "    - Если несколько годов выпуска, также сравниваем с медианой и заполняем значением ближе к медиане;\n",
    "    - Если год не находится между минимальным и максимальным значениями - не заполняем.\n",
    "2. Если игра не выпускалась для других платформ - не заполняем."
   ]
  },
  {
   "cell_type": "code",
   "execution_count": 18,
   "metadata": {
    "scrolled": false
   },
   "outputs": [
    {
     "name": "stdout",
     "output_type": "stream",
     "text": [
      "Заполнено с другой платформы: 117\n",
      "Изменено с другой платформы: 6\n",
      "\n",
      "Осталось пропущенных значений: 151\n"
     ]
    }
   ],
   "source": [
    "def fill_year_platform(df: pd.DataFrame, pfm: pd.DataFrame):\n",
    "    # Работаем с копией данных, чтобы не вносить изменения в исходный датафрейм, лучше внести явно\n",
    "    df = df.copy()\n",
    "    # Добавим счетчики для вывода дополнительной информации\n",
    "    ctr_fill_pfm, ctr_chng_pfm = [0] * 2\n",
    "    # Проходим по всем пропущенным значениям year_of_release\n",
    "    for i, row in df.query(\"year_of_release.isna()\").iterrows(): \n",
    "        # Получаем все возможные значения года, если были по другим платформам и убираем пропуски\n",
    "        years = df.query(f'name_lower == \"{row[\"name_lower\"]}\"')[\"year_of_release\"].dropna().unique()\n",
    "        # Получаем минимум, медиану и максимум по платформе\n",
    "        pfm_min, pfm_median, pfm_max = pfm.loc[row[\"platform\"],:]\n",
    "        for year in years:\n",
    "            # Если год в пределах допустимого\n",
    "            if (pfm_min <= year <= pfm_max):\n",
    "                # Если значение ранее не было заполнено\n",
    "                if pd.isna(row[\"year_of_release\"]):\n",
    "                    # Заполняем значение годом\n",
    "                    df.loc[i, \"year_of_release\"] = year\n",
    "                    row[\"year_of_release\"] = year\n",
    "                    ctr_fill_pfm += 1\n",
    "                else:\n",
    "                    # Если значение заполнено в предыдущей итерации - проверяем что ближе к медиане\n",
    "                    if abs(year - pfm_median) < abs(row[\"year_of_release\"] - pfm_median):\n",
    "                        # Если новое значение ближе к медиане, меняем значение\n",
    "                        df.loc[i, \"year_of_release\"] = year\n",
    "                        row[\"year_of_release\"] = year\n",
    "                        ctr_chng_pfm += 1\n",
    "        \n",
    "        # Решил убрать заполнение медианой\n",
    "        \n",
    "        # Если цикл не заполнил, то присваиваем медиану\n",
    "        #if pd.isna(row[\"year_of_release\"]):\n",
    "        #    df.loc[i, \"year_of_release\"] = pfm_median\n",
    "        #    ctr_fill_median += 1\n",
    "    counters = {\n",
    "        \"Заполнено с другой платформы:\": ctr_fill_pfm,\n",
    "        \"Изменено с другой платформы:\": ctr_chng_pfm\n",
    "    }\n",
    "    return counters, df\n",
    "\n",
    "result, data = fill_year_platform(\n",
    "    data,\n",
    "    data.groupby(\"platform\")[\"year_of_release\"].agg([\"min\", \"median\", \"max\"]).astype(\"Int64\")\n",
    ")\n",
    "for k, v in result.items():\n",
    "    print(k,v)\n",
    "\n",
    "print(\n",
    "    \"\\nОсталось пропущенных значений:\",\n",
    "    data.year_of_release.isna().sum()\n",
    ")"
   ]
  },
  {
   "cell_type": "markdown",
   "metadata": {},
   "source": [
    "Заполнены значения для 122 игр с другой платформы. Остальные записи исключим из выборки так как таких значений не очень много."
   ]
  },
  {
   "cell_type": "code",
   "execution_count": 19,
   "metadata": {},
   "outputs": [
    {
     "name": "stdout",
     "output_type": "stream",
     "text": [
      "\n",
      "Осталось пропущенных значений: 0\n"
     ]
    }
   ],
   "source": [
    "data = data.query(\"not year_of_release.isna()\")\n",
    "print(\n",
    "    \"\\nОсталось пропущенных значений:\",\n",
    "    data.year_of_release.isna().sum()\n",
    ")"
   ]
  },
  {
   "cell_type": "markdown",
   "metadata": {},
   "source": [
    "### Пропуски в оценках и рейтинге"
   ]
  },
  {
   "cell_type": "code",
   "execution_count": 20,
   "metadata": {},
   "outputs": [
    {
     "data": {
      "image/png": "[encoded data removed]",
      "text/plain": [
       "<Figure size 1224x216 with 1 Axes>"
      ]
     },
     "metadata": {
      "needs_background": "light"
     },
     "output_type": "display_data"
    },
    {
     "name": "stdout",
     "output_type": "stream",
     "text": [
      "              пропуски\n",
      "user_score        9024\n",
      "critic_score      8489\n",
      "rating            6695\n",
      "genre                1\n"
     ]
    }
   ],
   "source": [
    "show_nan(data)"
   ]
  },
  {
   "cell_type": "markdown",
   "metadata": {},
   "source": [
    "Имеется довольно большое количество пропусков по столбцам user_score, critic_score и rating, при этом количество пропущенных данных user_score значительно увеличилось после преобразования типа, так как в исходной данных имелись значения `tbd`, которые были исключены из выборки."
   ]
  },
  {
   "cell_type": "code",
   "execution_count": 21,
   "metadata": {},
   "outputs": [
    {
     "name": "stdout",
     "output_type": "stream",
     "text": [
      "Всего записей с пропусками в данных:              9663 \n",
      "из них: \n",
      "Пропущены все значения:                           6598 \n",
      "Пропущены только оценки пользователей и критиков: 1320 \n",
      "Пропущены только оценки пользователей:            1093 \n",
      "Пропущены только оценки критиков:                 555 \n",
      "Пропущен только рейтинг:                          68 \n",
      "Пропущены оценки критиков и рейтинг:              16 \n",
      "Пропущены оценки пользователей и рейтинг:         13\n"
     ]
    }
   ],
   "source": [
    "print(\n",
    "    \"Всего записей с пропусками в данных:             \",\n",
    "    len(data.query(\"user_score.isna() or critic_score.isna() or rating.isna()\")),\n",
    "    \"\\nиз них:\",\n",
    "    \"\\nПропущены все значения:                          \",\n",
    "    len(data.query(\"user_score.isna() and critic_score.isna() and rating.isna()\")),\n",
    "    \"\\nПропущены только оценки пользователей и критиков:\",\n",
    "    len(data.query(\"user_score.isna() and critic_score.isna() and not rating.isna()\")),\n",
    "    \"\\nПропущены только оценки пользователей:           \",\n",
    "    len(data.query( \"user_score.isna() and not critic_score.isna() and not rating.isna()\")),\n",
    "    \"\\nПропущены только оценки критиков:                \",\n",
    "    len(data.query( \"critic_score.isna() and not rating.isna() and not user_score.isna()\")),\n",
    "    \"\\nПропущен только рейтинг:                         \",\n",
    "    len(data.query( \"rating.isna() and not critic_score.isna() and not user_score.isna()\")),\n",
    "    \"\\nПропущены оценки критиков и рейтинг:             \",\n",
    "    len(data.query(\"critic_score.isna() and rating.isna() and not user_score.isna()\")),\n",
    "    \"\\nПропущены оценки пользователей и рейтинг:        \",\n",
    "    len(data.query(\"user_score.isna() and rating.isna() and not critic_score.isna()\")),\n",
    ")"
   ]
  },
  {
   "cell_type": "markdown",
   "metadata": {},
   "source": [
    "Больше всего пропусков по всем значениям - 6598, при этом имеются отдельные пропуски по каждому значению отдельно и различные пропуски в парах значений без явно видимой зависимости. Здесь также сложно явно определить почему имеются пропуски в даных. Вероятнее всего не по всем играм были оценки, особенно по редким и устаревшим платформам, а также по совсем свежим, в частности о неготовности рейтингов по пользователям нам может говорить значение `tbd` в оценках пользователей. Также ESRB возможно не по всем играм или платформам присваивает свои рейтинги. \n",
    "\n",
    "Заполнять пропущенные значения не имеет смысла, так как все оценки носят субъективный характер, что невозможно рассчитать какими-то формулами, можно лишь спрогнозировать на большом количестве параметров, которых нет в исходных данных."
   ]
  },
  {
   "cell_type": "markdown",
   "metadata": {},
   "source": [
    "### Суммарный объем продаж"
   ]
  },
  {
   "cell_type": "code",
   "execution_count": 22,
   "metadata": {},
   "outputs": [
    {
     "data": {
      "text/plain": [
       "count    16561.000000\n",
       "mean         0.535513\n",
       "std          1.554556\n",
       "min          0.000000\n",
       "25%          0.060000\n",
       "50%          0.170000\n",
       "75%          0.470000\n",
       "max         82.540000\n",
       "Name: sales, dtype: float64"
      ]
     },
     "execution_count": 22,
     "metadata": {},
     "output_type": "execute_result"
    }
   ],
   "source": [
    "data[\"sales\"] = data[\"na_sales\"] + data[\"eu_sales\"] + data[\"jp_sales\"] + data[\"other_sales\"]\n",
    "data[\"sales\"].describe()"
   ]
  },
  {
   "cell_type": "markdown",
   "metadata": {},
   "source": [
    "Произведен рассчет суммарного объема продаж для всех игр в выборке. Половина значений лежит в пределах от 0.06 до 0.047 миллиона штук, медиана 0.17 миллиона штук. Средняя - 0.54 миллиона, что говорит о наличии очень больших выбросов на максимальных значениях, чему соответствует максимальное значение - 82.54 миллиона штук."
   ]
  },
  {
   "cell_type": "markdown",
   "metadata": {},
   "source": [
    "### Промежуточные выводы\n",
    "\n",
    "Проведена подготовка данных:\n",
    "- Названия столбцов приведены к нижнему регистру для удобства дальнейшей работы;\n",
    "- Преобразован тип данных параметра year_of_release к целочисленному типу для большего визуального удобства; \n",
    "- Параметр user_score преобразован из строкового в числовой для возможности дальнейшей работы с ним. Значение `tbd` по этому параметру интерпретировано как to be determined (будет определено), вследствие чего было исключено из выборки;\n",
    "- Найдено пропущенное значение в наименовании и жанре, значения продаж сохранены, значение жанра решено не заполнять;\n",
    "- Обработаны неявные дубликаты по имени и жанру игры, значения в дубликатах просуммированы чтобы не потерять значения по продажам, дублирующиеся значения исключены из выборки;\n",
    "- Пропуски по годам заполнены аналогичными значениями из других платформ, а в случаи их отсутствия - такие записи удалены. Таких пропусков немного и они не должны внести существенные изменения в выборку;\n",
    "- Пропуски по оценкам и рейтинге не заполнялись в виду высокой субъективной составляющей, которую невозможно рассчитать на имеющихся данных;\n",
    "- Причину пропусков точно установить невозможно, имеются предположения, что не по всем параметрам вообще имеются значения в исходных данных, в частности, таких как оценки и рейтинги, которые возможно не для всех игр проводились. Также не исключается вероятность человеческого фактора и ошибок при выгрузке или передаче данных;\n",
    "- Рассчитаны суммарные продажи по всем регионам, которые записаны в столбец `sales`."
   ]
  },
  {
   "cell_type": "markdown",
   "metadata": {},
   "source": [
    "## Исследовательский анализ данных"
   ]
  },
  {
   "cell_type": "markdown",
   "metadata": {},
   "source": [
    "### Объемы производства игр"
   ]
  },
  {
   "cell_type": "code",
   "execution_count": 23,
   "metadata": {},
   "outputs": [
    {
     "data": {
      "image/png": "[encoded data removed]",
      "text/plain": [
       "<Figure size 1224x432 with 1 Axes>"
      ]
     },
     "metadata": {
      "needs_background": "light"
     },
     "output_type": "display_data"
    },
    {
     "name": "stdout",
     "output_type": "stream",
     "text": [
      "Общее количество платформ: 31\n",
      "ТОП 5 платформ по количеству игр:\n",
      "PS2     2140\n",
      "DS      2129\n",
      "PS3     1317\n",
      "Wii     1301\n",
      "X360    1250\n",
      "Name: platform, dtype: int64\n"
     ]
    }
   ],
   "source": [
    "data.query(\n",
    "    \"platform.isin(@data.platform.value_counts().head(20).index)\"\n",
    ").pivot_table(\n",
    "    values=\"sales\", index=\"year_of_release\",\n",
    "    columns=\"platform\", aggfunc=\"count\"\n",
    ").plot(\n",
    "    kind=\"area\", figsize=(17, 6), rot=90, alpha=0.5,\n",
    "    colormap=\"tab20c\", \n",
    ")\n",
    "\n",
    "data.groupby(\"year_of_release\")[\"sales\"].count().rename(\"всего игр\").plot(\n",
    "    style=\"-o\", xticks=range(1980, 2017), rot=90\n",
    ")\n",
    "\n",
    "plt.title(\"Количество выпущенных игр по ТОП 20 платформ\" , size=18)\n",
    "plt.xlabel(\"Год релиза\", size=12)\n",
    "plt.ylabel(\"Количество игр\", size=12)\n",
    "plt.legend(loc=\"upper left\")\n",
    "\n",
    "plt.show()\n",
    "\n",
    "print(f\"Общее количество платформ: {len(data.platform.unique())}\")\n",
    "print(\n",
    "    \"ТОП 5 платформ по количеству игр:\\n\",\n",
    "    data.platform.value_counts().head(5), sep=\"\"\n",
    ")"
   ]
  },
  {
   "cell_type": "markdown",
   "metadata": {},
   "source": [
    "Заметно, что с 1980 по 1990 годы выпускалось довольно малое количество игр. С 1991 начался небольшой рост, который ускорился с 1994 по 1998 годы со снижением в 1999-2000 (пузырь доткомов) и дальнейшим ростом до 2008 года (финансовый кризис). Самый резкий рост был в 2002 году с последующей коррекцией в 2003-2004 годах. С 2009 года наблюдается существенное снижение с резким падением в 2011-2012 годах и небольшой коррекцией с 2013 по 2015 годы. По 2016 году показатели не полные, соответственно количество игр может вырасти. До конца года прогнозируется рост игровой индустрии по сравнению с 2015 годом.\n",
    "\n",
    "Платформы с течением времени появляются и исчезают, некоторые платформы живут дольше, другие меньше - в основном от 7 до 15 лет, а в среднем около 10-ти лет. Одна из первых массовых платформ - PS, которая начала свой путь с 1993-го года и просуществовала до 2003 года, которую начала вытеснять платформа N64  с 1995 года и далее платформа PS2 c 1999 года. С 2000-го года заметен очень большой рост количества игр за счет 2-х новых платформ, которые исчезли к 2007-му году. Рост других платформ начался с 2003-2004-х годов, которые исчезли к 2013-2014 годам. В целом наблюдается выпуск новых платформ в 3-летний период. Есть и долгожители - платформа PC, которая существует с 1993 года, заметный рост по количеству игр относительно других платформ начался с 2002 года и усилился после 2008-го. Всего в выборке присутствует 31 платформа, самое большое количество игр приходится на PS2, далее идут DS, PS3, Wii и X360 - они все попали в пик 2008 года.\n",
    "\n",
    "На 2017 год большие ожидания в области виртуальной реальности, так как VR технологии активно начали свою экспансию в 2016-м году, пользователи ждут выхода игр с большим бюджетом в VR. Также высокие ожидания от технологий дополненной реальности после успеха Pokemon Go. Несомненно большой интерес представляет рынок мобильных игр. Самой ожидаемой консолью 2017 года является Nintendo Switch."
   ]
  },
  {
   "cell_type": "markdown",
   "metadata": {},
   "source": [
    "### Продажи игр"
   ]
  },
  {
   "cell_type": "code",
   "execution_count": 24,
   "metadata": {},
   "outputs": [
    {
     "data": {
      "image/png": "[encoded data removed]",
      "text/plain": [
       "<Figure size 1224x432 with 1 Axes>"
      ]
     },
     "metadata": {
      "needs_background": "light"
     },
     "output_type": "display_data"
    },
    {
     "name": "stdout",
     "output_type": "stream",
     "text": [
      "ТОП 5 платформ по продажам игр:\n",
      "platform\n",
      "PS2     1247.16\n",
      "X360     966.61\n",
      "PS3      935.00\n",
      "Wii      903.31\n",
      "DS       804.28\n",
      "Name: sales, dtype: float64\n"
     ]
    }
   ],
   "source": [
    "data.query(\n",
    "    \"platform.isin(@data.platform.value_counts().head(20).index)\"\n",
    ").pivot_table(\n",
    "    values=\"sales\", index=\"year_of_release\",\n",
    "    columns=\"platform\", aggfunc=\"sum\"\n",
    ").plot(\n",
    "    kind=\"area\", figsize=(17, 6), rot=90, alpha=0.5,\n",
    "    colormap=\"tab20c\", \n",
    ")\n",
    "\n",
    "data.groupby(\"year_of_release\")[\"sales\"].sum().rename(\"все продажи\").plot(\n",
    "    style=\"-o\", xticks=range(1980, 2017), rot=90\n",
    ")\n",
    "\n",
    "plt.title(\"Продажи ТОП 20 платформ\" , size=18)\n",
    "plt.xlabel(\"Год релиза\", size=12)\n",
    "plt.ylabel(\"Продажи, млн. экземпляров\", size=12)\n",
    "plt.legend(loc=\"upper left\")\n",
    "\n",
    "plt.show()\n",
    "\n",
    "print(\n",
    "    \"ТОП 5 платформ по продажам игр:\\n\",\n",
    "    data.groupby(\"platform\").sales.sum().sort_values(ascending=False).head(5), sep=\"\"\n",
    ")"
   ]
  },
  {
   "cell_type": "markdown",
   "metadata": {},
   "source": [
    "Динамика продаж до 1990 года более разнонаправлена и не сильно зависит от количества выпускаемых игр. Дальнейший рост в целом корелирует с количеством выпускаемых игр. С 2008 года динамика негативная - постоянное снижение с небольшим отском только в 2013 году. Снижение за последние 3 года можно частично списать на то, что продажи игр в последние годы еще не завершены, некоторые платформы на подъеме, другие еще не исчезли и продажи продолжаются. Особенно это актуально для 2016 года, где продажи только начались. Однако учитывая, что имеет место рост количества выпущенных игр, падение продаж все таки наблюдается. \n",
    "\n",
    "Самой крупной платформой по продажам за все время также является PS2, ниже располагаются X360, PS3, Wii и DS.\n",
    "\n",
    "Оценим продажи с 2012 года, когда остановилось падение продаж новых игр с 2008-го года и начался рост, а также появились игры для новых платформ XOne и PS4. При этом лучше смотреть на распределение в процентном, а не в количественном соотношении."
   ]
  },
  {
   "cell_type": "code",
   "execution_count": 25,
   "metadata": {},
   "outputs": [
    {
     "data": {
      "image/png": "[encoded data removed]",
      "text/plain": [
       "<Figure size 1224x360 with 1 Axes>"
      ]
     },
     "metadata": {
      "needs_background": "light"
     },
     "output_type": "display_data"
    },
    {
     "data": {
      "text/html": [
       "<div>\n",
       "<style scoped>\n",
       "    .dataframe tbody tr th:only-of-type {\n",
       "        vertical-align: middle;\n",
       "    }\n",
       "\n",
       "    .dataframe tbody tr th {\n",
       "        vertical-align: top;\n",
       "    }\n",
       "\n",
       "    .dataframe thead th {\n",
       "        text-align: right;\n",
       "    }\n",
       "</style>\n",
       "<table border=\"1\" class=\"dataframe\">\n",
       "  <thead>\n",
       "    <tr style=\"text-align: right;\">\n",
       "      <th>platform</th>\n",
       "      <th>3DS</th>\n",
       "      <th>DS</th>\n",
       "      <th>PC</th>\n",
       "      <th>PS3</th>\n",
       "      <th>PS4</th>\n",
       "      <th>PSP</th>\n",
       "      <th>PSV</th>\n",
       "      <th>Wii</th>\n",
       "      <th>WiiU</th>\n",
       "      <th>X360</th>\n",
       "      <th>XOne</th>\n",
       "    </tr>\n",
       "    <tr>\n",
       "      <th>year_of_release</th>\n",
       "      <th></th>\n",
       "      <th></th>\n",
       "      <th></th>\n",
       "      <th></th>\n",
       "      <th></th>\n",
       "      <th></th>\n",
       "      <th></th>\n",
       "      <th></th>\n",
       "      <th></th>\n",
       "      <th></th>\n",
       "      <th></th>\n",
       "    </tr>\n",
       "  </thead>\n",
       "  <tbody>\n",
       "    <tr>\n",
       "      <th>2012</th>\n",
       "      <td>14.36</td>\n",
       "      <td>3.24</td>\n",
       "      <td>6.50</td>\n",
       "      <td>30.03</td>\n",
       "      <td>NaN</td>\n",
       "      <td>2.21</td>\n",
       "      <td>4.49</td>\n",
       "      <td>6.36</td>\n",
       "      <td>4.87</td>\n",
       "      <td>27.94</td>\n",
       "      <td>NaN</td>\n",
       "    </tr>\n",
       "    <tr>\n",
       "      <th>2013</th>\n",
       "      <td>15.62</td>\n",
       "      <td>0.43</td>\n",
       "      <td>3.59</td>\n",
       "      <td>31.28</td>\n",
       "      <td>7.18</td>\n",
       "      <td>0.93</td>\n",
       "      <td>2.92</td>\n",
       "      <td>2.37</td>\n",
       "      <td>5.98</td>\n",
       "      <td>24.46</td>\n",
       "      <td>5.24</td>\n",
       "    </tr>\n",
       "    <tr>\n",
       "      <th>2014</th>\n",
       "      <td>13.20</td>\n",
       "      <td>NaN</td>\n",
       "      <td>4.01</td>\n",
       "      <td>14.41</td>\n",
       "      <td>30.16</td>\n",
       "      <td>0.07</td>\n",
       "      <td>3.59</td>\n",
       "      <td>1.13</td>\n",
       "      <td>6.64</td>\n",
       "      <td>10.48</td>\n",
       "      <td>16.31</td>\n",
       "    </tr>\n",
       "    <tr>\n",
       "      <th>2015</th>\n",
       "      <td>10.37</td>\n",
       "      <td>NaN</td>\n",
       "      <td>3.18</td>\n",
       "      <td>6.28</td>\n",
       "      <td>44.37</td>\n",
       "      <td>0.04</td>\n",
       "      <td>2.33</td>\n",
       "      <td>0.43</td>\n",
       "      <td>6.10</td>\n",
       "      <td>4.46</td>\n",
       "      <td>22.44</td>\n",
       "    </tr>\n",
       "    <tr>\n",
       "      <th>2016</th>\n",
       "      <td>11.65</td>\n",
       "      <td>NaN</td>\n",
       "      <td>4.04</td>\n",
       "      <td>2.77</td>\n",
       "      <td>53.29</td>\n",
       "      <td>NaN</td>\n",
       "      <td>3.27</td>\n",
       "      <td>0.14</td>\n",
       "      <td>3.54</td>\n",
       "      <td>1.17</td>\n",
       "      <td>20.12</td>\n",
       "    </tr>\n",
       "  </tbody>\n",
       "</table>\n",
       "</div>"
      ],
      "text/plain": [
       "platform           3DS    DS    PC    PS3    PS4   PSP   PSV   Wii  WiiU  \\\n",
       "year_of_release                                                            \n",
       "2012             14.36  3.24  6.50  30.03    NaN  2.21  4.49  6.36  4.87   \n",
       "2013             15.62  0.43  3.59  31.28   7.18  0.93  2.92  2.37  5.98   \n",
       "2014             13.20   NaN  4.01  14.41  30.16  0.07  3.59  1.13  6.64   \n",
       "2015             10.37   NaN  3.18   6.28  44.37  0.04  2.33  0.43  6.10   \n",
       "2016             11.65   NaN  4.04   2.77  53.29   NaN  3.27  0.14  3.54   \n",
       "\n",
       "platform          X360   XOne  \n",
       "year_of_release                \n",
       "2012             27.94    NaN  \n",
       "2013             24.46   5.24  \n",
       "2014             10.48  16.31  \n",
       "2015              4.46  22.44  \n",
       "2016              1.17  20.12  "
      ]
     },
     "execution_count": 25,
     "metadata": {},
     "output_type": "execute_result"
    }
   ],
   "source": [
    "actual_data = data.query(\"year_of_release >= 2012\")\n",
    "\n",
    "(actual_data.pivot_table(\n",
    "    values=\"sales\", index=\"year_of_release\",\n",
    "    columns=\"platform\", aggfunc=\"sum\"\n",
    ").dropna(axis=1, how=\"all\").T / \n",
    "actual_data.groupby(\"year_of_release\")[\"sales\"].sum().to_list()).T.plot(\n",
    "    kind=\"area\", figsize=(17, 5), \n",
    "    colormap=\"tab20c\", xticks=range(2012, 2017)\n",
    ")\n",
    "plt.title(\"Динамика продаж по платформам за 2012-2016 годы\" , size=18)\n",
    "plt.xlabel(\"Год релиза\", size=12)\n",
    "plt.ylabel(\"Продажи, млн. экземпляров\", size=12)\n",
    "plt.legend(loc=\"upper left\")\n",
    "plt.show()\n",
    "\n",
    "round(actual_data.pivot_table(\n",
    "    values=\"sales\", index=\"year_of_release\",\n",
    "    columns=\"platform\", aggfunc=\"sum\"\n",
    ").dropna(axis=1, how=\"all\").T / \n",
    "actual_data.groupby(\"year_of_release\")[\"sales\"].sum().to_list() * 100, 2).T"
   ]
  },
  {
   "cell_type": "markdown",
   "metadata": {},
   "source": [
    "Платформа DS перестала существовать к 2013-му году и ее для дальнейшего анализа рассматривать не имеет смысла, анализу подлежат 10 платформ. Платформы PSP и Wii судя по показателями уже в самом конце жизненного цикла, доля рынка которых уже очень незначительная и снижается, в частности по PSP в 2016-м году продажи новых продуктов нет. Платформа PSV судя по ее динамике так и не получила достаточной популярности и продолжает снижаться, в отличие от ее предшественника PSP, популярность которой была гораздо выше.\n",
    "\n",
    "Также можно отметить существенное снижение доли рынка по платформам PS3 и X360 в пользу PS4 и XOne, если по последней рост не такой заметный, то PS4 резко выбилась в явные лидеры рынка с долей в 53.3% к 2016-му году. Но возможно XOne может немного отыграть долю, так как по 2016-му году данные не полные. По платформе 3DS наблюдается слабая отрицательная динамика за рассматриваемый период, как и для платформы WiiU, которая занимает гораздо меньший рынок. Однако как я писал ранее, в 2017 году ожидается следующее поколение платформы - Nintendo Switch, соответствено интерес к данным консолям будет угасать. Рынок игр для PC имеет малую долю и постепенно снижается в пределах 4%."
   ]
  },
  {
   "cell_type": "code",
   "execution_count": 26,
   "metadata": {},
   "outputs": [
    {
     "data": {
      "image/png": "[encoded data removed]",
      "text/plain": [
       "<Figure size 1224x288 with 1 Axes>"
      ]
     },
     "metadata": {
      "needs_background": "light"
     },
     "output_type": "display_data"
    }
   ],
   "source": [
    "actual_data.query(\n",
    "    \"platform.isin(@data.query('year_of_release > 2013').platform.unique())\"\n",
    ").boxplot(\n",
    "    column = \"sales\", by=\"platform\", figsize=(17, 4), vert=False\n",
    ")\n",
    "plt.suptitle(\"Распределение глобальных продаж по 10 платформам\" , size=18)\n",
    "plt.title(\"\")\n",
    "plt.xlabel(\"Продажи, млн. экземпляров\", size=12)\n",
    "plt.ylabel(\"Платформа\", size=12)\n",
    "plt.show()"
   ]
  },
  {
   "cell_type": "markdown",
   "metadata": {},
   "source": [
    "Распределение глобальных продаж по 10 представленным ранее платформам показывает, что основная масса значений приходится до 2-3 миллионов, а также присутствуют большие отрывов по количеству проданных копий, которые располагаются до 20 миллионов штук, также небольшое количество игр располагается между 20 и 40 миллионами штук по платформам X360, Wii, PS3. Очень большой отрыв имеется по платформе Wii - более 80 млн. штук и в целом больших отрывов по этой платформе больше. Это говорит о том, что для данной платформы выпускались очень популярные игры. Стоит отметить также платформы XOne, XiiU, PSV, PSP и PC где нет игр, продажи которых превышают 10 миллионов штук, особенно низкие показатели для платформы PSV.\n",
    "\n",
    "Чтобы лучше оценить различия по проджам основной массы игр на различных платформах, ограничим график по верхнему пределу."
   ]
  },
  {
   "cell_type": "code",
   "execution_count": 27,
   "metadata": {},
   "outputs": [
    {
     "data": {
      "image/png": "[encoded data removed]",
      "text/plain": [
       "<Figure size 1224x288 with 1 Axes>"
      ]
     },
     "metadata": {
      "needs_background": "light"
     },
     "output_type": "display_data"
    }
   ],
   "source": [
    "actual_data.query(\n",
    "    \"platform.isin(@data.query('year_of_release > 2013').platform.unique())\"\n",
    ").boxplot(\n",
    "    column = \"sales\", by=\"platform\", figsize=(17, 4), vert=False, showfliers=False\n",
    ")\n",
    "plt.suptitle(\"Распределение глобальных продаж по 10 платформам (без выбросов)\", size=18)\n",
    "plt.title(\"\")\n",
    "plt.xlabel(\"Продажи, млн. экземпляров\", size=12)\n",
    "plt.ylabel(\"Платформа\", size=12)\n",
    "plt.show()"
   ]
  },
  {
   "cell_type": "markdown",
   "metadata": {},
   "source": [
    "При приближении графика к основным значениям можно отметить, что платформы PSV, PSP и PC в среднем имеют более низкие показатели продаж за все время. Основная масса продаж располагается до 2-2.5 миллионов штук. Следующими по продажам можно отметить платформы 3DS, Wii и WiiU, продажи которых заметно выше, но не дотягивают до топовых платформ. Наибольшие продажи по платформам PS3 и X360, приэтом в среднем продажи по X360 немного выше по количеству, чем для PS3. Более новая платформа XOne не догнала продажи предыдущей платформы X360 но достаточно близко. Платформа PS4 за рассматриваемый период обогнала продажи предыдущей платформы PS3. Здесь стоит отметить, что мы исключили пики продаж 2008-го года, и сравниваются только платформы с 2012 года."
   ]
  },
  {
   "cell_type": "markdown",
   "metadata": {},
   "source": [
    "Можно сделать вывод, что наиболее предпочтительные платформы - PS4 и XOne, которые активно захватывают рынок и приходят на замену X360 и PS3. Платформы 3DS и WiiU подходят к завершению своего жизненного срока, учитывая планируемый на 2017 год выход платформы Nintendo Switch. Но платформа 3DS занимает достаточный объем рынка, в отличие от WiiU, так что полностью их не нужно списывать, так как платформа Wii показала, что могут быть очень популярные игры для Nintendo. Рынок платформы PC хоть и достаточно малый, но тоже не стоит его исключать."
   ]
  },
  {
   "cell_type": "markdown",
   "metadata": {},
   "source": [
    "### Влияние оценок пользователей и критиков на продажи"
   ]
  },
  {
   "cell_type": "code",
   "execution_count": 28,
   "metadata": {},
   "outputs": [
    {
     "data": {
      "text/html": [
       "<div>\n",
       "<style scoped>\n",
       "    .dataframe tbody tr th:only-of-type {\n",
       "        vertical-align: middle;\n",
       "    }\n",
       "\n",
       "    .dataframe tbody tr th {\n",
       "        vertical-align: top;\n",
       "    }\n",
       "\n",
       "    .dataframe thead th {\n",
       "        text-align: right;\n",
       "    }\n",
       "</style>\n",
       "<table border=\"1\" class=\"dataframe\">\n",
       "  <thead>\n",
       "    <tr style=\"text-align: right;\">\n",
       "      <th></th>\n",
       "      <th>critic_score</th>\n",
       "      <th>user_score</th>\n",
       "    </tr>\n",
       "    <tr>\n",
       "      <th>platform</th>\n",
       "      <th></th>\n",
       "      <th></th>\n",
       "    </tr>\n",
       "  </thead>\n",
       "  <tbody>\n",
       "    <tr>\n",
       "      <th>PS3</th>\n",
       "      <td>214</td>\n",
       "      <td>283</td>\n",
       "    </tr>\n",
       "    <tr>\n",
       "      <th>PS4</th>\n",
       "      <td>252</td>\n",
       "      <td>257</td>\n",
       "    </tr>\n",
       "    <tr>\n",
       "      <th>X360</th>\n",
       "      <td>172</td>\n",
       "      <td>236</td>\n",
       "    </tr>\n",
       "    <tr>\n",
       "      <th>PC</th>\n",
       "      <td>203</td>\n",
       "      <td>211</td>\n",
       "    </tr>\n",
       "    <tr>\n",
       "      <th>XOne</th>\n",
       "      <td>169</td>\n",
       "      <td>182</td>\n",
       "    </tr>\n",
       "    <tr>\n",
       "      <th>PSV</th>\n",
       "      <td>107</td>\n",
       "      <td>130</td>\n",
       "    </tr>\n",
       "    <tr>\n",
       "      <th>3DS</th>\n",
       "      <td>105</td>\n",
       "      <td>115</td>\n",
       "    </tr>\n",
       "    <tr>\n",
       "      <th>WiiU</th>\n",
       "      <td>90</td>\n",
       "      <td>100</td>\n",
       "    </tr>\n",
       "    <tr>\n",
       "      <th>Wii</th>\n",
       "      <td>6</td>\n",
       "      <td>18</td>\n",
       "    </tr>\n",
       "    <tr>\n",
       "      <th>PSP</th>\n",
       "      <td>1</td>\n",
       "      <td>4</td>\n",
       "    </tr>\n",
       "    <tr>\n",
       "      <th>DS</th>\n",
       "      <td>2</td>\n",
       "      <td>3</td>\n",
       "    </tr>\n",
       "  </tbody>\n",
       "</table>\n",
       "</div>"
      ],
      "text/plain": [
       "          critic_score  user_score\n",
       "platform                          \n",
       "PS3                214         283\n",
       "PS4                252         257\n",
       "X360               172         236\n",
       "PC                 203         211\n",
       "XOne               169         182\n",
       "PSV                107         130\n",
       "3DS                105         115\n",
       "WiiU                90         100\n",
       "Wii                  6          18\n",
       "PSP                  1           4\n",
       "DS                   2           3"
      ]
     },
     "execution_count": 28,
     "metadata": {},
     "output_type": "execute_result"
    }
   ],
   "source": [
    "actual_data.groupby(\"platform\")[[\"critic_score\", \n",
    "                                 \"user_score\"]].count().sort_values(\n",
    "    \"user_score\", ascending=False\n",
    ").head(13)"
   ]
  },
  {
   "cell_type": "markdown",
   "metadata": {},
   "source": [
    "Наибольшее число оценок приходится на PS3. Также достаточно высокое количество оценок для платформы PS4, X360 и PC, существенно более низколе количество оценок имеют игры для платформ XOne, 3DS."
   ]
  },
  {
   "cell_type": "code",
   "execution_count": 29,
   "metadata": {},
   "outputs": [
    {
     "data": {
      "image/png": "[encoded data removed]",
      "text/plain": [
       "<Figure size 864x360 with 2 Axes>"
      ]
     },
     "metadata": {
      "needs_background": "light"
     },
     "output_type": "display_data"
    },
    {
     "data": {
      "text/html": [
       "<div>\n",
       "<style scoped>\n",
       "    .dataframe tbody tr th:only-of-type {\n",
       "        vertical-align: middle;\n",
       "    }\n",
       "\n",
       "    .dataframe tbody tr th {\n",
       "        vertical-align: top;\n",
       "    }\n",
       "\n",
       "    .dataframe thead th {\n",
       "        text-align: right;\n",
       "    }\n",
       "</style>\n",
       "<table border=\"1\" class=\"dataframe\">\n",
       "  <thead>\n",
       "    <tr style=\"text-align: right;\">\n",
       "      <th></th>\n",
       "      <th>PS3</th>\n",
       "    </tr>\n",
       "  </thead>\n",
       "  <tbody>\n",
       "    <tr>\n",
       "      <th>sales</th>\n",
       "      <td>1.000000</td>\n",
       "    </tr>\n",
       "    <tr>\n",
       "      <th>critic_score</th>\n",
       "      <td>0.334032</td>\n",
       "    </tr>\n",
       "    <tr>\n",
       "      <th>user_score</th>\n",
       "      <td>-0.006122</td>\n",
       "    </tr>\n",
       "  </tbody>\n",
       "</table>\n",
       "</div>"
      ],
      "text/plain": [
       "                   PS3\n",
       "sales         1.000000\n",
       "critic_score  0.334032\n",
       "user_score   -0.006122"
      ]
     },
     "metadata": {},
     "output_type": "display_data"
    }
   ],
   "source": [
    "# Довольно сильно завис на данных графиках, так и не разобрался как выводить в одну строку графики с разным соотношением ширины\n",
    "\n",
    "def show_scatter(df, platform, limit):\n",
    "  \n",
    "    fig = plt.figure(figsize=(12, 5))\n",
    "\n",
    "    fig.add_subplot(121)\n",
    "    df.query(f\"platform == '{platform}'\").plot(\n",
    "        kind=\"scatter\", x=\"sales\", y=\"critic_score\",\n",
    "        alpha=0.7, s=2, ax=plt.gca()\n",
    "    )\n",
    "    plt.xlim(0, limit)\n",
    "    plt.title(f\"Оценки критиков {platform}\", size=18)\n",
    "    plt.xlabel(\"Продажи, млн. экземпляров\", size=12)\n",
    "    plt.ylabel(\"Оценки\", size=12)\n",
    "\n",
    "    fig.add_subplot(122)\n",
    "    df.query(f\"platform == '{platform}'\").plot(\n",
    "        kind=\"scatter\", x=\"sales\", y=\"user_score\",\n",
    "        alpha=0.7, s=2, ax=plt.gca()\n",
    "    )\n",
    "    plt.xlim(0, limit)\n",
    "    plt.title(f\"Оценки пользователей {platform}\", size=18)\n",
    "    plt.xlabel(\"Продажи, млн. экземпляров\", size=12)\n",
    "    plt.ylabel(\"\")\n",
    "    plt.show()\n",
    "    display(df.query(f\"platform == '{platform}'\")[[\"sales\", \"critic_score\", \"user_score\"]].corr()[\"sales\"].rename(platform).to_frame())\n",
    "\n",
    "show_scatter(actual_data,\"PS3\", 2)"
   ]
  },
  {
   "cell_type": "markdown",
   "metadata": {},
   "source": [
    "Корреляция между отзывами и продажами положительная, при этом не ярко выраженная. \n",
    "- по оценкам критиков более выраженное смещение количества продаж вправо по мере роста оценки. Коэффициент корреляции 0.33, что говорит о недостаточно высокой корреляции. \n",
    "- по пользовательским оценкам достаточно равномерное распределение в левом верхнем секторе графика, при этом встречаются гораздо большее количество игр с высокими продажами и более низкими оценками, чем в оценках критиков. Коэффициент корреляции -0.006, что говорит о фактическом отсутствии корреляции.\n",
    "\n",
    "Можно сделать вывод, что оценки пользователей не коррелируют с количеством продаж, при этом зависимость количества продаж и оценки критиков выше, но тоже не достаточно ярко выраженная, имеются немало игр с высокой оценкой и низкими продажами.\n",
    "\n",
    "Сравним какие показатели корреляции по платформам PS3 и PC, а также наиболее интересующих нас PS4, XOne и 3DS:"
   ]
  },
  {
   "cell_type": "code",
   "execution_count": 30,
   "metadata": {},
   "outputs": [
    {
     "data": {
      "image/png": "[encoded data removed]",
      "text/plain": [
       "<Figure size 864x360 with 2 Axes>"
      ]
     },
     "metadata": {
      "needs_background": "light"
     },
     "output_type": "display_data"
    },
    {
     "data": {
      "text/html": [
       "<div>\n",
       "<style scoped>\n",
       "    .dataframe tbody tr th:only-of-type {\n",
       "        vertical-align: middle;\n",
       "    }\n",
       "\n",
       "    .dataframe tbody tr th {\n",
       "        vertical-align: top;\n",
       "    }\n",
       "\n",
       "    .dataframe thead th {\n",
       "        text-align: right;\n",
       "    }\n",
       "</style>\n",
       "<table border=\"1\" class=\"dataframe\">\n",
       "  <thead>\n",
       "    <tr style=\"text-align: right;\">\n",
       "      <th></th>\n",
       "      <th>PS4</th>\n",
       "    </tr>\n",
       "  </thead>\n",
       "  <tbody>\n",
       "    <tr>\n",
       "      <th>sales</th>\n",
       "      <td>1.000000</td>\n",
       "    </tr>\n",
       "    <tr>\n",
       "      <th>critic_score</th>\n",
       "      <td>0.406568</td>\n",
       "    </tr>\n",
       "    <tr>\n",
       "      <th>user_score</th>\n",
       "      <td>-0.031957</td>\n",
       "    </tr>\n",
       "  </tbody>\n",
       "</table>\n",
       "</div>"
      ],
      "text/plain": [
       "                   PS4\n",
       "sales         1.000000\n",
       "critic_score  0.406568\n",
       "user_score   -0.031957"
      ]
     },
     "metadata": {},
     "output_type": "display_data"
    }
   ],
   "source": [
    "show_scatter(actual_data,\"PS4\", 3)"
   ]
  },
  {
   "cell_type": "markdown",
   "metadata": {},
   "source": [
    "По платформе PS4 корреляци чуть более выраженая:\n",
    "- по оценкам критиков график слегка сместился правее в верхнем секторе. Коэффициент корреляции также увеличился: 0.40;\n",
    "- по оценкам пользователей график изменился в нижней части, при этом имеются игры с низкими оценками и очень высокими продажами. Коэффициент корреляции также незначительно увеличился: -0.03."
   ]
  },
  {
   "cell_type": "code",
   "execution_count": 31,
   "metadata": {},
   "outputs": [
    {
     "data": {
      "image/png": "[encoded data removed]",
      "text/plain": [
       "<Figure size 864x360 with 2 Axes>"
      ]
     },
     "metadata": {
      "needs_background": "light"
     },
     "output_type": "display_data"
    },
    {
     "data": {
      "text/html": [
       "<div>\n",
       "<style scoped>\n",
       "    .dataframe tbody tr th:only-of-type {\n",
       "        vertical-align: middle;\n",
       "    }\n",
       "\n",
       "    .dataframe tbody tr th {\n",
       "        vertical-align: top;\n",
       "    }\n",
       "\n",
       "    .dataframe thead th {\n",
       "        text-align: right;\n",
       "    }\n",
       "</style>\n",
       "<table border=\"1\" class=\"dataframe\">\n",
       "  <thead>\n",
       "    <tr style=\"text-align: right;\">\n",
       "      <th></th>\n",
       "      <th>X360</th>\n",
       "    </tr>\n",
       "  </thead>\n",
       "  <tbody>\n",
       "    <tr>\n",
       "      <th>sales</th>\n",
       "      <td>1.000000</td>\n",
       "    </tr>\n",
       "    <tr>\n",
       "      <th>critic_score</th>\n",
       "      <td>0.360266</td>\n",
       "    </tr>\n",
       "    <tr>\n",
       "      <th>user_score</th>\n",
       "      <td>0.006315</td>\n",
       "    </tr>\n",
       "  </tbody>\n",
       "</table>\n",
       "</div>"
      ],
      "text/plain": [
       "                  X360\n",
       "sales         1.000000\n",
       "critic_score  0.360266\n",
       "user_score    0.006315"
      ]
     },
     "metadata": {},
     "output_type": "display_data"
    }
   ],
   "source": [
    "show_scatter(actual_data, \"X360\", 2)"
   ]
  },
  {
   "cell_type": "markdown",
   "metadata": {},
   "source": [
    "По платформе X360 корреляция разнонаправленная:\n",
    "- по оценкам критиков график ближе к PS3, но оценок горназдо меньше. Коэффициент корреляции: 0.36, чуть меньше чем у PS4;\n",
    "- по оценкам пользователей график более равномерный, больше игр с высокими продажами с низкой оценкой и наоборот. Коэффициент корреляции практический нулевой: 0.006."
   ]
  },
  {
   "cell_type": "code",
   "execution_count": 32,
   "metadata": {},
   "outputs": [
    {
     "data": {
      "image/png": "[encoded data removed]",
      "text/plain": [
       "<Figure size 864x360 with 2 Axes>"
      ]
     },
     "metadata": {
      "needs_background": "light"
     },
     "output_type": "display_data"
    },
    {
     "data": {
      "text/html": [
       "<div>\n",
       "<style scoped>\n",
       "    .dataframe tbody tr th:only-of-type {\n",
       "        vertical-align: middle;\n",
       "    }\n",
       "\n",
       "    .dataframe tbody tr th {\n",
       "        vertical-align: top;\n",
       "    }\n",
       "\n",
       "    .dataframe thead th {\n",
       "        text-align: right;\n",
       "    }\n",
       "</style>\n",
       "<table border=\"1\" class=\"dataframe\">\n",
       "  <thead>\n",
       "    <tr style=\"text-align: right;\">\n",
       "      <th></th>\n",
       "      <th>PC</th>\n",
       "    </tr>\n",
       "  </thead>\n",
       "  <tbody>\n",
       "    <tr>\n",
       "      <th>sales</th>\n",
       "      <td>1.000000</td>\n",
       "    </tr>\n",
       "    <tr>\n",
       "      <th>critic_score</th>\n",
       "      <td>0.240570</td>\n",
       "    </tr>\n",
       "    <tr>\n",
       "      <th>user_score</th>\n",
       "      <td>-0.120339</td>\n",
       "    </tr>\n",
       "  </tbody>\n",
       "</table>\n",
       "</div>"
      ],
      "text/plain": [
       "                    PC\n",
       "sales         1.000000\n",
       "critic_score  0.240570\n",
       "user_score   -0.120339"
      ]
     },
     "metadata": {},
     "output_type": "display_data"
    }
   ],
   "source": [
    "show_scatter(actual_data, \"PC\", 0.5)"
   ]
  },
  {
   "cell_type": "markdown",
   "metadata": {},
   "source": [
    "По платформе PC корреляция значительно менее выраженая, но более разнонаправленная:\n",
    "- по оценкам критиков график сильно сместился левее в верхнем секторе, много игр с высокой оценкой и низкими продажами. Коэффициент корреляции по сравнению с предыдущими платформами ниже: 0.24, достаточно низкая корреляция;\n",
    "- по оценкам пользователей график более равномерный, больше игр с высокими продажами с низкой оценкой. Коэффициент корреляции также значительно уменьшился: -0.12, можно сказать, что имеет место небольшая отрицательная корреляция."
   ]
  },
  {
   "cell_type": "code",
   "execution_count": 33,
   "metadata": {},
   "outputs": [
    {
     "data": {
      "image/png": "[encoded data removed]",
      "text/plain": [
       "<Figure size 864x360 with 2 Axes>"
      ]
     },
     "metadata": {
      "needs_background": "light"
     },
     "output_type": "display_data"
    },
    {
     "data": {
      "text/html": [
       "<div>\n",
       "<style scoped>\n",
       "    .dataframe tbody tr th:only-of-type {\n",
       "        vertical-align: middle;\n",
       "    }\n",
       "\n",
       "    .dataframe tbody tr th {\n",
       "        vertical-align: top;\n",
       "    }\n",
       "\n",
       "    .dataframe thead th {\n",
       "        text-align: right;\n",
       "    }\n",
       "</style>\n",
       "<table border=\"1\" class=\"dataframe\">\n",
       "  <thead>\n",
       "    <tr style=\"text-align: right;\">\n",
       "      <th></th>\n",
       "      <th>XOne</th>\n",
       "    </tr>\n",
       "  </thead>\n",
       "  <tbody>\n",
       "    <tr>\n",
       "      <th>sales</th>\n",
       "      <td>1.000000</td>\n",
       "    </tr>\n",
       "    <tr>\n",
       "      <th>critic_score</th>\n",
       "      <td>0.416998</td>\n",
       "    </tr>\n",
       "    <tr>\n",
       "      <th>user_score</th>\n",
       "      <td>-0.068925</td>\n",
       "    </tr>\n",
       "  </tbody>\n",
       "</table>\n",
       "</div>"
      ],
      "text/plain": [
       "                  XOne\n",
       "sales         1.000000\n",
       "critic_score  0.416998\n",
       "user_score   -0.068925"
      ]
     },
     "metadata": {},
     "output_type": "display_data"
    }
   ],
   "source": [
    "show_scatter(actual_data, \"XOne\", 2)"
   ]
  },
  {
   "cell_type": "markdown",
   "metadata": {},
   "source": [
    "По платформе XOne корреляция также разнонаправленная:\n",
    "- по оценкам критиков график ближе к X360, но оценок горназдо меньше. Коэффициент корреляции: 0.41, самая высокая корреляция;\n",
    "- по оценкам пользователей график более равномерный, больше игр с высокими продажами с низкой оценкой и наоборот. Коэффициент близкий к PS4: -0.07, корреляция очень низкая и отрицательная."
   ]
  },
  {
   "cell_type": "code",
   "execution_count": 34,
   "metadata": {},
   "outputs": [
    {
     "data": {
      "image/png": "[encoded data removed]",
      "text/plain": [
       "<Figure size 864x360 with 2 Axes>"
      ]
     },
     "metadata": {
      "needs_background": "light"
     },
     "output_type": "display_data"
    },
    {
     "data": {
      "text/html": [
       "<div>\n",
       "<style scoped>\n",
       "    .dataframe tbody tr th:only-of-type {\n",
       "        vertical-align: middle;\n",
       "    }\n",
       "\n",
       "    .dataframe tbody tr th {\n",
       "        vertical-align: top;\n",
       "    }\n",
       "\n",
       "    .dataframe thead th {\n",
       "        text-align: right;\n",
       "    }\n",
       "</style>\n",
       "<table border=\"1\" class=\"dataframe\">\n",
       "  <thead>\n",
       "    <tr style=\"text-align: right;\">\n",
       "      <th></th>\n",
       "      <th>3DS</th>\n",
       "    </tr>\n",
       "  </thead>\n",
       "  <tbody>\n",
       "    <tr>\n",
       "      <th>sales</th>\n",
       "      <td>1.000000</td>\n",
       "    </tr>\n",
       "    <tr>\n",
       "      <th>critic_score</th>\n",
       "      <td>0.320458</td>\n",
       "    </tr>\n",
       "    <tr>\n",
       "      <th>user_score</th>\n",
       "      <td>0.198150</td>\n",
       "    </tr>\n",
       "  </tbody>\n",
       "</table>\n",
       "</div>"
      ],
      "text/plain": [
       "                   3DS\n",
       "sales         1.000000\n",
       "critic_score  0.320458\n",
       "user_score    0.198150"
      ]
     },
     "metadata": {},
     "output_type": "display_data"
    }
   ],
   "source": [
    "show_scatter(actual_data, \"3DS\", 1.5)"
   ]
  },
  {
   "cell_type": "markdown",
   "metadata": {},
   "source": [
    "По платформе 3DS корреляция положительная, но довольно мало оценок:\n",
    "- по оценкам критиков график сдвинут вверх. Коэффициент корреляции: 0.32, немного ниже XOne и PS4;\n",
    "- по оценкам пользователей график также более равномерный. Коэффициент самый высокий среди рассмотренных: 0.20."
   ]
  },
  {
   "cell_type": "markdown",
   "metadata": {},
   "source": [
    "Можно сделать вывод, что в целом корреляция оценки критиков с продажами положительная и прослеживается более явно, более высокие оценки чаще всего у игр с более высокими продажами. По пользователям корреляция достаточно сильно варьируется. Более высокая корреляция у устоявшихся платформ, для новых платформ корреляция практически отсутствует или даже сдвигается в отрицательную сторону."
   ]
  },
  {
   "cell_type": "markdown",
   "metadata": {},
   "source": [
    "### Игровые жанры"
   ]
  },
  {
   "cell_type": "code",
   "execution_count": 35,
   "metadata": {},
   "outputs": [
    {
     "data": {
      "image/png": "[encoded data removed]",
      "text/plain": [
       "<Figure size 1224x360 with 1 Axes>"
      ]
     },
     "metadata": {
      "needs_background": "light"
     },
     "output_type": "display_data"
    },
    {
     "data": {
      "text/html": [
       "<div>\n",
       "<style scoped>\n",
       "    .dataframe tbody tr th:only-of-type {\n",
       "        vertical-align: middle;\n",
       "    }\n",
       "\n",
       "    .dataframe tbody tr th {\n",
       "        vertical-align: top;\n",
       "    }\n",
       "\n",
       "    .dataframe thead th {\n",
       "        text-align: right;\n",
       "    }\n",
       "</style>\n",
       "<table border=\"1\" class=\"dataframe\">\n",
       "  <thead>\n",
       "    <tr style=\"text-align: right;\">\n",
       "      <th></th>\n",
       "      <th>count</th>\n",
       "      <th>mean</th>\n",
       "      <th>std</th>\n",
       "      <th>min</th>\n",
       "      <th>25%</th>\n",
       "      <th>50%</th>\n",
       "      <th>75%</th>\n",
       "      <th>max</th>\n",
       "    </tr>\n",
       "    <tr>\n",
       "      <th>genre</th>\n",
       "      <th></th>\n",
       "      <th></th>\n",
       "      <th></th>\n",
       "      <th></th>\n",
       "      <th></th>\n",
       "      <th></th>\n",
       "      <th></th>\n",
       "      <th></th>\n",
       "    </tr>\n",
       "  </thead>\n",
       "  <tbody>\n",
       "    <tr>\n",
       "      <th>Shooter</th>\n",
       "      <td>237.0</td>\n",
       "      <td>1.285865</td>\n",
       "      <td>2.245201</td>\n",
       "      <td>0.01</td>\n",
       "      <td>0.13</td>\n",
       "      <td>0.430</td>\n",
       "      <td>1.4700</td>\n",
       "      <td>14.63</td>\n",
       "    </tr>\n",
       "    <tr>\n",
       "      <th>Sports</th>\n",
       "      <td>267.0</td>\n",
       "      <td>0.678165</td>\n",
       "      <td>1.137840</td>\n",
       "      <td>0.01</td>\n",
       "      <td>0.08</td>\n",
       "      <td>0.240</td>\n",
       "      <td>0.7450</td>\n",
       "      <td>8.58</td>\n",
       "    </tr>\n",
       "    <tr>\n",
       "      <th>Platform</th>\n",
       "      <td>85.0</td>\n",
       "      <td>0.717647</td>\n",
       "      <td>1.364413</td>\n",
       "      <td>0.01</td>\n",
       "      <td>0.09</td>\n",
       "      <td>0.210</td>\n",
       "      <td>0.6600</td>\n",
       "      <td>9.90</td>\n",
       "    </tr>\n",
       "    <tr>\n",
       "      <th>Role-Playing</th>\n",
       "      <td>370.0</td>\n",
       "      <td>0.521081</td>\n",
       "      <td>1.315937</td>\n",
       "      <td>0.01</td>\n",
       "      <td>0.06</td>\n",
       "      <td>0.140</td>\n",
       "      <td>0.4075</td>\n",
       "      <td>14.60</td>\n",
       "    </tr>\n",
       "    <tr>\n",
       "      <th>Racing</th>\n",
       "      <td>115.0</td>\n",
       "      <td>0.465217</td>\n",
       "      <td>0.888664</td>\n",
       "      <td>0.01</td>\n",
       "      <td>0.05</td>\n",
       "      <td>0.140</td>\n",
       "      <td>0.4200</td>\n",
       "      <td>7.09</td>\n",
       "    </tr>\n",
       "    <tr>\n",
       "      <th>Fighting</th>\n",
       "      <td>109.0</td>\n",
       "      <td>0.408165</td>\n",
       "      <td>0.910385</td>\n",
       "      <td>0.01</td>\n",
       "      <td>0.06</td>\n",
       "      <td>0.130</td>\n",
       "      <td>0.3600</td>\n",
       "      <td>7.55</td>\n",
       "    </tr>\n",
       "    <tr>\n",
       "      <th>Action</th>\n",
       "      <td>1041.0</td>\n",
       "      <td>0.428828</td>\n",
       "      <td>1.161497</td>\n",
       "      <td>0.01</td>\n",
       "      <td>0.03</td>\n",
       "      <td>0.120</td>\n",
       "      <td>0.4000</td>\n",
       "      <td>21.05</td>\n",
       "    </tr>\n",
       "    <tr>\n",
       "      <th>Misc</th>\n",
       "      <td>193.0</td>\n",
       "      <td>0.441865</td>\n",
       "      <td>1.078327</td>\n",
       "      <td>0.01</td>\n",
       "      <td>0.03</td>\n",
       "      <td>0.120</td>\n",
       "      <td>0.3300</td>\n",
       "      <td>9.18</td>\n",
       "    </tr>\n",
       "    <tr>\n",
       "      <th>Simulation</th>\n",
       "      <td>80.0</td>\n",
       "      <td>0.439000</td>\n",
       "      <td>1.244500</td>\n",
       "      <td>0.01</td>\n",
       "      <td>0.03</td>\n",
       "      <td>0.120</td>\n",
       "      <td>0.3275</td>\n",
       "      <td>9.17</td>\n",
       "    </tr>\n",
       "    <tr>\n",
       "      <th>Strategy</th>\n",
       "      <td>71.0</td>\n",
       "      <td>0.187887</td>\n",
       "      <td>0.271976</td>\n",
       "      <td>0.01</td>\n",
       "      <td>0.03</td>\n",
       "      <td>0.080</td>\n",
       "      <td>0.2500</td>\n",
       "      <td>1.67</td>\n",
       "    </tr>\n",
       "    <tr>\n",
       "      <th>Puzzle</th>\n",
       "      <td>28.0</td>\n",
       "      <td>0.174643</td>\n",
       "      <td>0.305438</td>\n",
       "      <td>0.01</td>\n",
       "      <td>0.02</td>\n",
       "      <td>0.045</td>\n",
       "      <td>0.1025</td>\n",
       "      <td>1.19</td>\n",
       "    </tr>\n",
       "    <tr>\n",
       "      <th>Adventure</th>\n",
       "      <td>302.0</td>\n",
       "      <td>0.097450</td>\n",
       "      <td>0.208237</td>\n",
       "      <td>0.01</td>\n",
       "      <td>0.02</td>\n",
       "      <td>0.030</td>\n",
       "      <td>0.0775</td>\n",
       "      <td>1.66</td>\n",
       "    </tr>\n",
       "  </tbody>\n",
       "</table>\n",
       "</div>"
      ],
      "text/plain": [
       "               count      mean       std   min   25%    50%     75%    max\n",
       "genre                                                                     \n",
       "Shooter        237.0  1.285865  2.245201  0.01  0.13  0.430  1.4700  14.63\n",
       "Sports         267.0  0.678165  1.137840  0.01  0.08  0.240  0.7450   8.58\n",
       "Platform        85.0  0.717647  1.364413  0.01  0.09  0.210  0.6600   9.90\n",
       "Role-Playing   370.0  0.521081  1.315937  0.01  0.06  0.140  0.4075  14.60\n",
       "Racing         115.0  0.465217  0.888664  0.01  0.05  0.140  0.4200   7.09\n",
       "Fighting       109.0  0.408165  0.910385  0.01  0.06  0.130  0.3600   7.55\n",
       "Action        1041.0  0.428828  1.161497  0.01  0.03  0.120  0.4000  21.05\n",
       "Misc           193.0  0.441865  1.078327  0.01  0.03  0.120  0.3300   9.18\n",
       "Simulation      80.0  0.439000  1.244500  0.01  0.03  0.120  0.3275   9.17\n",
       "Strategy        71.0  0.187887  0.271976  0.01  0.03  0.080  0.2500   1.67\n",
       "Puzzle          28.0  0.174643  0.305438  0.01  0.02  0.045  0.1025   1.19\n",
       "Adventure      302.0  0.097450  0.208237  0.01  0.02  0.030  0.0775   1.66"
      ]
     },
     "execution_count": 35,
     "metadata": {},
     "output_type": "execute_result"
    }
   ],
   "source": [
    "actual_data.groupby(\"genre\")[\"sales\"].median().sort_values().plot(\n",
    "    kind=\"barh\", figsize=(17, 5)\n",
    ")\n",
    "plt.title(\"Средние продажи по жанрам\", size=18)\n",
    "plt.xlabel(\"Продажи, млн. экземпляров\", size=12)\n",
    "plt.ylabel(\"Жанры\", size=12)\n",
    "plt.show()\n",
    "actual_data.groupby(\"genre\")[\"sales\"].describe().sort_values(\"50%\", ascending=False)"
   ]
  },
  {
   "cell_type": "markdown",
   "metadata": {},
   "source": [
    "Самый высокий средний уровень продаж по жанру Shooter. От него с заметным отставанием идут жанры Sports и Platform. Причем если в жанре Sports имеется больше игр, в жанре Platform их значительно меньше, однако могут встречаются игры с большими продажами.\n",
    "\n",
    "Далее после еще одного заметного снижения средних продаж идут жанры Role-Playing, Racing, Fighting, Simulation, Misc, Action. Здесь также можно отметить жанр Action, который является самым массовым, а также в этом жанре встречаются самые продаваемые игры - 21.05 миллионов проданных копий. Жанр Role-Playing также включает достаточно популярные игры с 14.6 миллионами продаж.\n",
    "\n",
    "Самые низкие продажи в жанре Adventure, также достаточно низкие в жанрах Puzzle и Strategy."
   ]
  },
  {
   "cell_type": "markdown",
   "metadata": {},
   "source": [
    "### Промежуточные выводы\n",
    "Проведен анализ по количеству выпускаемых игр по годам: \n",
    "- отмечено существенное снижение выпуска с 2008 года, с последующим постепенным ростом с 2013 года.\n",
    "- отмечено, что жизненный цикл платформы составляет порядка 7-15 лет, в среднем около 10 лет;\n",
    "\n",
    "Проведен анализ по продажам игр по годам:\n",
    "- отмечено снижение продаж за последние с 2008 года, кроме 2013 года, где был незначительный рост. За последние 3 года это может быть следствием того, что появились новые платформы и продажи игр продолжаются, особенно по 2016-му году;\n",
    "- определен наиболее актуальный период с 2013 по 2016 годы;\n",
    "- определены наиболее релевантные для анализа платформы - 3DS, PC, PS3, PS4, PSP, PSV, Wii, WiiU, X360, XOne;\n",
    "- изучена динамика изменения продаж по платформам за период, заметно сильное падений по платформам PS3, X360, PSP и Wii, что говорит о завершении жизненного цикла таких платформ, также низкий уровень продаж платформ WiiU в целом за весь период существования в отличие от 3DS;\n",
    "- проведен анализ глобальных продаж по актуальным платформам;\n",
    "- определены наиболее перспективные платформы по мере убывания: PS4, X360, 3DS, PC, WiiU;\n",
    "- в части 3DS также нужно ориентироваться на выход платформы Nintendo Switch, который запланирован на 2017 год;\n",
    "\n",
    "Проведен анализ влияния оценок пользователей и критиков на объем продаж:\n",
    "- оценки критиков более релевантны объему продаж, так что можно ориентироваться на их оценки;\n",
    "- отедльно можно отметить платформу PC, где оценки критиков заметно менее релевантны;\n",
    "- оценки пользователей менее релевантны, особенно для новых платформ, ориентироваться на эти оценки не стоит.\n",
    "\n",
    "Проведена оценка распределения продаж по игровым жанрам:\n",
    "- высокий уровень продаж по жанру Shooter. От него с заметным отставанием идут жанры Sports и Platform.\n",
    "- гораздо более низкие продажи показывают Role-Playing, Racing, Fighting, Simulation, Misc, Action. \n",
    "- самые низкие продажи в жанрах Adventure, также достаточно низкие в жанрах Puzzle и Strategy.\n",
    "\n",
    "Наиболее перспективными можно выделить игры на платформах PS4 и X360, особенно в жанрах Shooter, Sports и Platform."
   ]
  },
  {
   "cell_type": "markdown",
   "metadata": {},
   "source": [
    "## Портрет пользователя по регионам"
   ]
  },
  {
   "cell_type": "code",
   "execution_count": 36,
   "metadata": {
    "scrolled": false
   },
   "outputs": [
    {
     "data": {
      "image/png": "[encoded data removed]",
      "text/plain": [
       "<Figure size 1224x720 with 3 Axes>"
      ]
     },
     "metadata": {
      "needs_background": "light"
     },
     "output_type": "display_data"
    },
    {
     "data": {
      "text/html": [
       "<div>\n",
       "<style scoped>\n",
       "    .dataframe tbody tr th:only-of-type {\n",
       "        vertical-align: middle;\n",
       "    }\n",
       "\n",
       "    .dataframe tbody tr th {\n",
       "        vertical-align: top;\n",
       "    }\n",
       "\n",
       "    .dataframe thead th {\n",
       "        text-align: right;\n",
       "    }\n",
       "</style>\n",
       "<table border=\"1\" class=\"dataframe\">\n",
       "  <thead>\n",
       "    <tr style=\"text-align: right;\">\n",
       "      <th>platform</th>\n",
       "      <th>X360</th>\n",
       "      <th>PS4</th>\n",
       "      <th>PS3</th>\n",
       "      <th>XOne</th>\n",
       "      <th>3DS</th>\n",
       "    </tr>\n",
       "  </thead>\n",
       "  <tbody>\n",
       "    <tr>\n",
       "      <th>Северная Америка</th>\n",
       "      <td>24.0</td>\n",
       "      <td>18.0</td>\n",
       "      <td>17.0</td>\n",
       "      <td>16.0</td>\n",
       "      <td>9.0</td>\n",
       "    </tr>\n",
       "  </tbody>\n",
       "</table>\n",
       "</div>"
      ],
      "text/plain": [
       "platform          X360   PS4   PS3  XOne  3DS\n",
       "Северная Америка  24.0  18.0  17.0  16.0  9.0"
      ]
     },
     "metadata": {},
     "output_type": "display_data"
    },
    {
     "data": {
      "text/html": [
       "<div>\n",
       "<style scoped>\n",
       "    .dataframe tbody tr th:only-of-type {\n",
       "        vertical-align: middle;\n",
       "    }\n",
       "\n",
       "    .dataframe tbody tr th {\n",
       "        vertical-align: top;\n",
       "    }\n",
       "\n",
       "    .dataframe thead th {\n",
       "        text-align: right;\n",
       "    }\n",
       "</style>\n",
       "<table border=\"1\" class=\"dataframe\">\n",
       "  <thead>\n",
       "    <tr style=\"text-align: right;\">\n",
       "      <th>platform</th>\n",
       "      <th>PS4</th>\n",
       "      <th>PS3</th>\n",
       "      <th>X360</th>\n",
       "      <th>XOne</th>\n",
       "      <th>3DS</th>\n",
       "    </tr>\n",
       "  </thead>\n",
       "  <tbody>\n",
       "    <tr>\n",
       "      <th>Европа</th>\n",
       "      <td>28.0</td>\n",
       "      <td>21.0</td>\n",
       "      <td>15.0</td>\n",
       "      <td>10.0</td>\n",
       "      <td>8.0</td>\n",
       "    </tr>\n",
       "  </tbody>\n",
       "</table>\n",
       "</div>"
      ],
      "text/plain": [
       "platform   PS4   PS3  X360  XOne  3DS\n",
       "Европа    28.0  21.0  15.0  10.0  8.0"
      ]
     },
     "metadata": {},
     "output_type": "display_data"
    },
    {
     "data": {
      "text/html": [
       "<div>\n",
       "<style scoped>\n",
       "    .dataframe tbody tr th:only-of-type {\n",
       "        vertical-align: middle;\n",
       "    }\n",
       "\n",
       "    .dataframe tbody tr th {\n",
       "        vertical-align: top;\n",
       "    }\n",
       "\n",
       "    .dataframe thead th {\n",
       "        text-align: right;\n",
       "    }\n",
       "</style>\n",
       "<table border=\"1\" class=\"dataframe\">\n",
       "  <thead>\n",
       "    <tr style=\"text-align: right;\">\n",
       "      <th>platform</th>\n",
       "      <th>3DS</th>\n",
       "      <th>PS3</th>\n",
       "      <th>PSV</th>\n",
       "      <th>PS4</th>\n",
       "      <th>WiiU</th>\n",
       "    </tr>\n",
       "  </thead>\n",
       "  <tbody>\n",
       "    <tr>\n",
       "      <th>Япония</th>\n",
       "      <td>46.0</td>\n",
       "      <td>18.0</td>\n",
       "      <td>11.0</td>\n",
       "      <td>8.0</td>\n",
       "      <td>7.0</td>\n",
       "    </tr>\n",
       "  </tbody>\n",
       "</table>\n",
       "</div>"
      ],
      "text/plain": [
       "platform   3DS   PS3   PSV  PS4  WiiU\n",
       "Япония    46.0  18.0  11.0  8.0   7.0"
      ]
     },
     "metadata": {},
     "output_type": "display_data"
    }
   ],
   "source": [
    "def show_top_by(\n",
    "    df: pd.DataFrame, top: int, by: str, title: str, columns: dict\n",
    "):\n",
    "    fig = plt.figure(figsize=(17, 10))\n",
    "    plt.suptitle(title, size=18)\n",
    "    item_no = 1\n",
    "    for col, col_name in columns.items():\n",
    "        fig.add_subplot(len(columns), 1, item_no)\n",
    "        df.groupby(by)[col].sum().sort_values(ascending=False).head(top).sort_values().plot(\n",
    "            kind=\"barh\"\n",
    "        )\n",
    "        plt.title(col_name, size=16)\n",
    "        plt.ylabel(\"\")\n",
    "        plt.xlabel(\"\")\n",
    "        item_no += 1\n",
    "    plt.xlabel(\"Продажи, млн. экземпляров\")\n",
    "    plt.show()\n",
    "\n",
    "regions = {\"na_sales\": \"Северная Америка\",\"eu_sales\": \"Европа\", \"jp_sales\": \"Япония\"}\n",
    "\n",
    "show_top_by(actual_data, 5, \"platform\", \"Продажи по платформам в регионах\", regions)\n",
    "\n",
    "def show_top_percent(\n",
    "    df: pd.DataFrame, top: int, by: str, columns: dict\n",
    "):\n",
    "    \n",
    "    for col, col_name in columns.items():\n",
    "        display(round(\n",
    "            df.groupby(by)[col].sum()\n",
    "            .sort_values(ascending=False).head(top).rename(col_name).to_frame().T / \n",
    "            df[col].sum() * 100\n",
    "        ))\n",
    "\n",
    "show_top_percent(actual_data, 5, \"platform\", regions)\n"
   ]
  },
  {
   "cell_type": "markdown",
   "metadata": {},
   "source": [
    "1. По Северной Америке за рассматриваемый период наиболее популярной является платформа X360 c 24% от всех продаж, далее идут PS4 (18%), PS3(17%), XOne (16%), 3DS (9%)\n",
    "2. По Европе гораздо более популярны платформы PS4 (28%) и PS3 (21%), Чуть менее популярны X360 (15%) и XOne(10%), еще меньше 3DS (8%)\n",
    "3. В Японии рынок сильно сдвинут к другому производителю, почти половину рынка занимает 3DS (46%), далее идут PS3 (18%), PSV (11%), PS4 (8%) и WiiU (7%)."
   ]
  },
  {
   "cell_type": "code",
   "execution_count": 37,
   "metadata": {},
   "outputs": [
    {
     "data": {
      "image/png": "[encoded data removed]",
      "text/plain": [
       "<Figure size 1224x720 with 3 Axes>"
      ]
     },
     "metadata": {
      "needs_background": "light"
     },
     "output_type": "display_data"
    },
    {
     "data": {
      "text/html": [
       "<div>\n",
       "<style scoped>\n",
       "    .dataframe tbody tr th:only-of-type {\n",
       "        vertical-align: middle;\n",
       "    }\n",
       "\n",
       "    .dataframe tbody tr th {\n",
       "        vertical-align: top;\n",
       "    }\n",
       "\n",
       "    .dataframe thead th {\n",
       "        text-align: right;\n",
       "    }\n",
       "</style>\n",
       "<table border=\"1\" class=\"dataframe\">\n",
       "  <thead>\n",
       "    <tr style=\"text-align: right;\">\n",
       "      <th>genre</th>\n",
       "      <th>Action</th>\n",
       "      <th>Shooter</th>\n",
       "      <th>Sports</th>\n",
       "      <th>Role-Playing</th>\n",
       "      <th>Misc</th>\n",
       "    </tr>\n",
       "  </thead>\n",
       "  <tbody>\n",
       "    <tr>\n",
       "      <th>na_sales</th>\n",
       "      <td>30.0</td>\n",
       "      <td>24.0</td>\n",
       "      <td>14.0</td>\n",
       "      <td>11.0</td>\n",
       "      <td>6.0</td>\n",
       "    </tr>\n",
       "  </tbody>\n",
       "</table>\n",
       "</div>"
      ],
      "text/plain": [
       "genre     Action  Shooter  Sports  Role-Playing  Misc\n",
       "na_sales    30.0     24.0    14.0          11.0   6.0"
      ]
     },
     "metadata": {},
     "output_type": "display_data"
    },
    {
     "data": {
      "text/html": [
       "<div>\n",
       "<style scoped>\n",
       "    .dataframe tbody tr th:only-of-type {\n",
       "        vertical-align: middle;\n",
       "    }\n",
       "\n",
       "    .dataframe tbody tr th {\n",
       "        vertical-align: top;\n",
       "    }\n",
       "\n",
       "    .dataframe thead th {\n",
       "        text-align: right;\n",
       "    }\n",
       "</style>\n",
       "<table border=\"1\" class=\"dataframe\">\n",
       "  <thead>\n",
       "    <tr style=\"text-align: right;\">\n",
       "      <th>genre</th>\n",
       "      <th>Action</th>\n",
       "      <th>Shooter</th>\n",
       "      <th>Sports</th>\n",
       "      <th>Role-Playing</th>\n",
       "      <th>Racing</th>\n",
       "    </tr>\n",
       "  </thead>\n",
       "  <tbody>\n",
       "    <tr>\n",
       "      <th>eu_sales</th>\n",
       "      <td>32.0</td>\n",
       "      <td>22.0</td>\n",
       "      <td>14.0</td>\n",
       "      <td>10.0</td>\n",
       "      <td>5.0</td>\n",
       "    </tr>\n",
       "  </tbody>\n",
       "</table>\n",
       "</div>"
      ],
      "text/plain": [
       "genre     Action  Shooter  Sports  Role-Playing  Racing\n",
       "eu_sales    32.0     22.0    14.0          10.0     5.0"
      ]
     },
     "metadata": {},
     "output_type": "display_data"
    },
    {
     "data": {
      "text/html": [
       "<div>\n",
       "<style scoped>\n",
       "    .dataframe tbody tr th:only-of-type {\n",
       "        vertical-align: middle;\n",
       "    }\n",
       "\n",
       "    .dataframe tbody tr th {\n",
       "        vertical-align: top;\n",
       "    }\n",
       "\n",
       "    .dataframe thead th {\n",
       "        text-align: right;\n",
       "    }\n",
       "</style>\n",
       "<table border=\"1\" class=\"dataframe\">\n",
       "  <thead>\n",
       "    <tr style=\"text-align: right;\">\n",
       "      <th>genre</th>\n",
       "      <th>Role-Playing</th>\n",
       "      <th>Action</th>\n",
       "      <th>Misc</th>\n",
       "      <th>Simulation</th>\n",
       "      <th>Fighting</th>\n",
       "    </tr>\n",
       "  </thead>\n",
       "  <tbody>\n",
       "    <tr>\n",
       "      <th>jp_sales</th>\n",
       "      <td>34.0</td>\n",
       "      <td>27.0</td>\n",
       "      <td>7.0</td>\n",
       "      <td>5.0</td>\n",
       "      <td>5.0</td>\n",
       "    </tr>\n",
       "  </tbody>\n",
       "</table>\n",
       "</div>"
      ],
      "text/plain": [
       "genre     Role-Playing  Action  Misc  Simulation  Fighting\n",
       "jp_sales          34.0    27.0   7.0         5.0       5.0"
      ]
     },
     "metadata": {},
     "output_type": "display_data"
    }
   ],
   "source": [
    "show_top_by(actual_data, 5, \"genre\", \"Продажи по жанрам в регионах\", regions)\n",
    "\n",
    "display(\n",
    "    round(actual_data.groupby(\"genre\")[\"na_sales\"].sum()\n",
    "          .sort_values(ascending=False).head(5).to_frame().T / \n",
    "          actual_data.na_sales.sum() * 100)\n",
    ")\n",
    "display(\n",
    "    round(actual_data.groupby(\"genre\")[\"eu_sales\"].sum()\n",
    "          .sort_values(ascending=False).head(5).to_frame().T / \n",
    "          actual_data.eu_sales.sum() * 100)\n",
    ")\n",
    "display(\n",
    "    round(actual_data.groupby(\"genre\")[\"jp_sales\"].sum()\n",
    "          .sort_values(ascending=False).head(5).to_frame().T / \n",
    "          actual_data.jp_sales.sum() * 100)\n",
    ")"
   ]
  },
  {
   "cell_type": "markdown",
   "metadata": {},
   "source": [
    "1. Наиболее популярные жанры в Северной Америке - Action (30%), Shooter (24%), Sports (14%), Role-Playing (11%), Misc (6%)\n",
    "2. Наиболее популярные жанры в Европе - Action (32%), Shooter (22%), Sports (14%), Role-Playing (10%), Racing (5%)\n",
    "3. Наиболее популярные жанры в Японии - Role-Playing (34%), Action (27%), Misc (7%), Simulation (5%), Fighting (5%)"
   ]
  },
  {
   "cell_type": "code",
   "execution_count": 38,
   "metadata": {},
   "outputs": [
    {
     "data": {
      "image/png": "[encoded data removed]",
      "text/plain": [
       "<Figure size 1224x216 with 1 Axes>"
      ]
     },
     "metadata": {
      "needs_background": "light"
     },
     "output_type": "display_data"
    },
    {
     "data": {
      "image/png": "[encoded data removed]",
      "text/plain": [
       "<Figure size 1224x216 with 1 Axes>"
      ]
     },
     "metadata": {
      "needs_background": "light"
     },
     "output_type": "display_data"
    },
    {
     "data": {
      "image/png": "[encoded data removed]",
      "text/plain": [
       "<Figure size 1224x216 with 1 Axes>"
      ]
     },
     "metadata": {
      "needs_background": "light"
     },
     "output_type": "display_data"
    }
   ],
   "source": [
    "for col, col_name in regions.items():\n",
    "    actual_data.groupby(\"rating\")[col].mean().sort_values().plot(\n",
    "    kind=\"barh\", figsize=(17, 3)\n",
    "    )\n",
    "    plt.title(f\"Средние продажи по рейтингам ({col_name})\", size=16)\n",
    "    plt.ylabel(\"Рейтинг\", size=12)\n",
    "    plt.xlabel(\"Продажи, млн. экземпляров\")\n",
    "    plt.show()"
   ]
  },
  {
   "cell_type": "markdown",
   "metadata": {},
   "source": [
    "1. В Северной Америке и Европе наиболее продаваемые игры с рейтингом M, далее идут E и E10+, наиболее низкие продажи в рейтинге T;\n",
    "2. Сильно отличается Япония, где наиболее продаваемые игры имеют рейтинг E, далее идут категории T и M, самые низкие продажи в категории E10+"
   ]
  },
  {
   "cell_type": "markdown",
   "metadata": {},
   "source": [
    "### Промежуточные выводы\n",
    "\n",
    "Определен портрет пользователя для регионов (NA, EU, JP):\n",
    "1. Самые популярные платформы (топ-5):\n",
    "    - в Северной Америке - X360 (24%), PS4 (18%), PS3(17%), XOne (16%), 3DS (9%)\n",
    "    - в Европе - PS4 (28%), PS3 (21%), X360 (15%), XOne(10%), 3DS (8%)\n",
    "    - в Японии - 3DS (46%), PS3 (18%), PSV (11%), PS4 (8%) и WiiU (7%).\n",
    "2. Самые популярные жанры (топ-5):\n",
    "    - в Северной Америке - Action (30%), Shooter (24%), Sports (14%), Role-Playing (11%), Misc (6%)\n",
    "    - в Европе - Action (32%), Shooter (22%), Sports (14%), Role-Playing (10%), Racing (5%)\n",
    "    - в Японии - Role-Playing (34%), Action (27%), Misc (7%), Simulation (5%), Fighting (5%)\n",
    "3. Влияние рейтинга ESRB на продажи в отдельном регионе:\n",
    "    - в Северной Америке и Европе выше продажи у игры с рейтингом M, далее идут E и E10+, наиболее низкие продажи в рейтинге T;\n",
    "    - в Япони выше продажи у игр с рейтингом E, далее идут категории T и M, самые низкие продажи в категории E10+\n",
    "\n",
    "Рынок Северной америки сдвинут больше к платформам X360 и XOne, доля которых составляет порядка 40%, рынок PS4 и PS3 чуть ниже - 35%, платформа 3DS - 9% рынка. В Европе большую часть рынка занимают платформы PS4 и PS3 в сумме порядка 49%, платформы X360 и XOne - 25%, платформа 3DS - 8%. Очень сильно отличается рынок Японии, где основную массу занимает платформа 3DS - 46%, платформы PS3 и PS4 занимают в сумме 26%, также здесь представлена платформа PSV - 11% рынка и WiiU - 7% рынка.\n",
    "\n",
    "По жанрам рынки Северной америки и Европы похожи, кроме последнего пункта из ТОП5, где для рынок NA представлен жанром Misc, а рынок EU - Racing. Рынок Японии также сильно отличается от первых двух, где на первую строчку выходит жанр Role-Playing, также в ТОП5 появляются жанры Simulation и Fighting.\n",
    "\n",
    "По рейтингу ESRB сильно выделяется только рынок Японии, рынки Северной Америки и Европы близки по средним продажам в разрезе рейтингов."
   ]
  },
  {
   "cell_type": "markdown",
   "metadata": {},
   "source": [
    "## Проверка гипотез"
   ]
  },
  {
   "cell_type": "markdown",
   "metadata": {},
   "source": [
    "### Средние пользовательские рейтинги платформ Xbox One и PC одинаковые"
   ]
  },
  {
   "cell_type": "markdown",
   "metadata": {},
   "source": [
    "Необходимо проверить гипотезу, что пользовательские рейтинги Xbox One и PC одинаковые. Это гипотеза равенства двух независимых генеральных совокупностей, так как это различные платформы, могут быть достаточно разные игры, а также различные пользовательские привычки и предпочтения. Оценим количество уникальных значений в выборке:"
   ]
  },
  {
   "cell_type": "code",
   "execution_count": 39,
   "metadata": {},
   "outputs": [
    {
     "name": "stdout",
     "output_type": "stream",
     "text": [
      "Количество уникальных значений в выборке: 51\n",
      "Количество уникальных значений в выборке: 61\n"
     ]
    }
   ],
   "source": [
    "print(\n",
    "    \"Количество уникальных значений в выборке:\",\n",
    "    len(actual_data.query(\"platform == 'XOne'\").user_score.dropna().unique())\n",
    ")\n",
    "print(\n",
    "    \"Количество уникальных значений в выборке:\",\n",
    "    len(actual_data.query(\"platform == 'PC'\").user_score.dropna().unique())\n",
    ")"
   ]
  },
  {
   "cell_type": "markdown",
   "metadata": {},
   "source": [
    "Имеется достаточно значений (более 30), чтобы считать нормальным распределение выборочных средних в соответствии с центральной предельной теоремой. Соответственно выбираем t-тест для независимых совокупностей с равной дисперсией и альтернативной двусторонней гипотезой, по результатам оценим p-значение. Гипотезы для проверки:\n",
    "\n",
    "**Нулевая гипотеза H0: μ1 = μ2** Истинная средняя генеральной совокупности пользовательских рейтингов платфоры Xbox One равна истинной средней генеральной совокупности пользовательских рейтингов платформы PC.\n",
    "\n",
    "**Альтернативная гипотеза H1: μ1 ≠ μ2** Истинная средняя генеральной совокупности пользовательских рейтингов платфоры Xbox One не равна истинной средней генеральной совокупности пользовательских рейтингов платформы PC.\n",
    "\n",
    "Установим самое расспространенное пороговое значение **α = 0.05**"
   ]
  },
  {
   "cell_type": "code",
   "execution_count": 40,
   "metadata": {},
   "outputs": [
    {
     "name": "stdout",
     "output_type": "stream",
     "text": [
      "p-значение: 0.63\n",
      "Не получилось отвергнуть нулевую гипотезу\n"
     ]
    }
   ],
   "source": [
    "alpha = 0.05\n",
    "result1 = st.ttest_ind(actual_data.query(\"platform == 'XOne'\").user_score.dropna(), actual_data.query(\"platform == 'PC'\").user_score.dropna())\n",
    "print(f\"p-значение: {result1.pvalue:.2f}\")\n",
    "if (result1.pvalue < alpha):\n",
    "    print('Отвергаем нулевую гипотезу')\n",
    "else:\n",
    "    print('Не получилось отвергнуть нулевую гипотезу') "
   ]
  },
  {
   "cell_type": "markdown",
   "metadata": {},
   "source": [
    "Значение p-value составляет 0.63, что существенно выше порогового значения, соответственно нулевая гипотеза подтверждается.\n",
    "\n",
    "**Вывод по гипотезе 1:**\n",
    "    По представленной выборке подтерждается нулевая гипотеза, что истинная средняя генеральной совокупности пользовательских рейтингов платформы Xbox One равна средней генеральнойсовокупности пользовательских рейтингов платформы PC. Таким образом **нет оснований утверждать, что средние пользовательские рейтинги платформ Xbox One и PC значимо различаются**."
   ]
  },
  {
   "cell_type": "markdown",
   "metadata": {},
   "source": [
    "### Средние пользовательские рейтинги жанров Action и Sports разные"
   ]
  },
  {
   "cell_type": "markdown",
   "metadata": {},
   "source": [
    "Необходимо проверить гипотезу, что пользовательские рейтинги жанров Action и Sports разные. Это также гипотеза равенства двух независимых генеральных совокупностей, так как это различные жанры, игры в жанрах точно разные, а также различные пользовательские привычки и предпочтения. Оценим количество уникальных значений в выборке:"
   ]
  },
  {
   "cell_type": "code",
   "execution_count": 41,
   "metadata": {},
   "outputs": [
    {
     "name": "stdout",
     "output_type": "stream",
     "text": [
      "Количество уникальных значений в выборке: 66\n",
      "Количество уникальных значений в выборке: 68\n"
     ]
    }
   ],
   "source": [
    "print(\n",
    "    \"Количество уникальных значений в выборке:\",\n",
    "    len(actual_data.query(\"genre == 'Action'\").user_score.dropna().unique())\n",
    ")\n",
    "print(\n",
    "    \"Количество уникальных значений в выборке:\",\n",
    "    len(actual_data.query(\"genre == 'Sports'\").user_score.dropna().unique())\n",
    ")"
   ]
  },
  {
   "cell_type": "markdown",
   "metadata": {},
   "source": [
    "Здесь также можно считать нормальным распределение выборочных средних в соответствии с центральной предельной теоремой. Соответственно выбираем аналогичный t-тест для независимых совокупностей с равной дисперсией и альтернативной двусторонней гипотезой, по результатам оценим p-значение. Гипотезы для проверки:\n",
    "\n",
    "**Нулевая гипотеза H0: μ1 = μ2** Истинная средняя генеральной совокупности пользовательских рейтингов жанра Action равна истинной средней генеральной совокупности пользовательских рейтингов жанра Sports. В случае подтерждения нулевой гипотезы мы будем вынуждены отказаться от выдвинутой гипотезы, что средние пользовательские рейтинги жанров Action и Sports разные, то есть идем от обратного.\n",
    "\n",
    "**Альтернативная гипотеза H1: μ1 ≠ μ2** Истинная средняя генеральной совокупности пользовательских рейтингов жанра Action равна истинной средней генеральной совокупности пользовательских рейтингов жанра Sports. Если по результатам теста откажемся от нулевой гипотезы, то это подтвердит первоначально выбранную гипотезу.\n",
    "\n",
    "Оставим пороговое значение **α = 0.05** без изменений"
   ]
  },
  {
   "cell_type": "code",
   "execution_count": 42,
   "metadata": {},
   "outputs": [
    {
     "name": "stdout",
     "output_type": "stream",
     "text": [
      "p-значение: 0.000000000000000000000000015\n",
      "Отвергаем нулевую гипотезу\n"
     ]
    }
   ],
   "source": [
    "result2 = st.ttest_ind(actual_data.query(\"genre == 'Action'\").user_score.dropna(), actual_data.query(\"genre == 'Sports'\").user_score.dropna())\n",
    "print(f\"p-значение: {result2.pvalue:.27f}\")\n",
    "if (result2.pvalue < alpha):\n",
    "    print('Отвергаем нулевую гипотезу')\n",
    "else:\n",
    "    print('Не получилось отвергнуть нулевую гипотезу') "
   ]
  },
  {
   "cell_type": "markdown",
   "metadata": {},
   "source": [
    "Значение p-value очень низкое, существенно ниже порогового значения, соответственно нулевая гипотеза опровергается.\n",
    "\n",
    "**Вывод по гипотезе 2:**\n",
    "    По представленной выборке отвергается нулевая гипотеза, что истинная средняя генеральной совокупности пользовательских рейтингов (средние пользовательские рейтинги) жанра Action равна средней генеральнойсовокупности пользовательских рейтингов жанра Sports в пользу альтернативной. Соответственно **есть основания утверждать, что средние пользовательские рейтинги жанров Action и Sports отличаются**."
   ]
  },
  {
   "cell_type": "markdown",
   "metadata": {},
   "source": [
    "### Промежуточные выводы\n",
    "\n",
    "Проведена проверка двух гипотез в соответствии со следующими результатами:\n",
    "1. Средние пользовательские рейтинги платформ Xbox One и PC одинаковые - **по представленной выборке нет основания утверждать, что пользовательские рейтинги значительно отличаются**;\n",
    "2. Средние пользовательские рейтинги жанров Action (англ. «действие», экшен-игры) и Sports (англ. «спортивные соревнования») разные - **по представленной выборке имеются основания утверждать, что пользовательские рейтинги отличаются**."
   ]
  },
  {
   "cell_type": "markdown",
   "metadata": {},
   "source": [
    "## Общий вывод"
   ]
  },
  {
   "cell_type": "markdown",
   "metadata": {},
   "source": [
    "\n",
    "В рамках исследования данных о продажах игр для подготовки рекомендаций для разработки стратегии на 2017 год для интернет-магазина «Стримчик» проведены следующие работы:\n",
    "\n",
    "**Получены исходные данные выборки:**\n",
    "1. Размер выборки составляет - 16715 строк;\n",
    "2. Имеются пропуски значений по 6 полям: Critic_Score - 8578, Rating - 6766, User_Score - 6701, Year_of_Release - 269, Genre - 2, Name - 2.\n",
    "\n",
    "**Проведена подготовка данных:**\n",
    "1. Названия столбцов приведены к нижнему регистру для удобства дальнейшей работы. Преобразованы типы данных параметра year_of_release к целочисленному, user_score преобразован из строкового в числовой для возможности дальнейшей работы с ним (значение `tbd` по этому параметру интерпретировано как to be determined - \"будет определено\", вследствие чего значения исключены из выборки);\n",
    "3. Найдено пропущенное значение в наименовании и жанре, значения продаж сохранены, значение жанра решено не заполнять. Обработаны неявные дубликаты по имени и жанру игры, значения в дубликатах просуммированы чтобы не потерять значения по продажам, дублирующиеся значения исключены из выборки;\n",
    "4. Пропуски по годам заполнены аналогичными значениями из других платформ, а в случае их отсутствия - исключены из выборки. Таких пропусков немного и они не должны внести существенные изменения в выборку;\n",
    "5. Пропуски по оценкам и рейтинге не заполнялись в виду высокой субъективной составляющей, которую невозможно рассчитать на имеющихся данных. Причину пропусков точно установить невозможно, имеются предположения, что не по всем параметрам вообще имеются значения в исходных данных, в частности, таких как оценки и рейтинги, которые возможно не для всех игр проводились. Также не исключается вероятность человеческого фактора и ошибок при выгрузке или передаче данных;\n",
    "6. Рассчитаны суммарные продажи по всем регионам, которые записаны в столбец `sales`.\n",
    "\n",
    "**Проведен исследовательский анализ**\n",
    "1. Количество выпускаемых игр по годам: \n",
    "    - отмечено существенное снижение выпуска с 2008 года, с последующим постепенным ростом с 2013 года.\n",
    "    - отмечено, что жизненный цикл платформы составляет порядка 7-15 лет, в среднем около 10 лет;\n",
    "\n",
    "2. Продажи игр по годам:\n",
    "    - отмечено снижение продаж за последние с 2008 года, кроме 2013 года, где был незначительный рост. За последние 3 года это может быть следствием того, что появились новые платформы и продажи игр продолжаются, особенно по 2016-му году;\n",
    "    - определен наиболее актуальный период с 2013 по 2016 годы;\n",
    "    - определены наиболее релевантные для анализа платформы - 3DS, PC, PS3, PS4, PSP, PSV, Wii, WiiU, X360, XOne;\n",
    "    - изучена динамика изменения продаж по платформам за период, заметно сильное падений по платформам PS3, X360, PSP и Wii, что говорит о завершении жизненного цикла таких платформ, также низкий уровень продаж платформ WiiU в целом за весь период существования в отличие от 3DS;\n",
    "    - проведен анализ глобальных продаж по актуальным платформам;\n",
    "    - определены наиболее перспективные платформы по мере убывания: PS4, X360, 3DS, PC, WiiU;\n",
    "    - в части 3DS, WiiU также нужно ориентироваться на выход платформы Nintendo Switch, который запланирован на 2017 год;\n",
    "\n",
    "4. Влияние оценок пользователей и критиков на объем продаж:\n",
    "    - оценки критиков более релевантны объему продаж, так что можно ориентироваться на их оценки;\n",
    "    - отдельно можно отметить платформу PC, где оценки критиков заметно менее релевантны;\n",
    "    - оценки пользователей менее релевантны, особенно для новых платформ, ориентироваться на эти оценки не стоит.\n",
    "\n",
    "5. Распределение продаж по игровым жанрам:\n",
    "    - высокий уровень продаж по жанру Shooter. От него с заметным отставанием идут жанры Sports и Platform.\n",
    "    - гораздо более низкие продажи показывают Role-Playing, Racing, Fighting, Simulation, Misc, Action. \n",
    "    - самые низкие продажи в жанрах Adventure, также достаточно низкие в жанрах Puzzle и Strategy.\n",
    "\n",
    "**Определен портрет пользователя по регионам**\n",
    "\n",
    "1. Самые популярные платформы (топ-5):\n",
    "    - в Северной Америке - X360 (24%), PS4 (18%), PS3(17%), XOne (16%), 3DS (9%)\n",
    "    - в Европе - PS4 (28%), PS3 (21%), X360 (15%), XOne(10%), 3DS (8%)\n",
    "    - в Японии - 3DS (46%), PS3 (18%), PSV (11%), PS4 (8%) и WiiU (7%).\n",
    "2. Самые популярные жанры (топ-5):\n",
    "    - в Северной Америке - Action (30%), Shooter (24%), Sports (14%), Role-Playing (11%), Misc (6%)\n",
    "    - в Европе - Action (32%), Shooter (22%), Sports (14%), Role-Playing (10%), Racing (5%)\n",
    "    - в Японии - Role-Playing (34%), Action (27%), Misc (7%), Simulation (5%), Fighting (5%)\n",
    "3. Влияние рейтинга ESRB на продажи в отдельном регионе:\n",
    "    - в Северной Америке и Европе выше продажи у игры с рейтингом M, далее идут E и E10+, наиболее низкие продажи в рейтинге T;\n",
    "    - в Япони выше продажи у игр с рейтингом E, далее идут категории T и M, самые низкие продажи в категории E10+\n",
    "\n",
    "**Проведена проверка двух выдвинутых гипотез**\n",
    "1. Средние пользовательские рейтинги платформ Xbox One и PC одинаковые - **по представленной выборке нет основания утверждать, что пользовательские рейтинги значительно отличаются**;\n",
    "2. Средние пользовательские рейтинги жанров Action (англ. «действие», экшен-игры) и Sports (англ. «спортивные соревнования») разные - **по представленной выборке имеются основания утверждать, что пользовательские рейтинги отличаются**\n",
    "\n",
    "**По результатам проведенного анализа можно сделать следующие выводы:**\n",
    "1. Платформы PS3 и X360 заканчивают свой жизненный цикл и будут не актуальны в 2017 году, необходимо делать ставку на свежие платформы PS4 и XOne, также в 2017 году ожидается выход платформы Nintendo Switch, соответственно ухудшаются перспективы платформы 3DS и WiiU, так как производители будут переключаться на разработку игр под новую платформу.\n",
    "2. Наиболее перспективными можно определить следующие платформы: \n",
    "    - для рынка Северной Америки - X360 и PS4, с небольшим приоритетом платформы X360. Платформа 3DS по остаточному принципу;\n",
    "    - для рынка Европы - PS4 и X360, с бóльшим приоритетом PS4. Платформа 3DS также по остаточному принципу;\n",
    "    - для рынка Японии - 3DS и другие мобильные платформы (PSV, WiiU), PS4. Для данного рынка стоит обратить особое внимание на выход платформы Nintendo Switch.\n",
    "3. Необходимо больше уделять внимание следующим жанрам: \n",
    "    - Shooter, Sports, Role-Playing и Misc по убыванию приоритета;\n",
    "    - для рынка Европы дополнительно стоит обратить внимание на Racing\n",
    "    - для рынка Японии первостепенный приоритет у Role-Playing, также стоит обращать внимания на Simulation и Fighting.\n",
    "4. Не стоит обращать внимание на рейтинги пользователей, рейтинги критиков гораздо лучше коррелируют с объемами продажи, однако не всегда высокие рейтинги залог высоких продаж.\n",
    "5. Стоит обращать внимание на различия продаж в Японии по рейтингу ESRB:\n",
    "    - в Северной Америке и Европе продажи игр выше с рейтингами M или E, далее идут E10+ и T \n",
    "    - для Японии продажи выше для рейтингов E и T, только дальше идут M, а самые низкие E10+."
   ]
  }
 ],
 "metadata": {
  "ExecuteTimeLog": [
   {
    "duration": 1160,
    "start_time": "2024-03-29T15:55:07.614Z"
   },
   {
    "duration": 99,
    "start_time": "2024-03-29T15:55:08.776Z"
   },
   {
    "duration": 22,
    "start_time": "2024-03-29T15:55:08.877Z"
   },
   {
    "duration": 201,
    "start_time": "2024-03-29T15:55:08.901Z"
   },
   {
    "duration": 5,
    "start_time": "2024-03-29T15:55:09.104Z"
   },
   {
    "duration": 26,
    "start_time": "2024-03-29T15:55:09.110Z"
   },
   {
    "duration": 73,
    "start_time": "2024-03-29T15:55:09.137Z"
   },
   {
    "duration": 4,
    "start_time": "2024-03-29T15:55:09.211Z"
   },
   {
    "duration": 25,
    "start_time": "2024-03-29T15:55:09.217Z"
   },
   {
    "duration": 21,
    "start_time": "2024-03-29T15:55:09.245Z"
   },
   {
    "duration": 33,
    "start_time": "2024-03-29T15:55:09.268Z"
   },
   {
    "duration": 5,
    "start_time": "2024-03-29T15:55:09.302Z"
   },
   {
    "duration": 10,
    "start_time": "2024-03-29T15:55:09.309Z"
   },
   {
    "duration": 33,
    "start_time": "2024-03-29T15:55:09.320Z"
   },
   {
    "duration": 44,
    "start_time": "2024-03-29T15:55:09.355Z"
   },
   {
    "duration": 24,
    "start_time": "2024-03-29T15:55:09.401Z"
   },
   {
    "duration": 21,
    "start_time": "2024-03-29T15:55:09.426Z"
   },
   {
    "duration": 71,
    "start_time": "2024-03-29T15:55:09.448Z"
   },
   {
    "duration": 920,
    "start_time": "2024-03-29T15:55:09.521Z"
   },
   {
    "duration": 170,
    "start_time": "2024-03-29T15:55:10.443Z"
   },
   {
    "duration": 72,
    "start_time": "2024-03-29T15:55:10.616Z"
   },
   {
    "duration": 10,
    "start_time": "2024-03-29T15:55:10.690Z"
   },
   {
    "duration": 817,
    "start_time": "2024-03-29T15:55:10.702Z"
   },
   {
    "duration": 1113,
    "start_time": "2024-03-29T15:55:11.520Z"
   },
   {
    "duration": 684,
    "start_time": "2024-03-29T15:55:12.634Z"
   },
   {
    "duration": 418,
    "start_time": "2024-03-29T15:55:13.320Z"
   },
   {
    "duration": 305,
    "start_time": "2024-03-29T15:55:13.740Z"
   },
   {
    "duration": 11,
    "start_time": "2024-03-29T15:55:14.049Z"
   },
   {
    "duration": 526,
    "start_time": "2024-03-29T15:55:14.062Z"
   },
   {
    "duration": 477,
    "start_time": "2024-03-29T15:55:14.590Z"
   },
   {
    "duration": 482,
    "start_time": "2024-03-29T15:55:15.069Z"
   },
   {
    "duration": 535,
    "start_time": "2024-03-29T15:55:15.553Z"
   },
   {
    "duration": 463,
    "start_time": "2024-03-29T15:55:16.090Z"
   },
   {
    "duration": 472,
    "start_time": "2024-03-29T15:55:16.554Z"
   },
   {
    "duration": 224,
    "start_time": "2024-03-29T15:55:17.027Z"
   },
   {
    "duration": 393,
    "start_time": "2024-03-29T15:55:17.253Z"
   },
   {
    "duration": 413,
    "start_time": "2024-03-29T15:55:17.648Z"
   },
   {
    "duration": 521,
    "start_time": "2024-03-29T15:55:18.063Z"
   },
   {
    "duration": 10,
    "start_time": "2024-03-29T15:55:18.586Z"
   },
   {
    "duration": 23,
    "start_time": "2024-03-29T15:55:18.598Z"
   },
   {
    "duration": 27,
    "start_time": "2024-03-29T15:55:18.623Z"
   },
   {
    "duration": 34,
    "start_time": "2024-03-29T15:55:18.652Z"
   },
   {
    "duration": 1299,
    "start_time": "2024-03-30T06:09:27.157Z"
   },
   {
    "duration": 199,
    "start_time": "2024-03-30T06:09:28.458Z"
   },
   {
    "duration": 23,
    "start_time": "2024-03-30T06:09:28.659Z"
   },
   {
    "duration": 198,
    "start_time": "2024-03-30T06:09:28.684Z"
   },
   {
    "duration": 5,
    "start_time": "2024-03-30T06:09:28.884Z"
   },
   {
    "duration": 27,
    "start_time": "2024-03-30T06:09:28.891Z"
   },
   {
    "duration": 72,
    "start_time": "2024-03-30T06:09:28.920Z"
   },
   {
    "duration": 4,
    "start_time": "2024-03-30T06:09:28.994Z"
   },
   {
    "duration": 19,
    "start_time": "2024-03-30T06:09:28.999Z"
   },
   {
    "duration": 23,
    "start_time": "2024-03-30T06:09:29.022Z"
   },
   {
    "duration": 35,
    "start_time": "2024-03-30T06:09:29.046Z"
   },
   {
    "duration": 5,
    "start_time": "2024-03-30T06:09:29.083Z"
   },
   {
    "duration": 6,
    "start_time": "2024-03-30T06:09:29.090Z"
   },
   {
    "duration": 41,
    "start_time": "2024-03-30T06:09:29.097Z"
   },
   {
    "duration": 39,
    "start_time": "2024-03-30T06:09:29.140Z"
   },
   {
    "duration": 24,
    "start_time": "2024-03-30T06:09:29.181Z"
   },
   {
    "duration": 21,
    "start_time": "2024-03-30T06:09:29.206Z"
   },
   {
    "duration": 83,
    "start_time": "2024-03-30T06:09:29.228Z"
   },
   {
    "duration": 1033,
    "start_time": "2024-03-30T06:09:29.313Z"
   },
   {
    "duration": 175,
    "start_time": "2024-03-30T06:09:30.348Z"
   },
   {
    "duration": 139,
    "start_time": "2024-03-30T06:09:30.524Z"
   },
   {
    "duration": 60,
    "start_time": "2024-03-30T06:09:30.665Z"
   },
   {
    "duration": 826,
    "start_time": "2024-03-30T06:09:30.726Z"
   },
   {
    "duration": 740,
    "start_time": "2024-03-30T06:09:31.586Z"
   },
   {
    "duration": 385,
    "start_time": "2024-03-30T06:09:32.327Z"
   },
   {
    "duration": 258,
    "start_time": "2024-03-30T06:09:32.714Z"
   },
   {
    "duration": 288,
    "start_time": "2024-03-30T06:09:32.974Z"
   },
   {
    "duration": 10,
    "start_time": "2024-03-30T06:09:33.271Z"
   },
   {
    "duration": 498,
    "start_time": "2024-03-30T06:09:33.283Z"
   },
   {
    "duration": 462,
    "start_time": "2024-03-30T06:09:33.783Z"
   },
   {
    "duration": 470,
    "start_time": "2024-03-30T06:09:34.246Z"
   },
   {
    "duration": 544,
    "start_time": "2024-03-30T06:09:34.717Z"
   },
   {
    "duration": 491,
    "start_time": "2024-03-30T06:09:35.262Z"
   },
   {
    "duration": 487,
    "start_time": "2024-03-30T06:09:35.755Z"
   },
   {
    "duration": 193,
    "start_time": "2024-03-30T06:09:36.244Z"
   },
   {
    "duration": 390,
    "start_time": "2024-03-30T06:09:36.439Z"
   },
   {
    "duration": 421,
    "start_time": "2024-03-30T06:09:36.830Z"
   },
   {
    "duration": 539,
    "start_time": "2024-03-30T06:09:37.252Z"
   },
   {
    "duration": 10,
    "start_time": "2024-03-30T06:09:37.793Z"
   },
   {
    "duration": 17,
    "start_time": "2024-03-30T06:09:37.805Z"
   },
   {
    "duration": 23,
    "start_time": "2024-03-30T06:09:37.824Z"
   },
   {
    "duration": 12,
    "start_time": "2024-03-30T06:09:37.849Z"
   },
   {
    "duration": 314,
    "start_time": "2024-03-30T06:26:40.390Z"
   },
   {
    "duration": 69,
    "start_time": "2024-03-30T08:13:50.810Z"
   },
   {
    "duration": 54,
    "start_time": "2024-03-30T08:13:52.971Z"
   },
   {
    "duration": 1348,
    "start_time": "2024-03-30T08:34:54.021Z"
   },
   {
    "duration": 116,
    "start_time": "2024-03-30T08:34:55.371Z"
   },
   {
    "duration": 19,
    "start_time": "2024-03-30T08:34:55.488Z"
   },
   {
    "duration": 188,
    "start_time": "2024-03-30T08:34:55.509Z"
   },
   {
    "duration": 6,
    "start_time": "2024-03-30T08:34:55.698Z"
   },
   {
    "duration": 40,
    "start_time": "2024-03-30T08:34:55.714Z"
   },
   {
    "duration": 74,
    "start_time": "2024-03-30T08:34:55.756Z"
   },
   {
    "duration": 17,
    "start_time": "2024-03-30T08:34:55.832Z"
   },
   {
    "duration": 18,
    "start_time": "2024-03-30T08:34:55.850Z"
   },
   {
    "duration": 30,
    "start_time": "2024-03-30T08:34:55.871Z"
   },
   {
    "duration": 18,
    "start_time": "2024-03-30T08:34:55.903Z"
   },
   {
    "duration": 27,
    "start_time": "2024-03-30T08:34:55.923Z"
   },
   {
    "duration": 39,
    "start_time": "2024-03-30T08:34:55.952Z"
   },
   {
    "duration": 17,
    "start_time": "2024-03-30T08:34:55.993Z"
   },
   {
    "duration": 41,
    "start_time": "2024-03-30T08:34:56.011Z"
   },
   {
    "duration": 20,
    "start_time": "2024-03-30T08:34:56.054Z"
   },
   {
    "duration": 51,
    "start_time": "2024-03-30T08:34:56.075Z"
   },
   {
    "duration": 76,
    "start_time": "2024-03-30T08:35:13.639Z"
   },
   {
    "duration": 784,
    "start_time": "2024-03-30T08:35:26.799Z"
   },
   {
    "duration": 498,
    "start_time": "2024-03-30T08:36:55.216Z"
   },
   {
    "duration": 454,
    "start_time": "2024-03-30T08:37:30.685Z"
   },
   {
    "duration": 1174,
    "start_time": "2024-03-30T08:37:55.692Z"
   },
   {
    "duration": 141,
    "start_time": "2024-03-30T08:37:56.869Z"
   },
   {
    "duration": 21,
    "start_time": "2024-03-30T08:37:57.012Z"
   },
   {
    "duration": 201,
    "start_time": "2024-03-30T08:37:57.034Z"
   },
   {
    "duration": 5,
    "start_time": "2024-03-30T08:37:57.238Z"
   },
   {
    "duration": 26,
    "start_time": "2024-03-30T08:37:57.246Z"
   },
   {
    "duration": 76,
    "start_time": "2024-03-30T08:37:57.274Z"
   },
   {
    "duration": 18,
    "start_time": "2024-03-30T08:37:57.352Z"
   },
   {
    "duration": 45,
    "start_time": "2024-03-30T08:37:57.372Z"
   },
   {
    "duration": 31,
    "start_time": "2024-03-30T08:37:57.419Z"
   },
   {
    "duration": 7,
    "start_time": "2024-03-30T08:37:57.453Z"
   },
   {
    "duration": 6,
    "start_time": "2024-03-30T08:37:57.461Z"
   },
   {
    "duration": 56,
    "start_time": "2024-03-30T08:37:57.468Z"
   },
   {
    "duration": 17,
    "start_time": "2024-03-30T08:37:57.526Z"
   },
   {
    "duration": 23,
    "start_time": "2024-03-30T08:37:57.544Z"
   },
   {
    "duration": 21,
    "start_time": "2024-03-30T08:37:57.568Z"
   },
   {
    "duration": 52,
    "start_time": "2024-03-30T08:37:57.614Z"
   },
   {
    "duration": 786,
    "start_time": "2024-03-30T08:38:31.215Z"
   },
   {
    "duration": 10,
    "start_time": "2024-03-30T08:42:25.455Z"
   },
   {
    "duration": 162,
    "start_time": "2024-03-30T08:42:29.843Z"
   },
   {
    "duration": 51,
    "start_time": "2024-03-30T08:42:33.198Z"
   },
   {
    "duration": 10,
    "start_time": "2024-03-30T08:44:23.615Z"
   },
   {
    "duration": 746,
    "start_time": "2024-03-30T08:46:49.661Z"
   },
   {
    "duration": 770,
    "start_time": "2024-03-30T08:47:03.735Z"
   },
   {
    "duration": 380,
    "start_time": "2024-03-30T08:47:16.191Z"
   },
   {
    "duration": 253,
    "start_time": "2024-03-30T08:47:20.307Z"
   },
   {
    "duration": 254,
    "start_time": "2024-03-30T08:48:02.876Z"
   },
   {
    "duration": 10,
    "start_time": "2024-03-30T08:56:15.837Z"
   },
   {
    "duration": 424,
    "start_time": "2024-03-30T08:56:27.247Z"
   },
   {
    "duration": 256,
    "start_time": "2024-03-30T09:02:09.284Z"
   },
   {
    "duration": 267,
    "start_time": "2024-03-30T09:02:19.390Z"
   },
   {
    "duration": 269,
    "start_time": "2024-03-30T09:02:27.899Z"
   },
   {
    "duration": 265,
    "start_time": "2024-03-30T09:02:41.576Z"
   },
   {
    "duration": 362,
    "start_time": "2024-03-30T09:05:09.614Z"
   },
   {
    "duration": 302,
    "start_time": "2024-03-30T09:05:12.844Z"
   },
   {
    "duration": 284,
    "start_time": "2024-03-30T09:05:15.552Z"
   },
   {
    "duration": 300,
    "start_time": "2024-03-30T09:05:20.567Z"
   },
   {
    "duration": 287,
    "start_time": "2024-03-30T09:05:23.339Z"
   },
   {
    "duration": 199,
    "start_time": "2024-03-30T09:05:47.903Z"
   },
   {
    "duration": 194,
    "start_time": "2024-03-30T09:09:09.388Z"
   },
   {
    "duration": 179,
    "start_time": "2024-03-30T09:09:22.577Z"
   },
   {
    "duration": 176,
    "start_time": "2024-03-30T09:09:54.478Z"
   },
   {
    "duration": 184,
    "start_time": "2024-03-30T09:10:51.188Z"
   },
   {
    "duration": 175,
    "start_time": "2024-03-30T09:29:35.830Z"
   },
   {
    "duration": 291,
    "start_time": "2024-03-30T09:30:17.167Z"
   },
   {
    "duration": 193,
    "start_time": "2024-03-30T09:30:25.347Z"
   },
   {
    "duration": 189,
    "start_time": "2024-03-30T09:33:12.103Z"
   },
   {
    "duration": 187,
    "start_time": "2024-03-30T09:33:20.239Z"
   },
   {
    "duration": 197,
    "start_time": "2024-03-30T09:34:09.912Z"
   },
   {
    "duration": 189,
    "start_time": "2024-03-30T09:34:20.856Z"
   },
   {
    "duration": 183,
    "start_time": "2024-03-30T09:46:03.896Z"
   },
   {
    "duration": 187,
    "start_time": "2024-03-30T09:46:34.448Z"
   },
   {
    "duration": 199,
    "start_time": "2024-03-30T09:48:44.646Z"
   },
   {
    "duration": 363,
    "start_time": "2024-03-30T09:51:45.044Z"
   },
   {
    "duration": 485,
    "start_time": "2024-03-30T09:51:58.739Z"
   },
   {
    "duration": 364,
    "start_time": "2024-03-30T09:52:37.219Z"
   },
   {
    "duration": 382,
    "start_time": "2024-03-30T09:52:53.298Z"
   },
   {
    "duration": 386,
    "start_time": "2024-03-30T09:53:14.771Z"
   },
   {
    "duration": 434,
    "start_time": "2024-03-30T09:53:25.692Z"
   },
   {
    "duration": 473,
    "start_time": "2024-03-30T09:54:29.459Z"
   },
   {
    "duration": 394,
    "start_time": "2024-03-30T09:54:47.221Z"
   },
   {
    "duration": 421,
    "start_time": "2024-03-30T09:55:06.799Z"
   },
   {
    "duration": 439,
    "start_time": "2024-03-30T09:55:17.397Z"
   },
   {
    "duration": 363,
    "start_time": "2024-03-30T09:58:55.064Z"
   },
   {
    "duration": 402,
    "start_time": "2024-03-30T09:59:09.041Z"
   },
   {
    "duration": 512,
    "start_time": "2024-03-30T10:01:01.068Z"
   },
   {
    "duration": 412,
    "start_time": "2024-03-30T10:02:45.743Z"
   },
   {
    "duration": 392,
    "start_time": "2024-03-30T10:03:02.784Z"
   },
   {
    "duration": 381,
    "start_time": "2024-03-30T10:04:06.352Z"
   },
   {
    "duration": 357,
    "start_time": "2024-03-30T10:11:06.917Z"
   },
   {
    "duration": 448,
    "start_time": "2024-03-30T10:11:39.507Z"
   },
   {
    "duration": 462,
    "start_time": "2024-03-30T10:17:24.170Z"
   },
   {
    "duration": 382,
    "start_time": "2024-03-30T10:18:31.539Z"
   },
   {
    "duration": 373,
    "start_time": "2024-03-30T10:19:20.357Z"
   },
   {
    "duration": 390,
    "start_time": "2024-03-30T10:19:37.705Z"
   },
   {
    "duration": 183,
    "start_time": "2024-03-30T10:22:23.296Z"
   },
   {
    "duration": 11,
    "start_time": "2024-03-30T10:35:35.201Z"
   },
   {
    "duration": 237,
    "start_time": "2024-03-30T11:21:17.134Z"
   },
   {
    "duration": 323,
    "start_time": "2024-03-30T11:22:40.792Z"
   },
   {
    "duration": 218,
    "start_time": "2024-03-30T11:22:58.580Z"
   },
   {
    "duration": 246,
    "start_time": "2024-03-30T11:23:14.764Z"
   },
   {
    "duration": 84,
    "start_time": "2024-03-30T12:03:12.404Z"
   },
   {
    "duration": 1135,
    "start_time": "2024-03-30T12:03:30.474Z"
   },
   {
    "duration": 135,
    "start_time": "2024-03-30T12:03:31.611Z"
   },
   {
    "duration": 20,
    "start_time": "2024-03-30T12:03:31.749Z"
   },
   {
    "duration": 213,
    "start_time": "2024-03-30T12:03:31.771Z"
   },
   {
    "duration": 5,
    "start_time": "2024-03-30T12:03:31.986Z"
   },
   {
    "duration": 42,
    "start_time": "2024-03-30T12:03:31.992Z"
   },
   {
    "duration": 51,
    "start_time": "2024-03-30T12:03:32.035Z"
   },
   {
    "duration": 28,
    "start_time": "2024-03-30T12:03:32.088Z"
   },
   {
    "duration": 29,
    "start_time": "2024-03-30T12:03:32.117Z"
   },
   {
    "duration": 19,
    "start_time": "2024-03-30T12:03:32.148Z"
   },
   {
    "duration": 5,
    "start_time": "2024-03-30T12:03:32.169Z"
   },
   {
    "duration": 6,
    "start_time": "2024-03-30T12:03:32.176Z"
   },
   {
    "duration": 76,
    "start_time": "2024-03-30T12:03:32.184Z"
   },
   {
    "duration": 25,
    "start_time": "2024-03-30T12:03:32.262Z"
   },
   {
    "duration": 42,
    "start_time": "2024-03-30T12:03:32.289Z"
   },
   {
    "duration": 21,
    "start_time": "2024-03-30T12:03:32.333Z"
   },
   {
    "duration": 66,
    "start_time": "2024-03-30T12:03:32.356Z"
   },
   {
    "duration": 806,
    "start_time": "2024-03-30T12:03:32.424Z"
   },
   {
    "duration": 8,
    "start_time": "2024-03-30T12:03:33.232Z"
   },
   {
    "duration": 289,
    "start_time": "2024-03-30T12:03:33.242Z"
   },
   {
    "duration": 118,
    "start_time": "2024-03-30T12:03:33.533Z"
   },
   {
    "duration": 69,
    "start_time": "2024-03-30T12:03:33.652Z"
   },
   {
    "duration": 1408,
    "start_time": "2024-03-30T12:03:33.723Z"
   },
   {
    "duration": 704,
    "start_time": "2024-03-30T12:03:35.133Z"
   },
   {
    "duration": 399,
    "start_time": "2024-03-30T12:03:35.838Z"
   },
   {
    "duration": 283,
    "start_time": "2024-03-30T12:03:36.239Z"
   },
   {
    "duration": 274,
    "start_time": "2024-03-30T12:03:36.524Z"
   },
   {
    "duration": 15,
    "start_time": "2024-03-30T12:03:36.801Z"
   },
   {
    "duration": 304,
    "start_time": "2024-03-30T12:03:36.818Z"
   },
   {
    "duration": 305,
    "start_time": "2024-03-30T12:03:37.124Z"
   },
   {
    "duration": 319,
    "start_time": "2024-03-30T12:03:37.431Z"
   },
   {
    "duration": 279,
    "start_time": "2024-03-30T12:03:37.752Z"
   },
   {
    "duration": 314,
    "start_time": "2024-03-30T12:03:38.032Z"
   },
   {
    "duration": 281,
    "start_time": "2024-03-30T12:03:38.347Z"
   },
   {
    "duration": 317,
    "start_time": "2024-03-30T12:03:38.630Z"
   },
   {
    "duration": 399,
    "start_time": "2024-03-30T12:03:38.949Z"
   },
   {
    "duration": 411,
    "start_time": "2024-03-30T12:03:39.350Z"
   },
   {
    "duration": 416,
    "start_time": "2024-03-30T12:03:39.763Z"
   },
   {
    "duration": 10,
    "start_time": "2024-03-30T12:03:40.180Z"
   },
   {
    "duration": 23,
    "start_time": "2024-03-30T12:03:40.192Z"
   },
   {
    "duration": 10,
    "start_time": "2024-03-30T12:03:40.216Z"
   },
   {
    "duration": 9,
    "start_time": "2024-03-30T12:03:40.227Z"
   },
   {
    "duration": 1194,
    "start_time": "2024-03-30T12:20:41.140Z"
   },
   {
    "duration": 161,
    "start_time": "2024-03-30T12:20:42.336Z"
   },
   {
    "duration": 19,
    "start_time": "2024-03-30T12:20:42.499Z"
   },
   {
    "duration": 189,
    "start_time": "2024-03-30T12:20:42.520Z"
   },
   {
    "duration": 5,
    "start_time": "2024-03-30T12:20:42.710Z"
   },
   {
    "duration": 24,
    "start_time": "2024-03-30T12:20:42.717Z"
   },
   {
    "duration": 65,
    "start_time": "2024-03-30T12:20:42.743Z"
   },
   {
    "duration": 18,
    "start_time": "2024-03-30T12:20:42.810Z"
   },
   {
    "duration": 31,
    "start_time": "2024-03-30T12:20:42.830Z"
   },
   {
    "duration": 20,
    "start_time": "2024-03-30T12:20:42.871Z"
   },
   {
    "duration": 16,
    "start_time": "2024-03-30T12:20:42.892Z"
   },
   {
    "duration": 13,
    "start_time": "2024-03-30T12:20:42.910Z"
   },
   {
    "duration": 42,
    "start_time": "2024-03-30T12:20:42.924Z"
   },
   {
    "duration": 17,
    "start_time": "2024-03-30T12:20:42.967Z"
   },
   {
    "duration": 31,
    "start_time": "2024-03-30T12:20:42.986Z"
   },
   {
    "duration": 19,
    "start_time": "2024-03-30T12:20:43.019Z"
   },
   {
    "duration": 55,
    "start_time": "2024-03-30T12:20:43.040Z"
   },
   {
    "duration": 787,
    "start_time": "2024-03-30T12:20:43.096Z"
   },
   {
    "duration": 8,
    "start_time": "2024-03-30T12:20:43.885Z"
   },
   {
    "duration": 191,
    "start_time": "2024-03-30T12:20:43.894Z"
   },
   {
    "duration": 52,
    "start_time": "2024-03-30T12:20:44.087Z"
   },
   {
    "duration": 11,
    "start_time": "2024-03-30T12:20:44.141Z"
   },
   {
    "duration": 711,
    "start_time": "2024-03-30T12:20:44.170Z"
   },
   {
    "duration": 749,
    "start_time": "2024-03-30T12:20:44.882Z"
   },
   {
    "duration": 393,
    "start_time": "2024-03-30T12:20:45.632Z"
   },
   {
    "duration": 272,
    "start_time": "2024-03-30T12:20:46.027Z"
   },
   {
    "duration": 276,
    "start_time": "2024-03-30T12:20:46.301Z"
   },
   {
    "duration": 10,
    "start_time": "2024-03-30T12:20:46.580Z"
   },
   {
    "duration": 281,
    "start_time": "2024-03-30T12:20:46.591Z"
   },
   {
    "duration": 288,
    "start_time": "2024-03-30T12:20:46.874Z"
   },
   {
    "duration": 288,
    "start_time": "2024-03-30T12:20:47.163Z"
   },
   {
    "duration": 278,
    "start_time": "2024-03-30T12:20:47.454Z"
   },
   {
    "duration": 297,
    "start_time": "2024-03-30T12:20:47.734Z"
   },
   {
    "duration": 280,
    "start_time": "2024-03-30T12:20:48.033Z"
   },
   {
    "duration": 318,
    "start_time": "2024-03-30T12:20:48.314Z"
   },
   {
    "duration": 387,
    "start_time": "2024-03-30T12:20:48.634Z"
   },
   {
    "duration": 412,
    "start_time": "2024-03-30T12:20:49.022Z"
   },
   {
    "duration": 427,
    "start_time": "2024-03-30T12:20:49.435Z"
   },
   {
    "duration": 12,
    "start_time": "2024-03-30T12:20:49.864Z"
   },
   {
    "duration": 13,
    "start_time": "2024-03-30T12:20:49.878Z"
   },
   {
    "duration": 15,
    "start_time": "2024-03-30T12:20:49.892Z"
   },
   {
    "duration": 10,
    "start_time": "2024-03-30T12:20:49.908Z"
   },
   {
    "duration": 1164,
    "start_time": "2024-03-30T13:13:48.474Z"
   },
   {
    "duration": 180,
    "start_time": "2024-03-30T13:13:49.640Z"
   },
   {
    "duration": 21,
    "start_time": "2024-03-30T13:13:49.822Z"
   },
   {
    "duration": 227,
    "start_time": "2024-03-30T13:13:49.844Z"
   },
   {
    "duration": 5,
    "start_time": "2024-03-30T13:13:50.074Z"
   },
   {
    "duration": 27,
    "start_time": "2024-03-30T13:13:50.080Z"
   },
   {
    "duration": 64,
    "start_time": "2024-03-30T13:13:50.109Z"
   },
   {
    "duration": 18,
    "start_time": "2024-03-30T13:13:50.174Z"
   },
   {
    "duration": 19,
    "start_time": "2024-03-30T13:13:50.194Z"
   },
   {
    "duration": 15,
    "start_time": "2024-03-30T13:13:50.215Z"
   },
   {
    "duration": 38,
    "start_time": "2024-03-30T13:13:50.231Z"
   },
   {
    "duration": 6,
    "start_time": "2024-03-30T13:13:50.271Z"
   },
   {
    "duration": 36,
    "start_time": "2024-03-30T13:13:50.278Z"
   },
   {
    "duration": 16,
    "start_time": "2024-03-30T13:13:50.317Z"
   },
   {
    "duration": 40,
    "start_time": "2024-03-30T13:13:50.335Z"
   },
   {
    "duration": 22,
    "start_time": "2024-03-30T13:13:50.377Z"
   },
   {
    "duration": 46,
    "start_time": "2024-03-30T13:13:50.401Z"
   },
   {
    "duration": 787,
    "start_time": "2024-03-30T13:13:50.470Z"
   },
   {
    "duration": 13,
    "start_time": "2024-03-30T13:13:51.258Z"
   },
   {
    "duration": 159,
    "start_time": "2024-03-30T13:13:51.273Z"
   },
   {
    "duration": 65,
    "start_time": "2024-03-30T13:13:51.433Z"
   },
   {
    "duration": 9,
    "start_time": "2024-03-30T13:13:51.500Z"
   },
   {
    "duration": 743,
    "start_time": "2024-03-30T13:13:51.511Z"
   },
   {
    "duration": 710,
    "start_time": "2024-03-30T13:13:52.258Z"
   },
   {
    "duration": 384,
    "start_time": "2024-03-30T13:13:52.970Z"
   },
   {
    "duration": 264,
    "start_time": "2024-03-30T13:13:53.356Z"
   },
   {
    "duration": 261,
    "start_time": "2024-03-30T13:13:53.622Z"
   },
   {
    "duration": 9,
    "start_time": "2024-03-30T13:13:53.885Z"
   },
   {
    "duration": 268,
    "start_time": "2024-03-30T13:13:53.896Z"
   },
   {
    "duration": 287,
    "start_time": "2024-03-30T13:13:54.169Z"
   },
   {
    "duration": 289,
    "start_time": "2024-03-30T13:13:54.458Z"
   },
   {
    "duration": 259,
    "start_time": "2024-03-30T13:13:54.749Z"
   },
   {
    "duration": 291,
    "start_time": "2024-03-30T13:13:55.009Z"
   },
   {
    "duration": 278,
    "start_time": "2024-03-30T13:13:55.302Z"
   },
   {
    "duration": 324,
    "start_time": "2024-03-30T13:13:55.581Z"
   },
   {
    "duration": 385,
    "start_time": "2024-03-30T13:13:55.906Z"
   },
   {
    "duration": 409,
    "start_time": "2024-03-30T13:13:56.293Z"
   },
   {
    "duration": 400,
    "start_time": "2024-03-30T13:13:56.704Z"
   },
   {
    "duration": 11,
    "start_time": "2024-03-30T13:13:57.106Z"
   },
   {
    "duration": 15,
    "start_time": "2024-03-30T13:13:57.118Z"
   },
   {
    "duration": 15,
    "start_time": "2024-03-30T13:13:57.136Z"
   },
   {
    "duration": 21,
    "start_time": "2024-03-30T13:13:57.152Z"
   }
  ],
  "kernelspec": {
   "display_name": "Python 3 (ipykernel)",
   "language": "python",
   "name": "python3"
  },
  "language_info": {
   "codemirror_mode": {
    "name": "ipython",
    "version": 3
   },
   "file_extension": ".py",
   "mimetype": "text/x-python",
   "name": "python",
   "nbconvert_exporter": "python",
   "pygments_lexer": "ipython3",
   "version": "3.9.5"
  },
  "toc": {
   "base_numbering": 1,
   "nav_menu": {},
   "number_sections": true,
   "sideBar": true,
   "skip_h1_title": true,
   "title_cell": "Table of Contents",
   "title_sidebar": "Contents",
   "toc_cell": false,
   "toc_position": {},
   "toc_section_display": true,
   "toc_window_display": true
  },
  "varInspector": {
   "cols": {
    "lenName": 16,
    "lenType": 16,
    "lenVar": 40
   },
   "kernels_config": {
    "python": {
     "delete_cmd_postfix": "",
     "delete_cmd_prefix": "del ",
     "library": "var_list.py",
     "varRefreshCmd": "print(var_dic_list())"
    },
    "r": {
     "delete_cmd_postfix": ") ",
     "delete_cmd_prefix": "rm(",
     "library": "var_list.r",
     "varRefreshCmd": "cat(var_dic_list()) "
    }
   },
   "types_to_exclude": [
    "module",
    "function",
    "builtin_function_or_method",
    "instance",
    "_Feature"
   ],
   "window_display": false
  }
 },
 "nbformat": 4,
 "nbformat_minor": 4
}
